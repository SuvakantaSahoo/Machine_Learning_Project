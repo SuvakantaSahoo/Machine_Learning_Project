{
 "cells": [
  {
   "cell_type": "markdown",
   "id": "73929bce",
   "metadata": {},
   "source": [
    "### Import Requirements"
   ]
  },
  {
   "cell_type": "code",
   "execution_count": 1,
   "id": "38e90c18",
   "metadata": {},
   "outputs": [],
   "source": [
    "import numpy as np\n",
    "import pandas as pd\n",
    "import matplotlib.pyplot as plt\n",
    "import seaborn as sns\n",
    "import regex as re\n",
    "from scipy import stats\n",
    "import sklearn\n",
    "from sklearn import metrics\n",
    "import ipywidgets as widgets\n",
    "from ipywidgets import interact, interact_manual\n",
    "pd.set_option('display.max_columns',None)"
   ]
  },
  {
   "cell_type": "code",
   "execution_count": 2,
   "id": "da35acef",
   "metadata": {},
   "outputs": [
    {
     "data": {
      "text/html": [
       "<div>\n",
       "<style scoped>\n",
       "    .dataframe tbody tr th:only-of-type {\n",
       "        vertical-align: middle;\n",
       "    }\n",
       "\n",
       "    .dataframe tbody tr th {\n",
       "        vertical-align: top;\n",
       "    }\n",
       "\n",
       "    .dataframe thead th {\n",
       "        text-align: right;\n",
       "    }\n",
       "</style>\n",
       "<table border=\"1\" class=\"dataframe\">\n",
       "  <thead>\n",
       "    <tr style=\"text-align: right;\">\n",
       "      <th></th>\n",
       "      <th>Product</th>\n",
       "      <th>Rating</th>\n",
       "      <th>MRP</th>\n",
       "      <th>Feature</th>\n",
       "    </tr>\n",
       "  </thead>\n",
       "  <tbody>\n",
       "    <tr>\n",
       "      <th>0</th>\n",
       "      <td>Lenovo IdeaPad 3 Core i3 11th Gen - (8 GB/256 ...</td>\n",
       "      <td>4.2</td>\n",
       "      <td>₹36,990</td>\n",
       "      <td>Intel Core i3 Processor (11th Gen)8 GB DDR4 RA...</td>\n",
       "    </tr>\n",
       "    <tr>\n",
       "      <th>1</th>\n",
       "      <td>Lenovo IdeaPad 3 Core i3 11th Gen - (8 GB/512 ...</td>\n",
       "      <td>4.2</td>\n",
       "      <td>₹39,990</td>\n",
       "      <td>Intel Core i3 Processor (11th Gen)8 GB DDR4 RA...</td>\n",
       "    </tr>\n",
       "    <tr>\n",
       "      <th>2</th>\n",
       "      <td>ASUS VivoBook 15 (2022) Core i3 10th Gen - (8 ...</td>\n",
       "      <td>4.3</td>\n",
       "      <td>₹32,990</td>\n",
       "      <td>Intel Core i3 Processor (10th Gen)8 GB DDR4 RA...</td>\n",
       "    </tr>\n",
       "    <tr>\n",
       "      <th>3</th>\n",
       "      <td>HP Pavilion Ryzen 5 Hexa Core AMD R5-5600H - (...</td>\n",
       "      <td>4.4</td>\n",
       "      <td>₹49,990</td>\n",
       "      <td>AMD Ryzen 5 Hexa Core Processor8 GB DDR4 RAM64...</td>\n",
       "    </tr>\n",
       "    <tr>\n",
       "      <th>4</th>\n",
       "      <td>ASUS TUF Gaming F15 Core i5 10th Gen - (8 GB/5...</td>\n",
       "      <td>4.4</td>\n",
       "      <td>₹49,990</td>\n",
       "      <td>Intel Core i5 Processor (10th Gen)8 GB DDR4 RA...</td>\n",
       "    </tr>\n",
       "  </tbody>\n",
       "</table>\n",
       "</div>"
      ],
      "text/plain": [
       "                                             Product  Rating      MRP  \\\n",
       "0  Lenovo IdeaPad 3 Core i3 11th Gen - (8 GB/256 ...     4.2  ₹36,990   \n",
       "1  Lenovo IdeaPad 3 Core i3 11th Gen - (8 GB/512 ...     4.2  ₹39,990   \n",
       "2  ASUS VivoBook 15 (2022) Core i3 10th Gen - (8 ...     4.3  ₹32,990   \n",
       "3  HP Pavilion Ryzen 5 Hexa Core AMD R5-5600H - (...     4.4  ₹49,990   \n",
       "4  ASUS TUF Gaming F15 Core i5 10th Gen - (8 GB/5...     4.4  ₹49,990   \n",
       "\n",
       "                                             Feature  \n",
       "0  Intel Core i3 Processor (11th Gen)8 GB DDR4 RA...  \n",
       "1  Intel Core i3 Processor (11th Gen)8 GB DDR4 RA...  \n",
       "2  Intel Core i3 Processor (10th Gen)8 GB DDR4 RA...  \n",
       "3  AMD Ryzen 5 Hexa Core Processor8 GB DDR4 RAM64...  \n",
       "4  Intel Core i5 Processor (10th Gen)8 GB DDR4 RA...  "
      ]
     },
     "execution_count": 2,
     "metadata": {},
     "output_type": "execute_result"
    }
   ],
   "source": [
    "dt=pd.read_csv('laptop_details.csv')\n",
    "dt.head()"
   ]
  },
  {
   "cell_type": "code",
   "execution_count": 3,
   "id": "4550ce3b",
   "metadata": {},
   "outputs": [
    {
     "name": "stdout",
     "output_type": "stream",
     "text": [
      "Intel Core i3 Processor (11th Gen)8 GB DDR4 RAM64 bit Windows 11 Operating System256 GB SSD35.56 cm (14 inch) DisplayOffice Home and Student 20212 Year Onsite�Warranty\n",
      "Intel Core i3 Processor (10th Gen)8 GB DDR4 RAM64 bit Windows 11 Operating System512 GB SSD39.62 cm (15.6 inch) DisplayOffice Home and Student 20211 Year Onsite Warranty\n",
      "Processor: Intel i3-1115G4 (Base- 1.70 GHz & Turbo up to 4.10 GHz) 2 CoresRAM & Storage: 8GB DDR4 & 1TB + 256GB SSDGraphics & Keyboard: Integrated & Standard KeyboardDisplay: 15.6\" FHD WVA AG Narrow BorderPorts: 2x USB 3.2 Gen1 ,1x USB 2.0, HDMI 1.4, SD Card reader, Audio jack, 1 M.2 2230/2280 slot for solid-state drive/Intel OptaneIntel Core i3 Processor (11th Gen)8 GB DDR4 RAMWindows 11 Operating System1 TB HDD|256 GB SSD39.62 cm (15.6 inch) Display1 YEAR\n"
     ]
    }
   ],
   "source": [
    "print(dt['Feature'][0])\n",
    "print(dt['Feature'][2])\n",
    "print(dt['Feature'][6])"
   ]
  },
  {
   "cell_type": "code",
   "execution_count": 4,
   "id": "d5db943c",
   "metadata": {},
   "outputs": [],
   "source": [
    "# Processor Information\n",
    "\n",
    "regex = r'^(?:AMD|Intel|M1)[\\s\\w]+Processor'\n",
    "\n",
    "dt['Processor'] = dt['Feature'].apply(lambda x : re.findall(regex, x))"
   ]
  },
  {
   "cell_type": "code",
   "execution_count": 5,
   "id": "331e778a",
   "metadata": {},
   "outputs": [
    {
     "data": {
      "text/html": [
       "<div>\n",
       "<style scoped>\n",
       "    .dataframe tbody tr th:only-of-type {\n",
       "        vertical-align: middle;\n",
       "    }\n",
       "\n",
       "    .dataframe tbody tr th {\n",
       "        vertical-align: top;\n",
       "    }\n",
       "\n",
       "    .dataframe thead th {\n",
       "        text-align: right;\n",
       "    }\n",
       "</style>\n",
       "<table border=\"1\" class=\"dataframe\">\n",
       "  <thead>\n",
       "    <tr style=\"text-align: right;\">\n",
       "      <th></th>\n",
       "      <th>Product</th>\n",
       "      <th>Rating</th>\n",
       "      <th>MRP</th>\n",
       "      <th>Feature</th>\n",
       "      <th>Processor</th>\n",
       "    </tr>\n",
       "  </thead>\n",
       "  <tbody>\n",
       "    <tr>\n",
       "      <th>0</th>\n",
       "      <td>Lenovo IdeaPad 3 Core i3 11th Gen - (8 GB/256 ...</td>\n",
       "      <td>4.2</td>\n",
       "      <td>₹36,990</td>\n",
       "      <td>Intel Core i3 Processor (11th Gen)8 GB DDR4 RA...</td>\n",
       "      <td>[Intel Core i3 Processor]</td>\n",
       "    </tr>\n",
       "    <tr>\n",
       "      <th>1</th>\n",
       "      <td>Lenovo IdeaPad 3 Core i3 11th Gen - (8 GB/512 ...</td>\n",
       "      <td>4.2</td>\n",
       "      <td>₹39,990</td>\n",
       "      <td>Intel Core i3 Processor (11th Gen)8 GB DDR4 RA...</td>\n",
       "      <td>[Intel Core i3 Processor]</td>\n",
       "    </tr>\n",
       "    <tr>\n",
       "      <th>2</th>\n",
       "      <td>ASUS VivoBook 15 (2022) Core i3 10th Gen - (8 ...</td>\n",
       "      <td>4.3</td>\n",
       "      <td>₹32,990</td>\n",
       "      <td>Intel Core i3 Processor (10th Gen)8 GB DDR4 RA...</td>\n",
       "      <td>[Intel Core i3 Processor]</td>\n",
       "    </tr>\n",
       "    <tr>\n",
       "      <th>3</th>\n",
       "      <td>HP Pavilion Ryzen 5 Hexa Core AMD R5-5600H - (...</td>\n",
       "      <td>4.4</td>\n",
       "      <td>₹49,990</td>\n",
       "      <td>AMD Ryzen 5 Hexa Core Processor8 GB DDR4 RAM64...</td>\n",
       "      <td>[AMD Ryzen 5 Hexa Core Processor]</td>\n",
       "    </tr>\n",
       "    <tr>\n",
       "      <th>4</th>\n",
       "      <td>ASUS TUF Gaming F15 Core i5 10th Gen - (8 GB/5...</td>\n",
       "      <td>4.4</td>\n",
       "      <td>₹49,990</td>\n",
       "      <td>Intel Core i5 Processor (10th Gen)8 GB DDR4 RA...</td>\n",
       "      <td>[Intel Core i5 Processor]</td>\n",
       "    </tr>\n",
       "  </tbody>\n",
       "</table>\n",
       "</div>"
      ],
      "text/plain": [
       "                                             Product  Rating      MRP  \\\n",
       "0  Lenovo IdeaPad 3 Core i3 11th Gen - (8 GB/256 ...     4.2  ₹36,990   \n",
       "1  Lenovo IdeaPad 3 Core i3 11th Gen - (8 GB/512 ...     4.2  ₹39,990   \n",
       "2  ASUS VivoBook 15 (2022) Core i3 10th Gen - (8 ...     4.3  ₹32,990   \n",
       "3  HP Pavilion Ryzen 5 Hexa Core AMD R5-5600H - (...     4.4  ₹49,990   \n",
       "4  ASUS TUF Gaming F15 Core i5 10th Gen - (8 GB/5...     4.4  ₹49,990   \n",
       "\n",
       "                                             Feature  \\\n",
       "0  Intel Core i3 Processor (11th Gen)8 GB DDR4 RA...   \n",
       "1  Intel Core i3 Processor (11th Gen)8 GB DDR4 RA...   \n",
       "2  Intel Core i3 Processor (10th Gen)8 GB DDR4 RA...   \n",
       "3  AMD Ryzen 5 Hexa Core Processor8 GB DDR4 RAM64...   \n",
       "4  Intel Core i5 Processor (10th Gen)8 GB DDR4 RA...   \n",
       "\n",
       "                           Processor  \n",
       "0          [Intel Core i3 Processor]  \n",
       "1          [Intel Core i3 Processor]  \n",
       "2          [Intel Core i3 Processor]  \n",
       "3  [AMD Ryzen 5 Hexa Core Processor]  \n",
       "4          [Intel Core i5 Processor]  "
      ]
     },
     "execution_count": 5,
     "metadata": {},
     "output_type": "execute_result"
    }
   ],
   "source": [
    "dt.head()"
   ]
  },
  {
   "cell_type": "code",
   "execution_count": 6,
   "id": "2419756d",
   "metadata": {},
   "outputs": [],
   "source": [
    "# RAM Information\n",
    "\n",
    "regex = r'\\d+\\sGB[\\s\\w]+RAM'\n",
    "\n",
    "dt['RAM'] = dt['Feature'].apply(lambda x : re.findall(regex, x))"
   ]
  },
  {
   "cell_type": "code",
   "execution_count": 7,
   "id": "a98bea53",
   "metadata": {},
   "outputs": [
    {
     "data": {
      "text/html": [
       "<div>\n",
       "<style scoped>\n",
       "    .dataframe tbody tr th:only-of-type {\n",
       "        vertical-align: middle;\n",
       "    }\n",
       "\n",
       "    .dataframe tbody tr th {\n",
       "        vertical-align: top;\n",
       "    }\n",
       "\n",
       "    .dataframe thead th {\n",
       "        text-align: right;\n",
       "    }\n",
       "</style>\n",
       "<table border=\"1\" class=\"dataframe\">\n",
       "  <thead>\n",
       "    <tr style=\"text-align: right;\">\n",
       "      <th></th>\n",
       "      <th>Product</th>\n",
       "      <th>Rating</th>\n",
       "      <th>MRP</th>\n",
       "      <th>Feature</th>\n",
       "      <th>Processor</th>\n",
       "      <th>RAM</th>\n",
       "    </tr>\n",
       "  </thead>\n",
       "  <tbody>\n",
       "    <tr>\n",
       "      <th>0</th>\n",
       "      <td>Lenovo IdeaPad 3 Core i3 11th Gen - (8 GB/256 ...</td>\n",
       "      <td>4.2</td>\n",
       "      <td>₹36,990</td>\n",
       "      <td>Intel Core i3 Processor (11th Gen)8 GB DDR4 RA...</td>\n",
       "      <td>[Intel Core i3 Processor]</td>\n",
       "      <td>[8 GB DDR4 RAM]</td>\n",
       "    </tr>\n",
       "    <tr>\n",
       "      <th>1</th>\n",
       "      <td>Lenovo IdeaPad 3 Core i3 11th Gen - (8 GB/512 ...</td>\n",
       "      <td>4.2</td>\n",
       "      <td>₹39,990</td>\n",
       "      <td>Intel Core i3 Processor (11th Gen)8 GB DDR4 RA...</td>\n",
       "      <td>[Intel Core i3 Processor]</td>\n",
       "      <td>[8 GB DDR4 RAM]</td>\n",
       "    </tr>\n",
       "    <tr>\n",
       "      <th>2</th>\n",
       "      <td>ASUS VivoBook 15 (2022) Core i3 10th Gen - (8 ...</td>\n",
       "      <td>4.3</td>\n",
       "      <td>₹32,990</td>\n",
       "      <td>Intel Core i3 Processor (10th Gen)8 GB DDR4 RA...</td>\n",
       "      <td>[Intel Core i3 Processor]</td>\n",
       "      <td>[8 GB DDR4 RAM]</td>\n",
       "    </tr>\n",
       "    <tr>\n",
       "      <th>3</th>\n",
       "      <td>HP Pavilion Ryzen 5 Hexa Core AMD R5-5600H - (...</td>\n",
       "      <td>4.4</td>\n",
       "      <td>₹49,990</td>\n",
       "      <td>AMD Ryzen 5 Hexa Core Processor8 GB DDR4 RAM64...</td>\n",
       "      <td>[AMD Ryzen 5 Hexa Core Processor]</td>\n",
       "      <td>[8 GB DDR4 RAM]</td>\n",
       "    </tr>\n",
       "    <tr>\n",
       "      <th>4</th>\n",
       "      <td>ASUS TUF Gaming F15 Core i5 10th Gen - (8 GB/5...</td>\n",
       "      <td>4.4</td>\n",
       "      <td>₹49,990</td>\n",
       "      <td>Intel Core i5 Processor (10th Gen)8 GB DDR4 RA...</td>\n",
       "      <td>[Intel Core i5 Processor]</td>\n",
       "      <td>[8 GB DDR4 RAM]</td>\n",
       "    </tr>\n",
       "  </tbody>\n",
       "</table>\n",
       "</div>"
      ],
      "text/plain": [
       "                                             Product  Rating      MRP  \\\n",
       "0  Lenovo IdeaPad 3 Core i3 11th Gen - (8 GB/256 ...     4.2  ₹36,990   \n",
       "1  Lenovo IdeaPad 3 Core i3 11th Gen - (8 GB/512 ...     4.2  ₹39,990   \n",
       "2  ASUS VivoBook 15 (2022) Core i3 10th Gen - (8 ...     4.3  ₹32,990   \n",
       "3  HP Pavilion Ryzen 5 Hexa Core AMD R5-5600H - (...     4.4  ₹49,990   \n",
       "4  ASUS TUF Gaming F15 Core i5 10th Gen - (8 GB/5...     4.4  ₹49,990   \n",
       "\n",
       "                                             Feature  \\\n",
       "0  Intel Core i3 Processor (11th Gen)8 GB DDR4 RA...   \n",
       "1  Intel Core i3 Processor (11th Gen)8 GB DDR4 RA...   \n",
       "2  Intel Core i3 Processor (10th Gen)8 GB DDR4 RA...   \n",
       "3  AMD Ryzen 5 Hexa Core Processor8 GB DDR4 RAM64...   \n",
       "4  Intel Core i5 Processor (10th Gen)8 GB DDR4 RA...   \n",
       "\n",
       "                           Processor              RAM  \n",
       "0          [Intel Core i3 Processor]  [8 GB DDR4 RAM]  \n",
       "1          [Intel Core i3 Processor]  [8 GB DDR4 RAM]  \n",
       "2          [Intel Core i3 Processor]  [8 GB DDR4 RAM]  \n",
       "3  [AMD Ryzen 5 Hexa Core Processor]  [8 GB DDR4 RAM]  \n",
       "4          [Intel Core i5 Processor]  [8 GB DDR4 RAM]  "
      ]
     },
     "execution_count": 7,
     "metadata": {},
     "output_type": "execute_result"
    }
   ],
   "source": [
    "dt.head()"
   ]
  },
  {
   "cell_type": "code",
   "execution_count": 8,
   "id": "24c24cfe",
   "metadata": {},
   "outputs": [],
   "source": [
    "# OS \n",
    "\n",
    "regex = r'[\\d]+[\\s]bit[\\s\\w]+Operating System'\n",
    "\n",
    "dt['OS'] = dt['Feature'].apply(lambda x : re.findall(regex, x))"
   ]
  },
  {
   "cell_type": "code",
   "execution_count": 9,
   "id": "2b2db7d3",
   "metadata": {},
   "outputs": [
    {
     "data": {
      "text/html": [
       "<div>\n",
       "<style scoped>\n",
       "    .dataframe tbody tr th:only-of-type {\n",
       "        vertical-align: middle;\n",
       "    }\n",
       "\n",
       "    .dataframe tbody tr th {\n",
       "        vertical-align: top;\n",
       "    }\n",
       "\n",
       "    .dataframe thead th {\n",
       "        text-align: right;\n",
       "    }\n",
       "</style>\n",
       "<table border=\"1\" class=\"dataframe\">\n",
       "  <thead>\n",
       "    <tr style=\"text-align: right;\">\n",
       "      <th></th>\n",
       "      <th>Product</th>\n",
       "      <th>Rating</th>\n",
       "      <th>MRP</th>\n",
       "      <th>Feature</th>\n",
       "      <th>Processor</th>\n",
       "      <th>RAM</th>\n",
       "      <th>OS</th>\n",
       "    </tr>\n",
       "  </thead>\n",
       "  <tbody>\n",
       "    <tr>\n",
       "      <th>0</th>\n",
       "      <td>Lenovo IdeaPad 3 Core i3 11th Gen - (8 GB/256 ...</td>\n",
       "      <td>4.2</td>\n",
       "      <td>₹36,990</td>\n",
       "      <td>Intel Core i3 Processor (11th Gen)8 GB DDR4 RA...</td>\n",
       "      <td>[Intel Core i3 Processor]</td>\n",
       "      <td>[8 GB DDR4 RAM]</td>\n",
       "      <td>[64 bit Windows 11 Operating System]</td>\n",
       "    </tr>\n",
       "    <tr>\n",
       "      <th>1</th>\n",
       "      <td>Lenovo IdeaPad 3 Core i3 11th Gen - (8 GB/512 ...</td>\n",
       "      <td>4.2</td>\n",
       "      <td>₹39,990</td>\n",
       "      <td>Intel Core i3 Processor (11th Gen)8 GB DDR4 RA...</td>\n",
       "      <td>[Intel Core i3 Processor]</td>\n",
       "      <td>[8 GB DDR4 RAM]</td>\n",
       "      <td>[64 bit Windows 11 Operating System]</td>\n",
       "    </tr>\n",
       "    <tr>\n",
       "      <th>2</th>\n",
       "      <td>ASUS VivoBook 15 (2022) Core i3 10th Gen - (8 ...</td>\n",
       "      <td>4.3</td>\n",
       "      <td>₹32,990</td>\n",
       "      <td>Intel Core i3 Processor (10th Gen)8 GB DDR4 RA...</td>\n",
       "      <td>[Intel Core i3 Processor]</td>\n",
       "      <td>[8 GB DDR4 RAM]</td>\n",
       "      <td>[64 bit Windows 11 Operating System]</td>\n",
       "    </tr>\n",
       "    <tr>\n",
       "      <th>3</th>\n",
       "      <td>HP Pavilion Ryzen 5 Hexa Core AMD R5-5600H - (...</td>\n",
       "      <td>4.4</td>\n",
       "      <td>₹49,990</td>\n",
       "      <td>AMD Ryzen 5 Hexa Core Processor8 GB DDR4 RAM64...</td>\n",
       "      <td>[AMD Ryzen 5 Hexa Core Processor]</td>\n",
       "      <td>[8 GB DDR4 RAM]</td>\n",
       "      <td>[64 bit Windows 10 Operating System]</td>\n",
       "    </tr>\n",
       "    <tr>\n",
       "      <th>4</th>\n",
       "      <td>ASUS TUF Gaming F15 Core i5 10th Gen - (8 GB/5...</td>\n",
       "      <td>4.4</td>\n",
       "      <td>₹49,990</td>\n",
       "      <td>Intel Core i5 Processor (10th Gen)8 GB DDR4 RA...</td>\n",
       "      <td>[Intel Core i5 Processor]</td>\n",
       "      <td>[8 GB DDR4 RAM]</td>\n",
       "      <td>[]</td>\n",
       "    </tr>\n",
       "  </tbody>\n",
       "</table>\n",
       "</div>"
      ],
      "text/plain": [
       "                                             Product  Rating      MRP  \\\n",
       "0  Lenovo IdeaPad 3 Core i3 11th Gen - (8 GB/256 ...     4.2  ₹36,990   \n",
       "1  Lenovo IdeaPad 3 Core i3 11th Gen - (8 GB/512 ...     4.2  ₹39,990   \n",
       "2  ASUS VivoBook 15 (2022) Core i3 10th Gen - (8 ...     4.3  ₹32,990   \n",
       "3  HP Pavilion Ryzen 5 Hexa Core AMD R5-5600H - (...     4.4  ₹49,990   \n",
       "4  ASUS TUF Gaming F15 Core i5 10th Gen - (8 GB/5...     4.4  ₹49,990   \n",
       "\n",
       "                                             Feature  \\\n",
       "0  Intel Core i3 Processor (11th Gen)8 GB DDR4 RA...   \n",
       "1  Intel Core i3 Processor (11th Gen)8 GB DDR4 RA...   \n",
       "2  Intel Core i3 Processor (10th Gen)8 GB DDR4 RA...   \n",
       "3  AMD Ryzen 5 Hexa Core Processor8 GB DDR4 RAM64...   \n",
       "4  Intel Core i5 Processor (10th Gen)8 GB DDR4 RA...   \n",
       "\n",
       "                           Processor              RAM  \\\n",
       "0          [Intel Core i3 Processor]  [8 GB DDR4 RAM]   \n",
       "1          [Intel Core i3 Processor]  [8 GB DDR4 RAM]   \n",
       "2          [Intel Core i3 Processor]  [8 GB DDR4 RAM]   \n",
       "3  [AMD Ryzen 5 Hexa Core Processor]  [8 GB DDR4 RAM]   \n",
       "4          [Intel Core i5 Processor]  [8 GB DDR4 RAM]   \n",
       "\n",
       "                                     OS  \n",
       "0  [64 bit Windows 11 Operating System]  \n",
       "1  [64 bit Windows 11 Operating System]  \n",
       "2  [64 bit Windows 11 Operating System]  \n",
       "3  [64 bit Windows 10 Operating System]  \n",
       "4                                    []  "
      ]
     },
     "execution_count": 9,
     "metadata": {},
     "output_type": "execute_result"
    }
   ],
   "source": [
    "dt.head()"
   ]
  },
  {
   "cell_type": "code",
   "execution_count": 10,
   "id": "117de7d7",
   "metadata": {},
   "outputs": [],
   "source": [
    "# Storage\n",
    "\n",
    "regex = r'[\\d]+\\s(?:GB|TB)\\s(?:HDD|SSD)'\n",
    "\n",
    "dt['Storage'] = dt['Feature'].apply(lambda x : re.findall(regex, x))"
   ]
  },
  {
   "cell_type": "code",
   "execution_count": 11,
   "id": "600adad6",
   "metadata": {},
   "outputs": [
    {
     "data": {
      "text/html": [
       "<div>\n",
       "<style scoped>\n",
       "    .dataframe tbody tr th:only-of-type {\n",
       "        vertical-align: middle;\n",
       "    }\n",
       "\n",
       "    .dataframe tbody tr th {\n",
       "        vertical-align: top;\n",
       "    }\n",
       "\n",
       "    .dataframe thead th {\n",
       "        text-align: right;\n",
       "    }\n",
       "</style>\n",
       "<table border=\"1\" class=\"dataframe\">\n",
       "  <thead>\n",
       "    <tr style=\"text-align: right;\">\n",
       "      <th></th>\n",
       "      <th>Product</th>\n",
       "      <th>Rating</th>\n",
       "      <th>MRP</th>\n",
       "      <th>Feature</th>\n",
       "      <th>Processor</th>\n",
       "      <th>RAM</th>\n",
       "      <th>OS</th>\n",
       "      <th>Storage</th>\n",
       "    </tr>\n",
       "  </thead>\n",
       "  <tbody>\n",
       "    <tr>\n",
       "      <th>0</th>\n",
       "      <td>Lenovo IdeaPad 3 Core i3 11th Gen - (8 GB/256 ...</td>\n",
       "      <td>4.2</td>\n",
       "      <td>₹36,990</td>\n",
       "      <td>Intel Core i3 Processor (11th Gen)8 GB DDR4 RA...</td>\n",
       "      <td>[Intel Core i3 Processor]</td>\n",
       "      <td>[8 GB DDR4 RAM]</td>\n",
       "      <td>[64 bit Windows 11 Operating System]</td>\n",
       "      <td>[256 GB SSD]</td>\n",
       "    </tr>\n",
       "    <tr>\n",
       "      <th>1</th>\n",
       "      <td>Lenovo IdeaPad 3 Core i3 11th Gen - (8 GB/512 ...</td>\n",
       "      <td>4.2</td>\n",
       "      <td>₹39,990</td>\n",
       "      <td>Intel Core i3 Processor (11th Gen)8 GB DDR4 RA...</td>\n",
       "      <td>[Intel Core i3 Processor]</td>\n",
       "      <td>[8 GB DDR4 RAM]</td>\n",
       "      <td>[64 bit Windows 11 Operating System]</td>\n",
       "      <td>[512 GB SSD]</td>\n",
       "    </tr>\n",
       "    <tr>\n",
       "      <th>2</th>\n",
       "      <td>ASUS VivoBook 15 (2022) Core i3 10th Gen - (8 ...</td>\n",
       "      <td>4.3</td>\n",
       "      <td>₹32,990</td>\n",
       "      <td>Intel Core i3 Processor (10th Gen)8 GB DDR4 RA...</td>\n",
       "      <td>[Intel Core i3 Processor]</td>\n",
       "      <td>[8 GB DDR4 RAM]</td>\n",
       "      <td>[64 bit Windows 11 Operating System]</td>\n",
       "      <td>[512 GB SSD]</td>\n",
       "    </tr>\n",
       "    <tr>\n",
       "      <th>3</th>\n",
       "      <td>HP Pavilion Ryzen 5 Hexa Core AMD R5-5600H - (...</td>\n",
       "      <td>4.4</td>\n",
       "      <td>₹49,990</td>\n",
       "      <td>AMD Ryzen 5 Hexa Core Processor8 GB DDR4 RAM64...</td>\n",
       "      <td>[AMD Ryzen 5 Hexa Core Processor]</td>\n",
       "      <td>[8 GB DDR4 RAM]</td>\n",
       "      <td>[64 bit Windows 10 Operating System]</td>\n",
       "      <td>[512 GB SSD]</td>\n",
       "    </tr>\n",
       "    <tr>\n",
       "      <th>4</th>\n",
       "      <td>ASUS TUF Gaming F15 Core i5 10th Gen - (8 GB/5...</td>\n",
       "      <td>4.4</td>\n",
       "      <td>₹49,990</td>\n",
       "      <td>Intel Core i5 Processor (10th Gen)8 GB DDR4 RA...</td>\n",
       "      <td>[Intel Core i5 Processor]</td>\n",
       "      <td>[8 GB DDR4 RAM]</td>\n",
       "      <td>[]</td>\n",
       "      <td>[512 GB SSD]</td>\n",
       "    </tr>\n",
       "  </tbody>\n",
       "</table>\n",
       "</div>"
      ],
      "text/plain": [
       "                                             Product  Rating      MRP  \\\n",
       "0  Lenovo IdeaPad 3 Core i3 11th Gen - (8 GB/256 ...     4.2  ₹36,990   \n",
       "1  Lenovo IdeaPad 3 Core i3 11th Gen - (8 GB/512 ...     4.2  ₹39,990   \n",
       "2  ASUS VivoBook 15 (2022) Core i3 10th Gen - (8 ...     4.3  ₹32,990   \n",
       "3  HP Pavilion Ryzen 5 Hexa Core AMD R5-5600H - (...     4.4  ₹49,990   \n",
       "4  ASUS TUF Gaming F15 Core i5 10th Gen - (8 GB/5...     4.4  ₹49,990   \n",
       "\n",
       "                                             Feature  \\\n",
       "0  Intel Core i3 Processor (11th Gen)8 GB DDR4 RA...   \n",
       "1  Intel Core i3 Processor (11th Gen)8 GB DDR4 RA...   \n",
       "2  Intel Core i3 Processor (10th Gen)8 GB DDR4 RA...   \n",
       "3  AMD Ryzen 5 Hexa Core Processor8 GB DDR4 RAM64...   \n",
       "4  Intel Core i5 Processor (10th Gen)8 GB DDR4 RA...   \n",
       "\n",
       "                           Processor              RAM  \\\n",
       "0          [Intel Core i3 Processor]  [8 GB DDR4 RAM]   \n",
       "1          [Intel Core i3 Processor]  [8 GB DDR4 RAM]   \n",
       "2          [Intel Core i3 Processor]  [8 GB DDR4 RAM]   \n",
       "3  [AMD Ryzen 5 Hexa Core Processor]  [8 GB DDR4 RAM]   \n",
       "4          [Intel Core i5 Processor]  [8 GB DDR4 RAM]   \n",
       "\n",
       "                                     OS       Storage  \n",
       "0  [64 bit Windows 11 Operating System]  [256 GB SSD]  \n",
       "1  [64 bit Windows 11 Operating System]  [512 GB SSD]  \n",
       "2  [64 bit Windows 11 Operating System]  [512 GB SSD]  \n",
       "3  [64 bit Windows 10 Operating System]  [512 GB SSD]  \n",
       "4                                    []  [512 GB SSD]  "
      ]
     },
     "execution_count": 11,
     "metadata": {},
     "output_type": "execute_result"
    }
   ],
   "source": [
    "dt.head()"
   ]
  },
  {
   "cell_type": "code",
   "execution_count": 12,
   "id": "f783a70b",
   "metadata": {},
   "outputs": [],
   "source": [
    "# Brand\n",
    "\n",
    "regex = r'^\\w+'\n",
    "\n",
    "dt['Brand'] = dt['Product'].apply(lambda x : re.findall(regex, x))"
   ]
  },
  {
   "cell_type": "code",
   "execution_count": 13,
   "id": "8e84c576",
   "metadata": {},
   "outputs": [
    {
     "data": {
      "text/html": [
       "<div>\n",
       "<style scoped>\n",
       "    .dataframe tbody tr th:only-of-type {\n",
       "        vertical-align: middle;\n",
       "    }\n",
       "\n",
       "    .dataframe tbody tr th {\n",
       "        vertical-align: top;\n",
       "    }\n",
       "\n",
       "    .dataframe thead th {\n",
       "        text-align: right;\n",
       "    }\n",
       "</style>\n",
       "<table border=\"1\" class=\"dataframe\">\n",
       "  <thead>\n",
       "    <tr style=\"text-align: right;\">\n",
       "      <th></th>\n",
       "      <th>Product</th>\n",
       "      <th>Rating</th>\n",
       "      <th>MRP</th>\n",
       "      <th>Feature</th>\n",
       "      <th>Processor</th>\n",
       "      <th>RAM</th>\n",
       "      <th>OS</th>\n",
       "      <th>Storage</th>\n",
       "      <th>Brand</th>\n",
       "    </tr>\n",
       "  </thead>\n",
       "  <tbody>\n",
       "    <tr>\n",
       "      <th>0</th>\n",
       "      <td>Lenovo IdeaPad 3 Core i3 11th Gen - (8 GB/256 ...</td>\n",
       "      <td>4.2</td>\n",
       "      <td>₹36,990</td>\n",
       "      <td>Intel Core i3 Processor (11th Gen)8 GB DDR4 RA...</td>\n",
       "      <td>[Intel Core i3 Processor]</td>\n",
       "      <td>[8 GB DDR4 RAM]</td>\n",
       "      <td>[64 bit Windows 11 Operating System]</td>\n",
       "      <td>[256 GB SSD]</td>\n",
       "      <td>[Lenovo]</td>\n",
       "    </tr>\n",
       "    <tr>\n",
       "      <th>1</th>\n",
       "      <td>Lenovo IdeaPad 3 Core i3 11th Gen - (8 GB/512 ...</td>\n",
       "      <td>4.2</td>\n",
       "      <td>₹39,990</td>\n",
       "      <td>Intel Core i3 Processor (11th Gen)8 GB DDR4 RA...</td>\n",
       "      <td>[Intel Core i3 Processor]</td>\n",
       "      <td>[8 GB DDR4 RAM]</td>\n",
       "      <td>[64 bit Windows 11 Operating System]</td>\n",
       "      <td>[512 GB SSD]</td>\n",
       "      <td>[Lenovo]</td>\n",
       "    </tr>\n",
       "    <tr>\n",
       "      <th>2</th>\n",
       "      <td>ASUS VivoBook 15 (2022) Core i3 10th Gen - (8 ...</td>\n",
       "      <td>4.3</td>\n",
       "      <td>₹32,990</td>\n",
       "      <td>Intel Core i3 Processor (10th Gen)8 GB DDR4 RA...</td>\n",
       "      <td>[Intel Core i3 Processor]</td>\n",
       "      <td>[8 GB DDR4 RAM]</td>\n",
       "      <td>[64 bit Windows 11 Operating System]</td>\n",
       "      <td>[512 GB SSD]</td>\n",
       "      <td>[ASUS]</td>\n",
       "    </tr>\n",
       "    <tr>\n",
       "      <th>3</th>\n",
       "      <td>HP Pavilion Ryzen 5 Hexa Core AMD R5-5600H - (...</td>\n",
       "      <td>4.4</td>\n",
       "      <td>₹49,990</td>\n",
       "      <td>AMD Ryzen 5 Hexa Core Processor8 GB DDR4 RAM64...</td>\n",
       "      <td>[AMD Ryzen 5 Hexa Core Processor]</td>\n",
       "      <td>[8 GB DDR4 RAM]</td>\n",
       "      <td>[64 bit Windows 10 Operating System]</td>\n",
       "      <td>[512 GB SSD]</td>\n",
       "      <td>[HP]</td>\n",
       "    </tr>\n",
       "    <tr>\n",
       "      <th>4</th>\n",
       "      <td>ASUS TUF Gaming F15 Core i5 10th Gen - (8 GB/5...</td>\n",
       "      <td>4.4</td>\n",
       "      <td>₹49,990</td>\n",
       "      <td>Intel Core i5 Processor (10th Gen)8 GB DDR4 RA...</td>\n",
       "      <td>[Intel Core i5 Processor]</td>\n",
       "      <td>[8 GB DDR4 RAM]</td>\n",
       "      <td>[]</td>\n",
       "      <td>[512 GB SSD]</td>\n",
       "      <td>[ASUS]</td>\n",
       "    </tr>\n",
       "  </tbody>\n",
       "</table>\n",
       "</div>"
      ],
      "text/plain": [
       "                                             Product  Rating      MRP  \\\n",
       "0  Lenovo IdeaPad 3 Core i3 11th Gen - (8 GB/256 ...     4.2  ₹36,990   \n",
       "1  Lenovo IdeaPad 3 Core i3 11th Gen - (8 GB/512 ...     4.2  ₹39,990   \n",
       "2  ASUS VivoBook 15 (2022) Core i3 10th Gen - (8 ...     4.3  ₹32,990   \n",
       "3  HP Pavilion Ryzen 5 Hexa Core AMD R5-5600H - (...     4.4  ₹49,990   \n",
       "4  ASUS TUF Gaming F15 Core i5 10th Gen - (8 GB/5...     4.4  ₹49,990   \n",
       "\n",
       "                                             Feature  \\\n",
       "0  Intel Core i3 Processor (11th Gen)8 GB DDR4 RA...   \n",
       "1  Intel Core i3 Processor (11th Gen)8 GB DDR4 RA...   \n",
       "2  Intel Core i3 Processor (10th Gen)8 GB DDR4 RA...   \n",
       "3  AMD Ryzen 5 Hexa Core Processor8 GB DDR4 RAM64...   \n",
       "4  Intel Core i5 Processor (10th Gen)8 GB DDR4 RA...   \n",
       "\n",
       "                           Processor              RAM  \\\n",
       "0          [Intel Core i3 Processor]  [8 GB DDR4 RAM]   \n",
       "1          [Intel Core i3 Processor]  [8 GB DDR4 RAM]   \n",
       "2          [Intel Core i3 Processor]  [8 GB DDR4 RAM]   \n",
       "3  [AMD Ryzen 5 Hexa Core Processor]  [8 GB DDR4 RAM]   \n",
       "4          [Intel Core i5 Processor]  [8 GB DDR4 RAM]   \n",
       "\n",
       "                                     OS       Storage     Brand  \n",
       "0  [64 bit Windows 11 Operating System]  [256 GB SSD]  [Lenovo]  \n",
       "1  [64 bit Windows 11 Operating System]  [512 GB SSD]  [Lenovo]  \n",
       "2  [64 bit Windows 11 Operating System]  [512 GB SSD]    [ASUS]  \n",
       "3  [64 bit Windows 10 Operating System]  [512 GB SSD]      [HP]  \n",
       "4                                    []  [512 GB SSD]    [ASUS]  "
      ]
     },
     "execution_count": 13,
     "metadata": {},
     "output_type": "execute_result"
    }
   ],
   "source": [
    "dt.head()"
   ]
  },
  {
   "cell_type": "markdown",
   "id": "c0bfbe79",
   "metadata": {},
   "source": [
    "### Exploratory Data Analysis"
   ]
  },
  {
   "cell_type": "code",
   "execution_count": 14,
   "id": "4cceb344",
   "metadata": {},
   "outputs": [
    {
     "name": "stdout",
     "output_type": "stream",
     "text": [
      "<class 'pandas.core.frame.DataFrame'>\n",
      "RangeIndex: 720 entries, 0 to 719\n",
      "Data columns (total 9 columns):\n",
      " #   Column     Non-Null Count  Dtype  \n",
      "---  ------     --------------  -----  \n",
      " 0   Product    720 non-null    object \n",
      " 1   Rating     581 non-null    float64\n",
      " 2   MRP        720 non-null    object \n",
      " 3   Feature    720 non-null    object \n",
      " 4   Processor  720 non-null    object \n",
      " 5   RAM        720 non-null    object \n",
      " 6   OS         720 non-null    object \n",
      " 7   Storage    720 non-null    object \n",
      " 8   Brand      720 non-null    object \n",
      "dtypes: float64(1), object(8)\n",
      "memory usage: 50.8+ KB\n"
     ]
    }
   ],
   "source": [
    "dt.info()"
   ]
  },
  {
   "cell_type": "code",
   "execution_count": 15,
   "id": "d3d80897",
   "metadata": {},
   "outputs": [
    {
     "data": {
      "text/plain": [
       "Product        0\n",
       "Rating       139\n",
       "MRP            0\n",
       "Feature        0\n",
       "Processor      0\n",
       "RAM            0\n",
       "OS             0\n",
       "Storage        0\n",
       "Brand          0\n",
       "dtype: int64"
      ]
     },
     "execution_count": 15,
     "metadata": {},
     "output_type": "execute_result"
    }
   ],
   "source": [
    "# Missing Values\n",
    "\n",
    "dt.isnull().sum()"
   ]
  },
  {
   "cell_type": "code",
   "execution_count": 16,
   "id": "d83fd03f",
   "metadata": {},
   "outputs": [
    {
     "data": {
      "text/html": [
       "<div>\n",
       "<style scoped>\n",
       "    .dataframe tbody tr th:only-of-type {\n",
       "        vertical-align: middle;\n",
       "    }\n",
       "\n",
       "    .dataframe tbody tr th {\n",
       "        vertical-align: top;\n",
       "    }\n",
       "\n",
       "    .dataframe thead th {\n",
       "        text-align: right;\n",
       "    }\n",
       "</style>\n",
       "<table border=\"1\" class=\"dataframe\">\n",
       "  <thead>\n",
       "    <tr style=\"text-align: right;\">\n",
       "      <th></th>\n",
       "      <th>Product</th>\n",
       "      <th>Rating</th>\n",
       "      <th>MRP</th>\n",
       "      <th>Feature</th>\n",
       "      <th>Processor</th>\n",
       "      <th>RAM</th>\n",
       "      <th>OS</th>\n",
       "      <th>Storage</th>\n",
       "      <th>Brand</th>\n",
       "    </tr>\n",
       "  </thead>\n",
       "  <tbody>\n",
       "    <tr>\n",
       "      <th>0</th>\n",
       "      <td>Lenovo IdeaPad 3 Core i3 11th Gen - (8 GB/256 ...</td>\n",
       "      <td>4.2</td>\n",
       "      <td>₹36,990</td>\n",
       "      <td>Intel Core i3 Processor (11th Gen)8 GB DDR4 RA...</td>\n",
       "      <td>[Intel Core i3 Processor]</td>\n",
       "      <td>[8 GB DDR4 RAM]</td>\n",
       "      <td>[64 bit Windows 11 Operating System]</td>\n",
       "      <td>[256 GB SSD]</td>\n",
       "      <td>[Lenovo]</td>\n",
       "    </tr>\n",
       "    <tr>\n",
       "      <th>1</th>\n",
       "      <td>Lenovo IdeaPad 3 Core i3 11th Gen - (8 GB/512 ...</td>\n",
       "      <td>4.2</td>\n",
       "      <td>₹39,990</td>\n",
       "      <td>Intel Core i3 Processor (11th Gen)8 GB DDR4 RA...</td>\n",
       "      <td>[Intel Core i3 Processor]</td>\n",
       "      <td>[8 GB DDR4 RAM]</td>\n",
       "      <td>[64 bit Windows 11 Operating System]</td>\n",
       "      <td>[512 GB SSD]</td>\n",
       "      <td>[Lenovo]</td>\n",
       "    </tr>\n",
       "    <tr>\n",
       "      <th>2</th>\n",
       "      <td>ASUS VivoBook 15 (2022) Core i3 10th Gen - (8 ...</td>\n",
       "      <td>4.3</td>\n",
       "      <td>₹32,990</td>\n",
       "      <td>Intel Core i3 Processor (10th Gen)8 GB DDR4 RA...</td>\n",
       "      <td>[Intel Core i3 Processor]</td>\n",
       "      <td>[8 GB DDR4 RAM]</td>\n",
       "      <td>[64 bit Windows 11 Operating System]</td>\n",
       "      <td>[512 GB SSD]</td>\n",
       "      <td>[ASUS]</td>\n",
       "    </tr>\n",
       "    <tr>\n",
       "      <th>3</th>\n",
       "      <td>HP Pavilion Ryzen 5 Hexa Core AMD R5-5600H - (...</td>\n",
       "      <td>4.4</td>\n",
       "      <td>₹49,990</td>\n",
       "      <td>AMD Ryzen 5 Hexa Core Processor8 GB DDR4 RAM64...</td>\n",
       "      <td>[AMD Ryzen 5 Hexa Core Processor]</td>\n",
       "      <td>[8 GB DDR4 RAM]</td>\n",
       "      <td>[64 bit Windows 10 Operating System]</td>\n",
       "      <td>[512 GB SSD]</td>\n",
       "      <td>[HP]</td>\n",
       "    </tr>\n",
       "    <tr>\n",
       "      <th>4</th>\n",
       "      <td>ASUS TUF Gaming F15 Core i5 10th Gen - (8 GB/5...</td>\n",
       "      <td>4.4</td>\n",
       "      <td>₹49,990</td>\n",
       "      <td>Intel Core i5 Processor (10th Gen)8 GB DDR4 RA...</td>\n",
       "      <td>[Intel Core i5 Processor]</td>\n",
       "      <td>[8 GB DDR4 RAM]</td>\n",
       "      <td>[]</td>\n",
       "      <td>[512 GB SSD]</td>\n",
       "      <td>[ASUS]</td>\n",
       "    </tr>\n",
       "  </tbody>\n",
       "</table>\n",
       "</div>"
      ],
      "text/plain": [
       "                                             Product  Rating      MRP  \\\n",
       "0  Lenovo IdeaPad 3 Core i3 11th Gen - (8 GB/256 ...     4.2  ₹36,990   \n",
       "1  Lenovo IdeaPad 3 Core i3 11th Gen - (8 GB/512 ...     4.2  ₹39,990   \n",
       "2  ASUS VivoBook 15 (2022) Core i3 10th Gen - (8 ...     4.3  ₹32,990   \n",
       "3  HP Pavilion Ryzen 5 Hexa Core AMD R5-5600H - (...     4.4  ₹49,990   \n",
       "4  ASUS TUF Gaming F15 Core i5 10th Gen - (8 GB/5...     4.4  ₹49,990   \n",
       "\n",
       "                                             Feature  \\\n",
       "0  Intel Core i3 Processor (11th Gen)8 GB DDR4 RA...   \n",
       "1  Intel Core i3 Processor (11th Gen)8 GB DDR4 RA...   \n",
       "2  Intel Core i3 Processor (10th Gen)8 GB DDR4 RA...   \n",
       "3  AMD Ryzen 5 Hexa Core Processor8 GB DDR4 RAM64...   \n",
       "4  Intel Core i5 Processor (10th Gen)8 GB DDR4 RA...   \n",
       "\n",
       "                           Processor              RAM  \\\n",
       "0          [Intel Core i3 Processor]  [8 GB DDR4 RAM]   \n",
       "1          [Intel Core i3 Processor]  [8 GB DDR4 RAM]   \n",
       "2          [Intel Core i3 Processor]  [8 GB DDR4 RAM]   \n",
       "3  [AMD Ryzen 5 Hexa Core Processor]  [8 GB DDR4 RAM]   \n",
       "4          [Intel Core i5 Processor]  [8 GB DDR4 RAM]   \n",
       "\n",
       "                                     OS       Storage     Brand  \n",
       "0  [64 bit Windows 11 Operating System]  [256 GB SSD]  [Lenovo]  \n",
       "1  [64 bit Windows 11 Operating System]  [512 GB SSD]  [Lenovo]  \n",
       "2  [64 bit Windows 11 Operating System]  [512 GB SSD]    [ASUS]  \n",
       "3  [64 bit Windows 10 Operating System]  [512 GB SSD]      [HP]  \n",
       "4                                    []  [512 GB SSD]    [ASUS]  "
      ]
     },
     "execution_count": 16,
     "metadata": {},
     "output_type": "execute_result"
    }
   ],
   "source": [
    "dt.head()"
   ]
  },
  {
   "cell_type": "code",
   "execution_count": 17,
   "id": "07c403b3",
   "metadata": {},
   "outputs": [
    {
     "name": "stdout",
     "output_type": "stream",
     "text": [
      "['Intel Core i3 Processor']\n"
     ]
    }
   ],
   "source": [
    "print(dt['Processor'][0])"
   ]
  },
  {
   "cell_type": "code",
   "execution_count": 18,
   "id": "0f025a2c",
   "metadata": {},
   "outputs": [
    {
     "name": "stdout",
     "output_type": "stream",
     "text": [
      "Intel Core i3 Processor\n"
     ]
    }
   ],
   "source": [
    "print(''.join(dt['Processor'][0]))"
   ]
  },
  {
   "cell_type": "code",
   "execution_count": 19,
   "id": "1aaf07c0",
   "metadata": {},
   "outputs": [],
   "source": [
    "dt.Processor = dt.Processor.apply(lambda x : ''.join(x))\n",
    "dt.RAM = dt.RAM.apply(lambda x : ''.join(x))\n",
    "dt.OS = dt.OS.apply(lambda x : ''.join(x))\n",
    "dt.Storage = dt.Storage.apply(lambda x : ''.join(x))\n",
    "dt.Brand = dt.Brand.apply(lambda x : ''.join(x))"
   ]
  },
  {
   "cell_type": "code",
   "execution_count": 20,
   "id": "ac8a0bd3",
   "metadata": {},
   "outputs": [
    {
     "data": {
      "text/html": [
       "<div>\n",
       "<style scoped>\n",
       "    .dataframe tbody tr th:only-of-type {\n",
       "        vertical-align: middle;\n",
       "    }\n",
       "\n",
       "    .dataframe tbody tr th {\n",
       "        vertical-align: top;\n",
       "    }\n",
       "\n",
       "    .dataframe thead th {\n",
       "        text-align: right;\n",
       "    }\n",
       "</style>\n",
       "<table border=\"1\" class=\"dataframe\">\n",
       "  <thead>\n",
       "    <tr style=\"text-align: right;\">\n",
       "      <th></th>\n",
       "      <th>Product</th>\n",
       "      <th>Rating</th>\n",
       "      <th>MRP</th>\n",
       "      <th>Feature</th>\n",
       "      <th>Processor</th>\n",
       "      <th>RAM</th>\n",
       "      <th>OS</th>\n",
       "      <th>Storage</th>\n",
       "      <th>Brand</th>\n",
       "    </tr>\n",
       "  </thead>\n",
       "  <tbody>\n",
       "    <tr>\n",
       "      <th>0</th>\n",
       "      <td>Lenovo IdeaPad 3 Core i3 11th Gen - (8 GB/256 ...</td>\n",
       "      <td>4.2</td>\n",
       "      <td>₹36,990</td>\n",
       "      <td>Intel Core i3 Processor (11th Gen)8 GB DDR4 RA...</td>\n",
       "      <td>Intel Core i3 Processor</td>\n",
       "      <td>8 GB DDR4 RAM</td>\n",
       "      <td>64 bit Windows 11 Operating System</td>\n",
       "      <td>256 GB SSD</td>\n",
       "      <td>Lenovo</td>\n",
       "    </tr>\n",
       "    <tr>\n",
       "      <th>1</th>\n",
       "      <td>Lenovo IdeaPad 3 Core i3 11th Gen - (8 GB/512 ...</td>\n",
       "      <td>4.2</td>\n",
       "      <td>₹39,990</td>\n",
       "      <td>Intel Core i3 Processor (11th Gen)8 GB DDR4 RA...</td>\n",
       "      <td>Intel Core i3 Processor</td>\n",
       "      <td>8 GB DDR4 RAM</td>\n",
       "      <td>64 bit Windows 11 Operating System</td>\n",
       "      <td>512 GB SSD</td>\n",
       "      <td>Lenovo</td>\n",
       "    </tr>\n",
       "    <tr>\n",
       "      <th>2</th>\n",
       "      <td>ASUS VivoBook 15 (2022) Core i3 10th Gen - (8 ...</td>\n",
       "      <td>4.3</td>\n",
       "      <td>₹32,990</td>\n",
       "      <td>Intel Core i3 Processor (10th Gen)8 GB DDR4 RA...</td>\n",
       "      <td>Intel Core i3 Processor</td>\n",
       "      <td>8 GB DDR4 RAM</td>\n",
       "      <td>64 bit Windows 11 Operating System</td>\n",
       "      <td>512 GB SSD</td>\n",
       "      <td>ASUS</td>\n",
       "    </tr>\n",
       "    <tr>\n",
       "      <th>3</th>\n",
       "      <td>HP Pavilion Ryzen 5 Hexa Core AMD R5-5600H - (...</td>\n",
       "      <td>4.4</td>\n",
       "      <td>₹49,990</td>\n",
       "      <td>AMD Ryzen 5 Hexa Core Processor8 GB DDR4 RAM64...</td>\n",
       "      <td>AMD Ryzen 5 Hexa Core Processor</td>\n",
       "      <td>8 GB DDR4 RAM</td>\n",
       "      <td>64 bit Windows 10 Operating System</td>\n",
       "      <td>512 GB SSD</td>\n",
       "      <td>HP</td>\n",
       "    </tr>\n",
       "    <tr>\n",
       "      <th>4</th>\n",
       "      <td>ASUS TUF Gaming F15 Core i5 10th Gen - (8 GB/5...</td>\n",
       "      <td>4.4</td>\n",
       "      <td>₹49,990</td>\n",
       "      <td>Intel Core i5 Processor (10th Gen)8 GB DDR4 RA...</td>\n",
       "      <td>Intel Core i5 Processor</td>\n",
       "      <td>8 GB DDR4 RAM</td>\n",
       "      <td></td>\n",
       "      <td>512 GB SSD</td>\n",
       "      <td>ASUS</td>\n",
       "    </tr>\n",
       "  </tbody>\n",
       "</table>\n",
       "</div>"
      ],
      "text/plain": [
       "                                             Product  Rating      MRP  \\\n",
       "0  Lenovo IdeaPad 3 Core i3 11th Gen - (8 GB/256 ...     4.2  ₹36,990   \n",
       "1  Lenovo IdeaPad 3 Core i3 11th Gen - (8 GB/512 ...     4.2  ₹39,990   \n",
       "2  ASUS VivoBook 15 (2022) Core i3 10th Gen - (8 ...     4.3  ₹32,990   \n",
       "3  HP Pavilion Ryzen 5 Hexa Core AMD R5-5600H - (...     4.4  ₹49,990   \n",
       "4  ASUS TUF Gaming F15 Core i5 10th Gen - (8 GB/5...     4.4  ₹49,990   \n",
       "\n",
       "                                             Feature  \\\n",
       "0  Intel Core i3 Processor (11th Gen)8 GB DDR4 RA...   \n",
       "1  Intel Core i3 Processor (11th Gen)8 GB DDR4 RA...   \n",
       "2  Intel Core i3 Processor (10th Gen)8 GB DDR4 RA...   \n",
       "3  AMD Ryzen 5 Hexa Core Processor8 GB DDR4 RAM64...   \n",
       "4  Intel Core i5 Processor (10th Gen)8 GB DDR4 RA...   \n",
       "\n",
       "                         Processor            RAM  \\\n",
       "0          Intel Core i3 Processor  8 GB DDR4 RAM   \n",
       "1          Intel Core i3 Processor  8 GB DDR4 RAM   \n",
       "2          Intel Core i3 Processor  8 GB DDR4 RAM   \n",
       "3  AMD Ryzen 5 Hexa Core Processor  8 GB DDR4 RAM   \n",
       "4          Intel Core i5 Processor  8 GB DDR4 RAM   \n",
       "\n",
       "                                   OS     Storage   Brand  \n",
       "0  64 bit Windows 11 Operating System  256 GB SSD  Lenovo  \n",
       "1  64 bit Windows 11 Operating System  512 GB SSD  Lenovo  \n",
       "2  64 bit Windows 11 Operating System  512 GB SSD    ASUS  \n",
       "3  64 bit Windows 10 Operating System  512 GB SSD      HP  \n",
       "4                                      512 GB SSD    ASUS  "
      ]
     },
     "execution_count": 20,
     "metadata": {},
     "output_type": "execute_result"
    }
   ],
   "source": [
    "dt.head()"
   ]
  },
  {
   "cell_type": "code",
   "execution_count": 21,
   "id": "ce0481b5",
   "metadata": {},
   "outputs": [
    {
     "name": "stdout",
     "output_type": "stream",
     "text": [
      "<class 'pandas.core.frame.DataFrame'>\n",
      "RangeIndex: 720 entries, 0 to 719\n",
      "Data columns (total 9 columns):\n",
      " #   Column     Non-Null Count  Dtype  \n",
      "---  ------     --------------  -----  \n",
      " 0   Product    720 non-null    object \n",
      " 1   Rating     581 non-null    float64\n",
      " 2   MRP        720 non-null    object \n",
      " 3   Feature    720 non-null    object \n",
      " 4   Processor  720 non-null    object \n",
      " 5   RAM        720 non-null    object \n",
      " 6   OS         720 non-null    object \n",
      " 7   Storage    720 non-null    object \n",
      " 8   Brand      720 non-null    object \n",
      "dtypes: float64(1), object(8)\n",
      "memory usage: 50.8+ KB\n"
     ]
    }
   ],
   "source": [
    "dt.info()"
   ]
  },
  {
   "cell_type": "code",
   "execution_count": 22,
   "id": "f859084c",
   "metadata": {},
   "outputs": [],
   "source": [
    "# Manipulating MRP values\n",
    "\n",
    "dt.MRP = dt.MRP.apply(lambda x : x.replace('₹', '').replace(',', '')).astype(float)"
   ]
  },
  {
   "cell_type": "code",
   "execution_count": 23,
   "id": "60223836",
   "metadata": {},
   "outputs": [
    {
     "data": {
      "text/html": [
       "<div>\n",
       "<style scoped>\n",
       "    .dataframe tbody tr th:only-of-type {\n",
       "        vertical-align: middle;\n",
       "    }\n",
       "\n",
       "    .dataframe tbody tr th {\n",
       "        vertical-align: top;\n",
       "    }\n",
       "\n",
       "    .dataframe thead th {\n",
       "        text-align: right;\n",
       "    }\n",
       "</style>\n",
       "<table border=\"1\" class=\"dataframe\">\n",
       "  <thead>\n",
       "    <tr style=\"text-align: right;\">\n",
       "      <th></th>\n",
       "      <th>Product</th>\n",
       "      <th>Rating</th>\n",
       "      <th>MRP</th>\n",
       "      <th>Feature</th>\n",
       "      <th>Processor</th>\n",
       "      <th>RAM</th>\n",
       "      <th>OS</th>\n",
       "      <th>Storage</th>\n",
       "      <th>Brand</th>\n",
       "    </tr>\n",
       "  </thead>\n",
       "  <tbody>\n",
       "    <tr>\n",
       "      <th>0</th>\n",
       "      <td>Lenovo IdeaPad 3 Core i3 11th Gen - (8 GB/256 ...</td>\n",
       "      <td>4.2</td>\n",
       "      <td>36990.0</td>\n",
       "      <td>Intel Core i3 Processor (11th Gen)8 GB DDR4 RA...</td>\n",
       "      <td>Intel Core i3 Processor</td>\n",
       "      <td>8 GB DDR4 RAM</td>\n",
       "      <td>64 bit Windows 11 Operating System</td>\n",
       "      <td>256 GB SSD</td>\n",
       "      <td>Lenovo</td>\n",
       "    </tr>\n",
       "    <tr>\n",
       "      <th>1</th>\n",
       "      <td>Lenovo IdeaPad 3 Core i3 11th Gen - (8 GB/512 ...</td>\n",
       "      <td>4.2</td>\n",
       "      <td>39990.0</td>\n",
       "      <td>Intel Core i3 Processor (11th Gen)8 GB DDR4 RA...</td>\n",
       "      <td>Intel Core i3 Processor</td>\n",
       "      <td>8 GB DDR4 RAM</td>\n",
       "      <td>64 bit Windows 11 Operating System</td>\n",
       "      <td>512 GB SSD</td>\n",
       "      <td>Lenovo</td>\n",
       "    </tr>\n",
       "    <tr>\n",
       "      <th>2</th>\n",
       "      <td>ASUS VivoBook 15 (2022) Core i3 10th Gen - (8 ...</td>\n",
       "      <td>4.3</td>\n",
       "      <td>32990.0</td>\n",
       "      <td>Intel Core i3 Processor (10th Gen)8 GB DDR4 RA...</td>\n",
       "      <td>Intel Core i3 Processor</td>\n",
       "      <td>8 GB DDR4 RAM</td>\n",
       "      <td>64 bit Windows 11 Operating System</td>\n",
       "      <td>512 GB SSD</td>\n",
       "      <td>ASUS</td>\n",
       "    </tr>\n",
       "    <tr>\n",
       "      <th>3</th>\n",
       "      <td>HP Pavilion Ryzen 5 Hexa Core AMD R5-5600H - (...</td>\n",
       "      <td>4.4</td>\n",
       "      <td>49990.0</td>\n",
       "      <td>AMD Ryzen 5 Hexa Core Processor8 GB DDR4 RAM64...</td>\n",
       "      <td>AMD Ryzen 5 Hexa Core Processor</td>\n",
       "      <td>8 GB DDR4 RAM</td>\n",
       "      <td>64 bit Windows 10 Operating System</td>\n",
       "      <td>512 GB SSD</td>\n",
       "      <td>HP</td>\n",
       "    </tr>\n",
       "    <tr>\n",
       "      <th>4</th>\n",
       "      <td>ASUS TUF Gaming F15 Core i5 10th Gen - (8 GB/5...</td>\n",
       "      <td>4.4</td>\n",
       "      <td>49990.0</td>\n",
       "      <td>Intel Core i5 Processor (10th Gen)8 GB DDR4 RA...</td>\n",
       "      <td>Intel Core i5 Processor</td>\n",
       "      <td>8 GB DDR4 RAM</td>\n",
       "      <td></td>\n",
       "      <td>512 GB SSD</td>\n",
       "      <td>ASUS</td>\n",
       "    </tr>\n",
       "  </tbody>\n",
       "</table>\n",
       "</div>"
      ],
      "text/plain": [
       "                                             Product  Rating      MRP  \\\n",
       "0  Lenovo IdeaPad 3 Core i3 11th Gen - (8 GB/256 ...     4.2  36990.0   \n",
       "1  Lenovo IdeaPad 3 Core i3 11th Gen - (8 GB/512 ...     4.2  39990.0   \n",
       "2  ASUS VivoBook 15 (2022) Core i3 10th Gen - (8 ...     4.3  32990.0   \n",
       "3  HP Pavilion Ryzen 5 Hexa Core AMD R5-5600H - (...     4.4  49990.0   \n",
       "4  ASUS TUF Gaming F15 Core i5 10th Gen - (8 GB/5...     4.4  49990.0   \n",
       "\n",
       "                                             Feature  \\\n",
       "0  Intel Core i3 Processor (11th Gen)8 GB DDR4 RA...   \n",
       "1  Intel Core i3 Processor (11th Gen)8 GB DDR4 RA...   \n",
       "2  Intel Core i3 Processor (10th Gen)8 GB DDR4 RA...   \n",
       "3  AMD Ryzen 5 Hexa Core Processor8 GB DDR4 RAM64...   \n",
       "4  Intel Core i5 Processor (10th Gen)8 GB DDR4 RA...   \n",
       "\n",
       "                         Processor            RAM  \\\n",
       "0          Intel Core i3 Processor  8 GB DDR4 RAM   \n",
       "1          Intel Core i3 Processor  8 GB DDR4 RAM   \n",
       "2          Intel Core i3 Processor  8 GB DDR4 RAM   \n",
       "3  AMD Ryzen 5 Hexa Core Processor  8 GB DDR4 RAM   \n",
       "4          Intel Core i5 Processor  8 GB DDR4 RAM   \n",
       "\n",
       "                                   OS     Storage   Brand  \n",
       "0  64 bit Windows 11 Operating System  256 GB SSD  Lenovo  \n",
       "1  64 bit Windows 11 Operating System  512 GB SSD  Lenovo  \n",
       "2  64 bit Windows 11 Operating System  512 GB SSD    ASUS  \n",
       "3  64 bit Windows 10 Operating System  512 GB SSD      HP  \n",
       "4                                      512 GB SSD    ASUS  "
      ]
     },
     "execution_count": 23,
     "metadata": {},
     "output_type": "execute_result"
    }
   ],
   "source": [
    "dt.head()"
   ]
  },
  {
   "cell_type": "code",
   "execution_count": 24,
   "id": "deaf8590",
   "metadata": {},
   "outputs": [
    {
     "name": "stdout",
     "output_type": "stream",
     "text": [
      "<class 'pandas.core.frame.DataFrame'>\n",
      "RangeIndex: 720 entries, 0 to 719\n",
      "Data columns (total 9 columns):\n",
      " #   Column     Non-Null Count  Dtype  \n",
      "---  ------     --------------  -----  \n",
      " 0   Product    720 non-null    object \n",
      " 1   Rating     581 non-null    float64\n",
      " 2   MRP        720 non-null    float64\n",
      " 3   Feature    720 non-null    object \n",
      " 4   Processor  720 non-null    object \n",
      " 5   RAM        720 non-null    object \n",
      " 6   OS         720 non-null    object \n",
      " 7   Storage    720 non-null    object \n",
      " 8   Brand      720 non-null    object \n",
      "dtypes: float64(2), object(7)\n",
      "memory usage: 50.8+ KB\n"
     ]
    }
   ],
   "source": [
    "dt.info()"
   ]
  },
  {
   "cell_type": "code",
   "execution_count": 25,
   "id": "e426dace",
   "metadata": {},
   "outputs": [
    {
     "data": {
      "text/plain": [
       "array(['64 bit Windows 11 Operating System',\n",
       "       '64 bit Windows 10 Operating System', '',\n",
       "       '32 bit Windows 11 Operating System',\n",
       "       '64 bit DOS Operating System', '64 bit Chrome Operating System'],\n",
       "      dtype=object)"
      ]
     },
     "execution_count": 25,
     "metadata": {},
     "output_type": "execute_result"
    }
   ],
   "source": [
    "dt['OS'].unique()"
   ]
  },
  {
   "cell_type": "code",
   "execution_count": 26,
   "id": "5d38a449",
   "metadata": {},
   "outputs": [],
   "source": [
    "a = []\n",
    "for i in dt['OS']:\n",
    "    if i=='':\n",
    "        a.append(np.nan)\n",
    "    else:\n",
    "        a.append(i)\n",
    "dt['OS']=a"
   ]
  },
  {
   "cell_type": "code",
   "execution_count": 27,
   "id": "f94a32e9",
   "metadata": {},
   "outputs": [
    {
     "data": {
      "text/plain": [
       "64 bit Windows 11 Operating System    76.952381\n",
       "64 bit Windows 10 Operating System    22.285714\n",
       "64 bit DOS Operating System            0.380952\n",
       "32 bit Windows 11 Operating System     0.190476\n",
       "64 bit Chrome Operating System         0.190476\n",
       "Name: OS, dtype: float64"
      ]
     },
     "execution_count": 27,
     "metadata": {},
     "output_type": "execute_result"
    }
   ],
   "source": [
    "dt['OS'].value_counts(normalize=True)*100"
   ]
  },
  {
   "cell_type": "code",
   "execution_count": 28,
   "id": "e7e2d215",
   "metadata": {},
   "outputs": [
    {
     "data": {
      "text/plain": [
       "array(['Intel Core i3 Processor', 'AMD Ryzen 5 Hexa Core Processor',\n",
       "       'Intel Core i5 Processor', '', 'AMD Ryzen 7 Quad Core Processor',\n",
       "       'AMD Ryzen 5 Quad Core Processor',\n",
       "       'AMD Ryzen 9 Octa Core Processor',\n",
       "       'AMD Ryzen 7 Octa Core Processor',\n",
       "       'Intel Celeron Dual Core Processor',\n",
       "       'AMD Ryzen 3 Dual Core Processor',\n",
       "       'AMD Athlon Dual Core Processor',\n",
       "       'AMD Ryzen 3 Quad Core Processor',\n",
       "       'Intel Celeron Quad Core Processor', 'Intel Core i7 Processor',\n",
       "       'Intel Core i9 Processor', 'Intel Pentium Silver Processor',\n",
       "       'AMD Ryzen 5 Dual Core Processor',\n",
       "       'Intel Pentium Quad Core Processor', 'AMD Dual Core Processor',\n",
       "       'AMD Ryzen 3 Hexa Core Processor'], dtype=object)"
      ]
     },
     "execution_count": 28,
     "metadata": {},
     "output_type": "execute_result"
    }
   ],
   "source": [
    "dt[\"Processor\"].unique()"
   ]
  },
  {
   "cell_type": "code",
   "execution_count": 29,
   "id": "c9893662",
   "metadata": {},
   "outputs": [],
   "source": [
    "a = []\n",
    "for i in dt['Processor']:\n",
    "    if i=='':\n",
    "        a.append(np.nan)\n",
    "    else:\n",
    "        a.append(i)\n",
    "dt['Processor']=a"
   ]
  },
  {
   "cell_type": "code",
   "execution_count": 30,
   "id": "6fd7b806",
   "metadata": {},
   "outputs": [
    {
     "data": {
      "text/plain": [
       "Intel Core i5 Processor              22.421525\n",
       "Intel Core i3 Processor              19.282511\n",
       "AMD Ryzen 9 Octa Core Processor      13.004484\n",
       "AMD Ryzen 7 Octa Core Processor      11.808670\n",
       "Intel Core i7 Processor               7.324365\n",
       "AMD Ryzen 5 Hexa Core Processor       7.174888\n",
       "AMD Ryzen 3 Dual Core Processor       6.278027\n",
       "AMD Ryzen 5 Quad Core Processor       5.530643\n",
       "Intel Celeron Dual Core Processor     2.989537\n",
       "Intel Core i9 Processor               1.494768\n",
       "AMD Ryzen 3 Quad Core Processor       0.597907\n",
       "Intel Pentium Quad Core Processor     0.448430\n",
       "Intel Celeron Quad Core Processor     0.448430\n",
       "Intel Pentium Silver Processor        0.298954\n",
       "AMD Athlon Dual Core Processor        0.298954\n",
       "AMD Ryzen 5 Dual Core Processor       0.149477\n",
       "AMD Ryzen 7 Quad Core Processor       0.149477\n",
       "AMD Dual Core Processor               0.149477\n",
       "AMD Ryzen 3 Hexa Core Processor       0.149477\n",
       "Name: Processor, dtype: float64"
      ]
     },
     "execution_count": 30,
     "metadata": {},
     "output_type": "execute_result"
    }
   ],
   "source": [
    "dt['Processor'].value_counts(normalize=True)*100"
   ]
  },
  {
   "cell_type": "code",
   "execution_count": 31,
   "id": "4aad48cf",
   "metadata": {},
   "outputs": [
    {
     "data": {
      "text/plain": [
       "array(['8 GB DDR4 RAM', '16 GB DDR4 RAM', '16 GB DDR5 RAM',\n",
       "       '4 GB LPDDR4 RAM', '4 GB DDR4 RAM', '8 GB Unified Memory RAM',\n",
       "       '8 GB LPDDR4X RAM', '16 GB Unified Memory RAM', '4 GB LPDDR4X RAM',\n",
       "       '16 GB LPDDR4X RAM', '16 GB LPDDR5 RAM',\n",
       "       '32 GB Unified Memory RAM', '16 GB LPDDR4 RAM', '32 GB DDR5 RAM',\n",
       "       '128 GB SSD for Reduced Boot Up Time and in Game LoadingUpgradable SSD Upto 512 GB and RAM8 GB DDR4 RAM',\n",
       "       '8 GB DDR5 RAM', '32 GB DDR4 RAM', '32 GB LPDDR4X RAM',\n",
       "       '16 GB LPDDR3 RAM'], dtype=object)"
      ]
     },
     "execution_count": 31,
     "metadata": {},
     "output_type": "execute_result"
    }
   ],
   "source": [
    "dt['RAM'].unique()"
   ]
  },
  {
   "cell_type": "code",
   "execution_count": 32,
   "id": "d4b63cd9",
   "metadata": {},
   "outputs": [
    {
     "data": {
      "text/plain": [
       "8 GB DDR4 RAM                                                                                             52.361111\n",
       "16 GB DDR4 RAM                                                                                            21.250000\n",
       "16 GB DDR5 RAM                                                                                            10.694444\n",
       "4 GB DDR4 RAM                                                                                              3.611111\n",
       "8 GB LPDDR4X RAM                                                                                           2.222222\n",
       "16 GB LPDDR4X RAM                                                                                          2.222222\n",
       "32 GB DDR5 RAM                                                                                             1.527778\n",
       "16 GB LPDDR5 RAM                                                                                           1.250000\n",
       "4 GB LPDDR4 RAM                                                                                            0.972222\n",
       "16 GB Unified Memory RAM                                                                                   0.833333\n",
       "8 GB Unified Memory RAM                                                                                    0.694444\n",
       "4 GB LPDDR4X RAM                                                                                           0.555556\n",
       "8 GB DDR5 RAM                                                                                              0.555556\n",
       "32 GB DDR4 RAM                                                                                             0.555556\n",
       "32 GB Unified Memory RAM                                                                                   0.138889\n",
       "16 GB LPDDR4 RAM                                                                                           0.138889\n",
       "128 GB SSD for Reduced Boot Up Time and in Game LoadingUpgradable SSD Upto 512 GB and RAM8 GB DDR4 RAM     0.138889\n",
       "32 GB LPDDR4X RAM                                                                                          0.138889\n",
       "16 GB LPDDR3 RAM                                                                                           0.138889\n",
       "Name: RAM, dtype: float64"
      ]
     },
     "execution_count": 32,
     "metadata": {},
     "output_type": "execute_result"
    }
   ],
   "source": [
    "dt['RAM'].value_counts(normalize=True)*100"
   ]
  },
  {
   "cell_type": "code",
   "execution_count": 33,
   "id": "aebd4132",
   "metadata": {},
   "outputs": [
    {
     "data": {
      "text/plain": [
       "array(['256 GB SSD', '512 GB SSD', '1 TB HDD256 GB SSD', '1 TB SSD',\n",
       "       '256 GB HDD256 GB SSD', '', '1 TB HDD', '128 GB SSD',\n",
       "       '1 TB HDD512 GB SSD', '128 GB SSD1 TB HDD128 GB SSD', '2 TB SSD'],\n",
       "      dtype=object)"
      ]
     },
     "execution_count": 33,
     "metadata": {},
     "output_type": "execute_result"
    }
   ],
   "source": [
    "dt['Storage'].unique()"
   ]
  },
  {
   "cell_type": "code",
   "execution_count": 34,
   "id": "47d677c1",
   "metadata": {},
   "outputs": [],
   "source": [
    "a = []\n",
    "for i in dt['Storage']:\n",
    "    if i=='':\n",
    "        a.append(np.nan)\n",
    "    else:\n",
    "        a.append(i)\n",
    "dt['Storage']=a"
   ]
  },
  {
   "cell_type": "code",
   "execution_count": 35,
   "id": "894db55b",
   "metadata": {},
   "outputs": [
    {
     "data": {
      "text/plain": [
       "512 GB SSD                      52.816901\n",
       "1 TB SSD                        24.788732\n",
       "256 GB SSD                      13.802817\n",
       "1 TB HDD256 GB SSD               3.661972\n",
       "1 TB HDD                         2.394366\n",
       "2 TB SSD                         0.985915\n",
       "128 GB SSD                       0.845070\n",
       "1 TB HDD512 GB SSD               0.281690\n",
       "128 GB SSD1 TB HDD128 GB SSD     0.281690\n",
       "256 GB HDD256 GB SSD             0.140845\n",
       "Name: Storage, dtype: float64"
      ]
     },
     "execution_count": 35,
     "metadata": {},
     "output_type": "execute_result"
    }
   ],
   "source": [
    "dt['Storage'].value_counts(normalize=True)*100"
   ]
  },
  {
   "cell_type": "code",
   "execution_count": 36,
   "id": "31803b94",
   "metadata": {},
   "outputs": [
    {
     "data": {
      "text/plain": [
       "array(['Lenovo', 'ASUS', 'HP', 'DELL', 'RedmiBook', 'realme', 'acer',\n",
       "       'MSI', 'APPLE', 'Infinix', 'SAMSUNG', 'Ultimus', 'Vaio',\n",
       "       'GIGABYTE', 'Nokia', 'ALIENWARE'], dtype=object)"
      ]
     },
     "execution_count": 36,
     "metadata": {},
     "output_type": "execute_result"
    }
   ],
   "source": [
    "dt['Brand'].unique()"
   ]
  },
  {
   "cell_type": "code",
   "execution_count": 37,
   "id": "25d3b979",
   "metadata": {},
   "outputs": [
    {
     "data": {
      "text/plain": [
       "ASUS         34.861111\n",
       "Lenovo       27.222222\n",
       "HP            8.472222\n",
       "DELL          8.472222\n",
       "acer          4.861111\n",
       "RedmiBook     4.305556\n",
       "MSI           4.166667\n",
       "Infinix       2.777778\n",
       "APPLE         2.638889\n",
       "realme        0.833333\n",
       "ALIENWARE     0.416667\n",
       "SAMSUNG       0.277778\n",
       "Ultimus       0.277778\n",
       "Vaio          0.138889\n",
       "GIGABYTE      0.138889\n",
       "Nokia         0.138889\n",
       "Name: Brand, dtype: float64"
      ]
     },
     "execution_count": 37,
     "metadata": {},
     "output_type": "execute_result"
    }
   ],
   "source": [
    "dt['Brand'].value_counts(normalize=True)*100"
   ]
  },
  {
   "cell_type": "markdown",
   "id": "4e5e0462",
   "metadata": {},
   "source": [
    "### Handling Missing Values"
   ]
  },
  {
   "cell_type": "code",
   "execution_count": 38,
   "id": "9a934e23",
   "metadata": {},
   "outputs": [
    {
     "data": {
      "text/plain": [
       "Product        0\n",
       "Rating       139\n",
       "MRP            0\n",
       "Feature        0\n",
       "Processor     51\n",
       "RAM            0\n",
       "OS           195\n",
       "Storage       10\n",
       "Brand          0\n",
       "dtype: int64"
      ]
     },
     "execution_count": 38,
     "metadata": {},
     "output_type": "execute_result"
    }
   ],
   "source": [
    "# Null values\n",
    "\n",
    "dt.isnull().sum()"
   ]
  },
  {
   "cell_type": "code",
   "execution_count": 39,
   "id": "1ecd405b",
   "metadata": {},
   "outputs": [],
   "source": [
    "dt.drop('Rating',axis=1,inplace=True)"
   ]
  },
  {
   "cell_type": "code",
   "execution_count": 40,
   "id": "988f3d26",
   "metadata": {},
   "outputs": [
    {
     "data": {
      "text/html": [
       "<div>\n",
       "<style scoped>\n",
       "    .dataframe tbody tr th:only-of-type {\n",
       "        vertical-align: middle;\n",
       "    }\n",
       "\n",
       "    .dataframe tbody tr th {\n",
       "        vertical-align: top;\n",
       "    }\n",
       "\n",
       "    .dataframe thead th {\n",
       "        text-align: right;\n",
       "    }\n",
       "</style>\n",
       "<table border=\"1\" class=\"dataframe\">\n",
       "  <thead>\n",
       "    <tr style=\"text-align: right;\">\n",
       "      <th></th>\n",
       "      <th>Product</th>\n",
       "      <th>MRP</th>\n",
       "      <th>Feature</th>\n",
       "      <th>Processor</th>\n",
       "      <th>RAM</th>\n",
       "      <th>OS</th>\n",
       "      <th>Storage</th>\n",
       "      <th>Brand</th>\n",
       "    </tr>\n",
       "  </thead>\n",
       "  <tbody>\n",
       "    <tr>\n",
       "      <th>0</th>\n",
       "      <td>Lenovo IdeaPad 3 Core i3 11th Gen - (8 GB/256 ...</td>\n",
       "      <td>36990.0</td>\n",
       "      <td>Intel Core i3 Processor (11th Gen)8 GB DDR4 RA...</td>\n",
       "      <td>Intel Core i3 Processor</td>\n",
       "      <td>8 GB DDR4 RAM</td>\n",
       "      <td>64 bit Windows 11 Operating System</td>\n",
       "      <td>256 GB SSD</td>\n",
       "      <td>Lenovo</td>\n",
       "    </tr>\n",
       "    <tr>\n",
       "      <th>1</th>\n",
       "      <td>Lenovo IdeaPad 3 Core i3 11th Gen - (8 GB/512 ...</td>\n",
       "      <td>39990.0</td>\n",
       "      <td>Intel Core i3 Processor (11th Gen)8 GB DDR4 RA...</td>\n",
       "      <td>Intel Core i3 Processor</td>\n",
       "      <td>8 GB DDR4 RAM</td>\n",
       "      <td>64 bit Windows 11 Operating System</td>\n",
       "      <td>512 GB SSD</td>\n",
       "      <td>Lenovo</td>\n",
       "    </tr>\n",
       "    <tr>\n",
       "      <th>2</th>\n",
       "      <td>ASUS VivoBook 15 (2022) Core i3 10th Gen - (8 ...</td>\n",
       "      <td>32990.0</td>\n",
       "      <td>Intel Core i3 Processor (10th Gen)8 GB DDR4 RA...</td>\n",
       "      <td>Intel Core i3 Processor</td>\n",
       "      <td>8 GB DDR4 RAM</td>\n",
       "      <td>64 bit Windows 11 Operating System</td>\n",
       "      <td>512 GB SSD</td>\n",
       "      <td>ASUS</td>\n",
       "    </tr>\n",
       "    <tr>\n",
       "      <th>3</th>\n",
       "      <td>HP Pavilion Ryzen 5 Hexa Core AMD R5-5600H - (...</td>\n",
       "      <td>49990.0</td>\n",
       "      <td>AMD Ryzen 5 Hexa Core Processor8 GB DDR4 RAM64...</td>\n",
       "      <td>AMD Ryzen 5 Hexa Core Processor</td>\n",
       "      <td>8 GB DDR4 RAM</td>\n",
       "      <td>64 bit Windows 10 Operating System</td>\n",
       "      <td>512 GB SSD</td>\n",
       "      <td>HP</td>\n",
       "    </tr>\n",
       "    <tr>\n",
       "      <th>4</th>\n",
       "      <td>ASUS TUF Gaming F15 Core i5 10th Gen - (8 GB/5...</td>\n",
       "      <td>49990.0</td>\n",
       "      <td>Intel Core i5 Processor (10th Gen)8 GB DDR4 RA...</td>\n",
       "      <td>Intel Core i5 Processor</td>\n",
       "      <td>8 GB DDR4 RAM</td>\n",
       "      <td>NaN</td>\n",
       "      <td>512 GB SSD</td>\n",
       "      <td>ASUS</td>\n",
       "    </tr>\n",
       "  </tbody>\n",
       "</table>\n",
       "</div>"
      ],
      "text/plain": [
       "                                             Product      MRP  \\\n",
       "0  Lenovo IdeaPad 3 Core i3 11th Gen - (8 GB/256 ...  36990.0   \n",
       "1  Lenovo IdeaPad 3 Core i3 11th Gen - (8 GB/512 ...  39990.0   \n",
       "2  ASUS VivoBook 15 (2022) Core i3 10th Gen - (8 ...  32990.0   \n",
       "3  HP Pavilion Ryzen 5 Hexa Core AMD R5-5600H - (...  49990.0   \n",
       "4  ASUS TUF Gaming F15 Core i5 10th Gen - (8 GB/5...  49990.0   \n",
       "\n",
       "                                             Feature  \\\n",
       "0  Intel Core i3 Processor (11th Gen)8 GB DDR4 RA...   \n",
       "1  Intel Core i3 Processor (11th Gen)8 GB DDR4 RA...   \n",
       "2  Intel Core i3 Processor (10th Gen)8 GB DDR4 RA...   \n",
       "3  AMD Ryzen 5 Hexa Core Processor8 GB DDR4 RAM64...   \n",
       "4  Intel Core i5 Processor (10th Gen)8 GB DDR4 RA...   \n",
       "\n",
       "                         Processor            RAM  \\\n",
       "0          Intel Core i3 Processor  8 GB DDR4 RAM   \n",
       "1          Intel Core i3 Processor  8 GB DDR4 RAM   \n",
       "2          Intel Core i3 Processor  8 GB DDR4 RAM   \n",
       "3  AMD Ryzen 5 Hexa Core Processor  8 GB DDR4 RAM   \n",
       "4          Intel Core i5 Processor  8 GB DDR4 RAM   \n",
       "\n",
       "                                   OS     Storage   Brand  \n",
       "0  64 bit Windows 11 Operating System  256 GB SSD  Lenovo  \n",
       "1  64 bit Windows 11 Operating System  512 GB SSD  Lenovo  \n",
       "2  64 bit Windows 11 Operating System  512 GB SSD    ASUS  \n",
       "3  64 bit Windows 10 Operating System  512 GB SSD      HP  \n",
       "4                                 NaN  512 GB SSD    ASUS  "
      ]
     },
     "execution_count": 40,
     "metadata": {},
     "output_type": "execute_result"
    }
   ],
   "source": [
    "dt.head()"
   ]
  },
  {
   "cell_type": "code",
   "execution_count": 41,
   "id": "db37eada",
   "metadata": {},
   "outputs": [],
   "source": [
    "dt.dropna(inplace=True)"
   ]
  },
  {
   "cell_type": "code",
   "execution_count": 42,
   "id": "cf00c269",
   "metadata": {},
   "outputs": [
    {
     "data": {
      "text/plain": [
       "Product      0\n",
       "MRP          0\n",
       "Feature      0\n",
       "Processor    0\n",
       "RAM          0\n",
       "OS           0\n",
       "Storage      0\n",
       "Brand        0\n",
       "dtype: int64"
      ]
     },
     "execution_count": 42,
     "metadata": {},
     "output_type": "execute_result"
    }
   ],
   "source": [
    "dt.isnull().sum()"
   ]
  },
  {
   "cell_type": "code",
   "execution_count": 43,
   "id": "4d48383f",
   "metadata": {},
   "outputs": [
    {
     "data": {
      "text/plain": [
       "(492, 8)"
      ]
     },
     "execution_count": 43,
     "metadata": {},
     "output_type": "execute_result"
    }
   ],
   "source": [
    "dt.shape"
   ]
  },
  {
   "cell_type": "code",
   "execution_count": 44,
   "id": "08b46353",
   "metadata": {},
   "outputs": [
    {
     "data": {
      "text/plain": [
       "64 bit Windows 11 Operating System    79.471545\n",
       "64 bit Windows 10 Operating System    19.918699\n",
       "64 bit DOS Operating System            0.406504\n",
       "32 bit Windows 11 Operating System     0.203252\n",
       "Name: OS, dtype: float64"
      ]
     },
     "execution_count": 44,
     "metadata": {},
     "output_type": "execute_result"
    }
   ],
   "source": [
    "dt['OS'].value_counts(normalize=True)*100"
   ]
  },
  {
   "cell_type": "code",
   "execution_count": 45,
   "id": "36b055db",
   "metadata": {},
   "outputs": [
    {
     "data": {
      "text/plain": [
       "Intel Core i3 Processor              24.186992\n",
       "Intel Core i5 Processor              21.544715\n",
       "AMD Ryzen 7 Octa Core Processor       8.943089\n",
       "AMD Ryzen 5 Hexa Core Processor       8.739837\n",
       "Intel Core i7 Processor               8.739837\n",
       "AMD Ryzen 3 Dual Core Processor       8.130081\n",
       "AMD Ryzen 5 Quad Core Processor       7.520325\n",
       "AMD Ryzen 9 Octa Core Processor       5.284553\n",
       "Intel Core i9 Processor               2.032520\n",
       "Intel Celeron Dual Core Processor     1.626016\n",
       "AMD Ryzen 3 Quad Core Processor       0.813008\n",
       "Intel Pentium Quad Core Processor     0.609756\n",
       "Intel Celeron Quad Core Processor     0.609756\n",
       "Intel Pentium Silver Processor        0.406504\n",
       "AMD Athlon Dual Core Processor        0.406504\n",
       "AMD Ryzen 7 Quad Core Processor       0.203252\n",
       "AMD Dual Core Processor               0.203252\n",
       "Name: Processor, dtype: float64"
      ]
     },
     "execution_count": 45,
     "metadata": {},
     "output_type": "execute_result"
    }
   ],
   "source": [
    "dt['Processor'].value_counts(normalize=True)*100"
   ]
  },
  {
   "cell_type": "code",
   "execution_count": 46,
   "id": "11d1f748",
   "metadata": {},
   "outputs": [
    {
     "data": {
      "text/plain": [
       "8 GB DDR4 RAM        60.569106\n",
       "16 GB DDR4 RAM       15.243902\n",
       "16 GB DDR5 RAM        8.130081\n",
       "4 GB DDR4 RAM         4.065041\n",
       "8 GB LPDDR4X RAM      3.048780\n",
       "16 GB LPDDR4X RAM     3.048780\n",
       "32 GB DDR5 RAM        2.235772\n",
       "16 GB LPDDR5 RAM      1.219512\n",
       "8 GB DDR5 RAM         0.813008\n",
       "32 GB DDR4 RAM        0.609756\n",
       "4 GB LPDDR4X RAM      0.406504\n",
       "16 GB LPDDR4 RAM      0.203252\n",
       "32 GB LPDDR4X RAM     0.203252\n",
       "16 GB LPDDR3 RAM      0.203252\n",
       "Name: RAM, dtype: float64"
      ]
     },
     "execution_count": 46,
     "metadata": {},
     "output_type": "execute_result"
    }
   ],
   "source": [
    "dt['RAM'].value_counts(normalize=True)*100"
   ]
  },
  {
   "cell_type": "code",
   "execution_count": 47,
   "id": "cd055a8a",
   "metadata": {},
   "outputs": [
    {
     "data": {
      "text/plain": [
       "512 GB SSD            60.569106\n",
       "256 GB SSD            16.666667\n",
       "1 TB SSD              14.227642\n",
       "1 TB HDD256 GB SSD     3.252033\n",
       "1 TB HDD               2.845528\n",
       "2 TB SSD               1.422764\n",
       "128 GB SSD             0.813008\n",
       "1 TB HDD512 GB SSD     0.203252\n",
       "Name: Storage, dtype: float64"
      ]
     },
     "execution_count": 47,
     "metadata": {},
     "output_type": "execute_result"
    }
   ],
   "source": [
    "dt['Storage'].value_counts(normalize=True)*100"
   ]
  },
  {
   "cell_type": "code",
   "execution_count": 48,
   "id": "9cb21b40",
   "metadata": {},
   "outputs": [
    {
     "data": {
      "text/plain": [
       "36990.0     7.926829\n",
       "39990.0     6.300813\n",
       "38705.0     6.097561\n",
       "35590.0     5.284553\n",
       "194990.0    3.861789\n",
       "              ...   \n",
       "41150.0     0.203252\n",
       "44700.0     0.203252\n",
       "200000.0    0.203252\n",
       "83990.0     0.203252\n",
       "90000.0     0.203252\n",
       "Name: MRP, Length: 195, dtype: float64"
      ]
     },
     "execution_count": 48,
     "metadata": {},
     "output_type": "execute_result"
    }
   ],
   "source": [
    "dt['MRP'].value_counts(normalize=True)*100"
   ]
  },
  {
   "cell_type": "markdown",
   "id": "79fea343",
   "metadata": {},
   "source": [
    "### Data Visualization"
   ]
  },
  {
   "cell_type": "code",
   "execution_count": 49,
   "id": "91664edd",
   "metadata": {},
   "outputs": [
    {
     "data": {
      "text/html": [
       "<div>\n",
       "<style scoped>\n",
       "    .dataframe tbody tr th:only-of-type {\n",
       "        vertical-align: middle;\n",
       "    }\n",
       "\n",
       "    .dataframe tbody tr th {\n",
       "        vertical-align: top;\n",
       "    }\n",
       "\n",
       "    .dataframe thead th {\n",
       "        text-align: right;\n",
       "    }\n",
       "</style>\n",
       "<table border=\"1\" class=\"dataframe\">\n",
       "  <thead>\n",
       "    <tr style=\"text-align: right;\">\n",
       "      <th></th>\n",
       "      <th>Product</th>\n",
       "      <th>MRP</th>\n",
       "      <th>Feature</th>\n",
       "      <th>Processor</th>\n",
       "      <th>RAM</th>\n",
       "      <th>OS</th>\n",
       "      <th>Storage</th>\n",
       "      <th>Brand</th>\n",
       "    </tr>\n",
       "  </thead>\n",
       "  <tbody>\n",
       "    <tr>\n",
       "      <th>0</th>\n",
       "      <td>Lenovo IdeaPad 3 Core i3 11th Gen - (8 GB/256 ...</td>\n",
       "      <td>36990.0</td>\n",
       "      <td>Intel Core i3 Processor (11th Gen)8 GB DDR4 RA...</td>\n",
       "      <td>Intel Core i3 Processor</td>\n",
       "      <td>8 GB DDR4 RAM</td>\n",
       "      <td>64 bit Windows 11 Operating System</td>\n",
       "      <td>256 GB SSD</td>\n",
       "      <td>Lenovo</td>\n",
       "    </tr>\n",
       "    <tr>\n",
       "      <th>1</th>\n",
       "      <td>Lenovo IdeaPad 3 Core i3 11th Gen - (8 GB/512 ...</td>\n",
       "      <td>39990.0</td>\n",
       "      <td>Intel Core i3 Processor (11th Gen)8 GB DDR4 RA...</td>\n",
       "      <td>Intel Core i3 Processor</td>\n",
       "      <td>8 GB DDR4 RAM</td>\n",
       "      <td>64 bit Windows 11 Operating System</td>\n",
       "      <td>512 GB SSD</td>\n",
       "      <td>Lenovo</td>\n",
       "    </tr>\n",
       "    <tr>\n",
       "      <th>2</th>\n",
       "      <td>ASUS VivoBook 15 (2022) Core i3 10th Gen - (8 ...</td>\n",
       "      <td>32990.0</td>\n",
       "      <td>Intel Core i3 Processor (10th Gen)8 GB DDR4 RA...</td>\n",
       "      <td>Intel Core i3 Processor</td>\n",
       "      <td>8 GB DDR4 RAM</td>\n",
       "      <td>64 bit Windows 11 Operating System</td>\n",
       "      <td>512 GB SSD</td>\n",
       "      <td>ASUS</td>\n",
       "    </tr>\n",
       "    <tr>\n",
       "      <th>3</th>\n",
       "      <td>HP Pavilion Ryzen 5 Hexa Core AMD R5-5600H - (...</td>\n",
       "      <td>49990.0</td>\n",
       "      <td>AMD Ryzen 5 Hexa Core Processor8 GB DDR4 RAM64...</td>\n",
       "      <td>AMD Ryzen 5 Hexa Core Processor</td>\n",
       "      <td>8 GB DDR4 RAM</td>\n",
       "      <td>64 bit Windows 10 Operating System</td>\n",
       "      <td>512 GB SSD</td>\n",
       "      <td>HP</td>\n",
       "    </tr>\n",
       "    <tr>\n",
       "      <th>5</th>\n",
       "      <td>HP 14s Intel Core i3 11th Gen - (8 GB/256 GB S...</td>\n",
       "      <td>36990.0</td>\n",
       "      <td>Intel Core i3 Processor (11th Gen)8 GB DDR4 RA...</td>\n",
       "      <td>Intel Core i3 Processor</td>\n",
       "      <td>8 GB DDR4 RAM</td>\n",
       "      <td>64 bit Windows 11 Operating System</td>\n",
       "      <td>256 GB SSD</td>\n",
       "      <td>HP</td>\n",
       "    </tr>\n",
       "  </tbody>\n",
       "</table>\n",
       "</div>"
      ],
      "text/plain": [
       "                                             Product      MRP  \\\n",
       "0  Lenovo IdeaPad 3 Core i3 11th Gen - (8 GB/256 ...  36990.0   \n",
       "1  Lenovo IdeaPad 3 Core i3 11th Gen - (8 GB/512 ...  39990.0   \n",
       "2  ASUS VivoBook 15 (2022) Core i3 10th Gen - (8 ...  32990.0   \n",
       "3  HP Pavilion Ryzen 5 Hexa Core AMD R5-5600H - (...  49990.0   \n",
       "5  HP 14s Intel Core i3 11th Gen - (8 GB/256 GB S...  36990.0   \n",
       "\n",
       "                                             Feature  \\\n",
       "0  Intel Core i3 Processor (11th Gen)8 GB DDR4 RA...   \n",
       "1  Intel Core i3 Processor (11th Gen)8 GB DDR4 RA...   \n",
       "2  Intel Core i3 Processor (10th Gen)8 GB DDR4 RA...   \n",
       "3  AMD Ryzen 5 Hexa Core Processor8 GB DDR4 RAM64...   \n",
       "5  Intel Core i3 Processor (11th Gen)8 GB DDR4 RA...   \n",
       "\n",
       "                         Processor            RAM  \\\n",
       "0          Intel Core i3 Processor  8 GB DDR4 RAM   \n",
       "1          Intel Core i3 Processor  8 GB DDR4 RAM   \n",
       "2          Intel Core i3 Processor  8 GB DDR4 RAM   \n",
       "3  AMD Ryzen 5 Hexa Core Processor  8 GB DDR4 RAM   \n",
       "5          Intel Core i3 Processor  8 GB DDR4 RAM   \n",
       "\n",
       "                                   OS     Storage   Brand  \n",
       "0  64 bit Windows 11 Operating System  256 GB SSD  Lenovo  \n",
       "1  64 bit Windows 11 Operating System  512 GB SSD  Lenovo  \n",
       "2  64 bit Windows 11 Operating System  512 GB SSD    ASUS  \n",
       "3  64 bit Windows 10 Operating System  512 GB SSD      HP  \n",
       "5  64 bit Windows 11 Operating System  256 GB SSD      HP  "
      ]
     },
     "execution_count": 49,
     "metadata": {},
     "output_type": "execute_result"
    }
   ],
   "source": [
    "dt.head()"
   ]
  },
  {
   "cell_type": "code",
   "execution_count": 50,
   "id": "72a0e0bf",
   "metadata": {},
   "outputs": [
    {
     "data": {
      "image/png": "[encoded data removed]",
      "text/plain": [
       "<Figure size 1080x504 with 1 Axes>"
      ]
     },
     "metadata": {
      "needs_background": "light"
     },
     "output_type": "display_data"
    }
   ],
   "source": [
    "# Outliers Detection using Box plot\n",
    "\n",
    "plt.figure(figsize=(15, 7))\n",
    "sns.boxplot(x = dt.Brand, y = dt.MRP)\n",
    "plt.show()"
   ]
  },
  {
   "cell_type": "code",
   "execution_count": 51,
   "id": "a46d8989",
   "metadata": {},
   "outputs": [
    {
     "data": {
      "image/png": "[encoded data removed]",
      "text/plain": [
       "<Figure size 360x360 with 1 Axes>"
      ]
     },
     "metadata": {
      "needs_background": "light"
     },
     "output_type": "display_data"
    }
   ],
   "source": [
    "# Skewness\n",
    "\n",
    "g = sns.displot(dt.MRP, kind='kde')\n",
    "g.set_xticklabels(rotation=45)\n",
    "plt.show()"
   ]
  },
  {
   "cell_type": "code",
   "execution_count": 52,
   "id": "f2661fe1",
   "metadata": {},
   "outputs": [
    {
     "data": {
      "image/png": "[encoded data removed]",
      "text/plain": [
       "<Figure size 432x288 with 1 Axes>"
      ]
     },
     "metadata": {
      "needs_background": "light"
     },
     "output_type": "display_data"
    }
   ],
   "source": [
    "sns.boxplot(y = dt.MRP)\n",
    "plt.show()"
   ]
  },
  {
   "cell_type": "code",
   "execution_count": 53,
   "id": "421283b1",
   "metadata": {},
   "outputs": [
    {
     "data": {
      "image/png": "[encoded data removed]",
      "text/plain": [
       "<Figure size 1080x504 with 1 Axes>"
      ]
     },
     "metadata": {
      "needs_background": "light"
     },
     "output_type": "display_data"
    }
   ],
   "source": [
    "plt.figure(figsize=(15, 7))\n",
    "sns.countplot(x=dt.Brand,color='r')\n",
    "plt.show()"
   ]
  },
  {
   "cell_type": "markdown",
   "id": "b6c8f3d2",
   "metadata": {},
   "source": [
    "**Observation** - The above plot show us the count for each product. We can see that ASUS is havng highest number of product listing on Flipkart website"
   ]
  },
  {
   "cell_type": "code",
   "execution_count": 54,
   "id": "2b846ada",
   "metadata": {},
   "outputs": [
    {
     "data": {
      "text/html": [
       "<div>\n",
       "<style scoped>\n",
       "    .dataframe tbody tr th:only-of-type {\n",
       "        vertical-align: middle;\n",
       "    }\n",
       "\n",
       "    .dataframe tbody tr th {\n",
       "        vertical-align: top;\n",
       "    }\n",
       "\n",
       "    .dataframe thead tr th {\n",
       "        text-align: left;\n",
       "    }\n",
       "\n",
       "    .dataframe thead tr:last-of-type th {\n",
       "        text-align: right;\n",
       "    }\n",
       "</style>\n",
       "<table border=\"1\" class=\"dataframe\">\n",
       "  <thead>\n",
       "    <tr>\n",
       "      <th></th>\n",
       "      <th colspan=\"3\" halign=\"left\">MRP</th>\n",
       "    </tr>\n",
       "    <tr>\n",
       "      <th></th>\n",
       "      <th>min</th>\n",
       "      <th>max</th>\n",
       "      <th>mean</th>\n",
       "    </tr>\n",
       "    <tr>\n",
       "      <th>Brand</th>\n",
       "      <th></th>\n",
       "      <th></th>\n",
       "      <th></th>\n",
       "    </tr>\n",
       "  </thead>\n",
       "  <tbody>\n",
       "    <tr>\n",
       "      <th>ASUS</th>\n",
       "      <td>23990.0</td>\n",
       "      <td>361990.0</td>\n",
       "      <td>106785.930233</td>\n",
       "    </tr>\n",
       "    <tr>\n",
       "      <th>DELL</th>\n",
       "      <td>34990.0</td>\n",
       "      <td>434830.0</td>\n",
       "      <td>76891.162791</td>\n",
       "    </tr>\n",
       "    <tr>\n",
       "      <th>GIGABYTE</th>\n",
       "      <td>73990.0</td>\n",
       "      <td>73990.0</td>\n",
       "      <td>73990.000000</td>\n",
       "    </tr>\n",
       "    <tr>\n",
       "      <th>HP</th>\n",
       "      <td>25990.0</td>\n",
       "      <td>199990.0</td>\n",
       "      <td>65599.135593</td>\n",
       "    </tr>\n",
       "    <tr>\n",
       "      <th>Infinix</th>\n",
       "      <td>20990.0</td>\n",
       "      <td>52990.0</td>\n",
       "      <td>36890.000000</td>\n",
       "    </tr>\n",
       "    <tr>\n",
       "      <th>Lenovo</th>\n",
       "      <td>23250.0</td>\n",
       "      <td>157990.0</td>\n",
       "      <td>46060.804348</td>\n",
       "    </tr>\n",
       "    <tr>\n",
       "      <th>MSI</th>\n",
       "      <td>43990.0</td>\n",
       "      <td>389990.0</td>\n",
       "      <td>125921.500000</td>\n",
       "    </tr>\n",
       "    <tr>\n",
       "      <th>Nokia</th>\n",
       "      <td>50490.0</td>\n",
       "      <td>50490.0</td>\n",
       "      <td>50490.000000</td>\n",
       "    </tr>\n",
       "    <tr>\n",
       "      <th>SAMSUNG</th>\n",
       "      <td>59990.0</td>\n",
       "      <td>59990.0</td>\n",
       "      <td>59990.000000</td>\n",
       "    </tr>\n",
       "    <tr>\n",
       "      <th>Vaio</th>\n",
       "      <td>40990.0</td>\n",
       "      <td>40990.0</td>\n",
       "      <td>40990.000000</td>\n",
       "    </tr>\n",
       "    <tr>\n",
       "      <th>acer</th>\n",
       "      <td>24990.0</td>\n",
       "      <td>155490.0</td>\n",
       "      <td>61071.423077</td>\n",
       "    </tr>\n",
       "    <tr>\n",
       "      <th>realme</th>\n",
       "      <td>46990.0</td>\n",
       "      <td>46990.0</td>\n",
       "      <td>46990.000000</td>\n",
       "    </tr>\n",
       "  </tbody>\n",
       "</table>\n",
       "</div>"
      ],
      "text/plain": [
       "              MRP                         \n",
       "              min       max           mean\n",
       "Brand                                     \n",
       "ASUS      23990.0  361990.0  106785.930233\n",
       "DELL      34990.0  434830.0   76891.162791\n",
       "GIGABYTE  73990.0   73990.0   73990.000000\n",
       "HP        25990.0  199990.0   65599.135593\n",
       "Infinix   20990.0   52990.0   36890.000000\n",
       "Lenovo    23250.0  157990.0   46060.804348\n",
       "MSI       43990.0  389990.0  125921.500000\n",
       "Nokia     50490.0   50490.0   50490.000000\n",
       "SAMSUNG   59990.0   59990.0   59990.000000\n",
       "Vaio      40990.0   40990.0   40990.000000\n",
       "acer      24990.0  155490.0   61071.423077\n",
       "realme    46990.0   46990.0   46990.000000"
      ]
     },
     "execution_count": 54,
     "metadata": {},
     "output_type": "execute_result"
    }
   ],
   "source": [
    "dt.groupby(['Brand']).agg({'MRP' : ['min', 'max', 'mean']})"
   ]
  },
  {
   "cell_type": "code",
   "execution_count": 55,
   "id": "4253c420",
   "metadata": {},
   "outputs": [
    {
     "data": {
      "image/png": "[encoded data removed]",
      "text/plain": [
       "<Figure size 1080x504 with 1 Axes>"
      ]
     },
     "metadata": {
      "needs_background": "light"
     },
     "output_type": "display_data"
    }
   ],
   "source": [
    "plt.figure(figsize=(15, 7))\n",
    "dt.groupby(['Brand'])['MRP'].max().plot(kind='bar')\n",
    "plt.show()"
   ]
  },
  {
   "cell_type": "code",
   "execution_count": 56,
   "id": "5defd8ce",
   "metadata": {},
   "outputs": [
    {
     "data": {
      "image/png": "[encoded data removed]",
      "text/plain": [
       "<Figure size 1080x504 with 1 Axes>"
      ]
     },
     "metadata": {
      "needs_background": "light"
     },
     "output_type": "display_data"
    }
   ],
   "source": [
    "plt.figure(figsize=(15, 7))\n",
    "dt.groupby(['Brand'])['MRP'].min().plot(kind = 'bar')\n",
    "plt.show()"
   ]
  },
  {
   "cell_type": "code",
   "execution_count": 57,
   "id": "63a513a3",
   "metadata": {},
   "outputs": [
    {
     "data": {
      "text/plain": [
       "(20000, 50000]      51.219512\n",
       "(50000, 150000]     38.821138\n",
       "(150000, 450000]     9.959350\n",
       "Name: MRP, dtype: float64"
      ]
     },
     "execution_count": 57,
     "metadata": {},
     "output_type": "execute_result"
    }
   ],
   "source": [
    "pd.cut(dt['MRP'],[20000,50000,150000,450000]).value_counts(normalize=True)*100"
   ]
  },
  {
   "cell_type": "code",
   "execution_count": 58,
   "id": "e3e6ec6f",
   "metadata": {},
   "outputs": [
    {
     "data": {
      "image/png": "[encoded data removed]",
      "text/plain": [
       "<Figure size 432x288 with 1 Axes>"
      ]
     },
     "metadata": {
      "needs_background": "light"
     },
     "output_type": "display_data"
    }
   ],
   "source": [
    "sns.histplot(dt.MRP,bins=[20000,50000,150000,300000,450000])\n",
    "plt.show()"
   ]
  },
  {
   "cell_type": "markdown",
   "id": "5fb17a4d",
   "metadata": {},
   "source": [
    "### Feature Selection`"
   ]
  },
  {
   "cell_type": "code",
   "execution_count": 59,
   "id": "032f77e4",
   "metadata": {},
   "outputs": [
    {
     "data": {
      "text/html": [
       "<div>\n",
       "<style scoped>\n",
       "    .dataframe tbody tr th:only-of-type {\n",
       "        vertical-align: middle;\n",
       "    }\n",
       "\n",
       "    .dataframe tbody tr th {\n",
       "        vertical-align: top;\n",
       "    }\n",
       "\n",
       "    .dataframe thead th {\n",
       "        text-align: right;\n",
       "    }\n",
       "</style>\n",
       "<table border=\"1\" class=\"dataframe\">\n",
       "  <thead>\n",
       "    <tr style=\"text-align: right;\">\n",
       "      <th></th>\n",
       "      <th>Product</th>\n",
       "      <th>MRP</th>\n",
       "      <th>Feature</th>\n",
       "      <th>Processor</th>\n",
       "      <th>RAM</th>\n",
       "      <th>OS</th>\n",
       "      <th>Storage</th>\n",
       "      <th>Brand</th>\n",
       "    </tr>\n",
       "  </thead>\n",
       "  <tbody>\n",
       "    <tr>\n",
       "      <th>0</th>\n",
       "      <td>Lenovo IdeaPad 3 Core i3 11th Gen - (8 GB/256 ...</td>\n",
       "      <td>36990.0</td>\n",
       "      <td>Intel Core i3 Processor (11th Gen)8 GB DDR4 RA...</td>\n",
       "      <td>Intel Core i3 Processor</td>\n",
       "      <td>8 GB DDR4 RAM</td>\n",
       "      <td>64 bit Windows 11 Operating System</td>\n",
       "      <td>256 GB SSD</td>\n",
       "      <td>Lenovo</td>\n",
       "    </tr>\n",
       "    <tr>\n",
       "      <th>1</th>\n",
       "      <td>Lenovo IdeaPad 3 Core i3 11th Gen - (8 GB/512 ...</td>\n",
       "      <td>39990.0</td>\n",
       "      <td>Intel Core i3 Processor (11th Gen)8 GB DDR4 RA...</td>\n",
       "      <td>Intel Core i3 Processor</td>\n",
       "      <td>8 GB DDR4 RAM</td>\n",
       "      <td>64 bit Windows 11 Operating System</td>\n",
       "      <td>512 GB SSD</td>\n",
       "      <td>Lenovo</td>\n",
       "    </tr>\n",
       "    <tr>\n",
       "      <th>2</th>\n",
       "      <td>ASUS VivoBook 15 (2022) Core i3 10th Gen - (8 ...</td>\n",
       "      <td>32990.0</td>\n",
       "      <td>Intel Core i3 Processor (10th Gen)8 GB DDR4 RA...</td>\n",
       "      <td>Intel Core i3 Processor</td>\n",
       "      <td>8 GB DDR4 RAM</td>\n",
       "      <td>64 bit Windows 11 Operating System</td>\n",
       "      <td>512 GB SSD</td>\n",
       "      <td>ASUS</td>\n",
       "    </tr>\n",
       "    <tr>\n",
       "      <th>3</th>\n",
       "      <td>HP Pavilion Ryzen 5 Hexa Core AMD R5-5600H - (...</td>\n",
       "      <td>49990.0</td>\n",
       "      <td>AMD Ryzen 5 Hexa Core Processor8 GB DDR4 RAM64...</td>\n",
       "      <td>AMD Ryzen 5 Hexa Core Processor</td>\n",
       "      <td>8 GB DDR4 RAM</td>\n",
       "      <td>64 bit Windows 10 Operating System</td>\n",
       "      <td>512 GB SSD</td>\n",
       "      <td>HP</td>\n",
       "    </tr>\n",
       "    <tr>\n",
       "      <th>5</th>\n",
       "      <td>HP 14s Intel Core i3 11th Gen - (8 GB/256 GB S...</td>\n",
       "      <td>36990.0</td>\n",
       "      <td>Intel Core i3 Processor (11th Gen)8 GB DDR4 RA...</td>\n",
       "      <td>Intel Core i3 Processor</td>\n",
       "      <td>8 GB DDR4 RAM</td>\n",
       "      <td>64 bit Windows 11 Operating System</td>\n",
       "      <td>256 GB SSD</td>\n",
       "      <td>HP</td>\n",
       "    </tr>\n",
       "  </tbody>\n",
       "</table>\n",
       "</div>"
      ],
      "text/plain": [
       "                                             Product      MRP  \\\n",
       "0  Lenovo IdeaPad 3 Core i3 11th Gen - (8 GB/256 ...  36990.0   \n",
       "1  Lenovo IdeaPad 3 Core i3 11th Gen - (8 GB/512 ...  39990.0   \n",
       "2  ASUS VivoBook 15 (2022) Core i3 10th Gen - (8 ...  32990.0   \n",
       "3  HP Pavilion Ryzen 5 Hexa Core AMD R5-5600H - (...  49990.0   \n",
       "5  HP 14s Intel Core i3 11th Gen - (8 GB/256 GB S...  36990.0   \n",
       "\n",
       "                                             Feature  \\\n",
       "0  Intel Core i3 Processor (11th Gen)8 GB DDR4 RA...   \n",
       "1  Intel Core i3 Processor (11th Gen)8 GB DDR4 RA...   \n",
       "2  Intel Core i3 Processor (10th Gen)8 GB DDR4 RA...   \n",
       "3  AMD Ryzen 5 Hexa Core Processor8 GB DDR4 RAM64...   \n",
       "5  Intel Core i3 Processor (11th Gen)8 GB DDR4 RA...   \n",
       "\n",
       "                         Processor            RAM  \\\n",
       "0          Intel Core i3 Processor  8 GB DDR4 RAM   \n",
       "1          Intel Core i3 Processor  8 GB DDR4 RAM   \n",
       "2          Intel Core i3 Processor  8 GB DDR4 RAM   \n",
       "3  AMD Ryzen 5 Hexa Core Processor  8 GB DDR4 RAM   \n",
       "5          Intel Core i3 Processor  8 GB DDR4 RAM   \n",
       "\n",
       "                                   OS     Storage   Brand  \n",
       "0  64 bit Windows 11 Operating System  256 GB SSD  Lenovo  \n",
       "1  64 bit Windows 11 Operating System  512 GB SSD  Lenovo  \n",
       "2  64 bit Windows 11 Operating System  512 GB SSD    ASUS  \n",
       "3  64 bit Windows 10 Operating System  512 GB SSD      HP  \n",
       "5  64 bit Windows 11 Operating System  256 GB SSD      HP  "
      ]
     },
     "execution_count": 59,
     "metadata": {},
     "output_type": "execute_result"
    }
   ],
   "source": [
    "dt.head()"
   ]
  },
  {
   "cell_type": "code",
   "execution_count": 60,
   "id": "a2938e21",
   "metadata": {},
   "outputs": [
    {
     "data": {
      "text/plain": [
       "Index(['Product', 'MRP', 'Feature', 'Processor', 'RAM', 'OS', 'Storage',\n",
       "       'Brand'],\n",
       "      dtype='object')"
      ]
     },
     "execution_count": 60,
     "metadata": {},
     "output_type": "execute_result"
    }
   ],
   "source": [
    "dt.columns"
   ]
  },
  {
   "cell_type": "code",
   "execution_count": 61,
   "id": "92352110",
   "metadata": {},
   "outputs": [],
   "source": [
    "new_f=['Processor', 'RAM', 'OS', 'Storage', 'MRP']\n",
    "\n",
    "df=pd.DataFrame(dt,columns=new_f)"
   ]
  },
  {
   "cell_type": "code",
   "execution_count": 62,
   "id": "7a3b34bd",
   "metadata": {},
   "outputs": [
    {
     "data": {
      "text/html": [
       "<div>\n",
       "<style scoped>\n",
       "    .dataframe tbody tr th:only-of-type {\n",
       "        vertical-align: middle;\n",
       "    }\n",
       "\n",
       "    .dataframe tbody tr th {\n",
       "        vertical-align: top;\n",
       "    }\n",
       "\n",
       "    .dataframe thead th {\n",
       "        text-align: right;\n",
       "    }\n",
       "</style>\n",
       "<table border=\"1\" class=\"dataframe\">\n",
       "  <thead>\n",
       "    <tr style=\"text-align: right;\">\n",
       "      <th></th>\n",
       "      <th>Processor</th>\n",
       "      <th>RAM</th>\n",
       "      <th>OS</th>\n",
       "      <th>Storage</th>\n",
       "      <th>MRP</th>\n",
       "    </tr>\n",
       "  </thead>\n",
       "  <tbody>\n",
       "    <tr>\n",
       "      <th>0</th>\n",
       "      <td>Intel Core i3 Processor</td>\n",
       "      <td>8 GB DDR4 RAM</td>\n",
       "      <td>64 bit Windows 11 Operating System</td>\n",
       "      <td>256 GB SSD</td>\n",
       "      <td>36990.0</td>\n",
       "    </tr>\n",
       "    <tr>\n",
       "      <th>1</th>\n",
       "      <td>Intel Core i3 Processor</td>\n",
       "      <td>8 GB DDR4 RAM</td>\n",
       "      <td>64 bit Windows 11 Operating System</td>\n",
       "      <td>512 GB SSD</td>\n",
       "      <td>39990.0</td>\n",
       "    </tr>\n",
       "    <tr>\n",
       "      <th>2</th>\n",
       "      <td>Intel Core i3 Processor</td>\n",
       "      <td>8 GB DDR4 RAM</td>\n",
       "      <td>64 bit Windows 11 Operating System</td>\n",
       "      <td>512 GB SSD</td>\n",
       "      <td>32990.0</td>\n",
       "    </tr>\n",
       "    <tr>\n",
       "      <th>3</th>\n",
       "      <td>AMD Ryzen 5 Hexa Core Processor</td>\n",
       "      <td>8 GB DDR4 RAM</td>\n",
       "      <td>64 bit Windows 10 Operating System</td>\n",
       "      <td>512 GB SSD</td>\n",
       "      <td>49990.0</td>\n",
       "    </tr>\n",
       "    <tr>\n",
       "      <th>5</th>\n",
       "      <td>Intel Core i3 Processor</td>\n",
       "      <td>8 GB DDR4 RAM</td>\n",
       "      <td>64 bit Windows 11 Operating System</td>\n",
       "      <td>256 GB SSD</td>\n",
       "      <td>36990.0</td>\n",
       "    </tr>\n",
       "  </tbody>\n",
       "</table>\n",
       "</div>"
      ],
      "text/plain": [
       "                         Processor            RAM  \\\n",
       "0          Intel Core i3 Processor  8 GB DDR4 RAM   \n",
       "1          Intel Core i3 Processor  8 GB DDR4 RAM   \n",
       "2          Intel Core i3 Processor  8 GB DDR4 RAM   \n",
       "3  AMD Ryzen 5 Hexa Core Processor  8 GB DDR4 RAM   \n",
       "5          Intel Core i3 Processor  8 GB DDR4 RAM   \n",
       "\n",
       "                                   OS     Storage      MRP  \n",
       "0  64 bit Windows 11 Operating System  256 GB SSD  36990.0  \n",
       "1  64 bit Windows 11 Operating System  512 GB SSD  39990.0  \n",
       "2  64 bit Windows 11 Operating System  512 GB SSD  32990.0  \n",
       "3  64 bit Windows 10 Operating System  512 GB SSD  49990.0  \n",
       "5  64 bit Windows 11 Operating System  256 GB SSD  36990.0  "
      ]
     },
     "execution_count": 62,
     "metadata": {},
     "output_type": "execute_result"
    }
   ],
   "source": [
    "df.head()"
   ]
  },
  {
   "cell_type": "code",
   "execution_count": 63,
   "id": "9207847f",
   "metadata": {},
   "outputs": [
    {
     "name": "stdout",
     "output_type": "stream",
     "text": [
      "<class 'pandas.core.frame.DataFrame'>\n",
      "Int64Index: 492 entries, 0 to 719\n",
      "Data columns (total 5 columns):\n",
      " #   Column     Non-Null Count  Dtype  \n",
      "---  ------     --------------  -----  \n",
      " 0   Processor  492 non-null    object \n",
      " 1   RAM        492 non-null    object \n",
      " 2   OS         492 non-null    object \n",
      " 3   Storage    492 non-null    object \n",
      " 4   MRP        492 non-null    float64\n",
      "dtypes: float64(1), object(4)\n",
      "memory usage: 23.1+ KB\n"
     ]
    }
   ],
   "source": [
    "df.info()"
   ]
  },
  {
   "cell_type": "code",
   "execution_count": 64,
   "id": "e8ae8eb6",
   "metadata": {},
   "outputs": [
    {
     "data": {
      "text/plain": [
       "(492, 5)"
      ]
     },
     "execution_count": 64,
     "metadata": {},
     "output_type": "execute_result"
    }
   ],
   "source": [
    "df.shape"
   ]
  },
  {
   "cell_type": "code",
   "execution_count": 65,
   "id": "2ad21d4a",
   "metadata": {},
   "outputs": [
    {
     "data": {
      "text/html": [
       "<div>\n",
       "<style scoped>\n",
       "    .dataframe tbody tr th:only-of-type {\n",
       "        vertical-align: middle;\n",
       "    }\n",
       "\n",
       "    .dataframe tbody tr th {\n",
       "        vertical-align: top;\n",
       "    }\n",
       "\n",
       "    .dataframe thead th {\n",
       "        text-align: right;\n",
       "    }\n",
       "</style>\n",
       "<table border=\"1\" class=\"dataframe\">\n",
       "  <thead>\n",
       "    <tr style=\"text-align: right;\">\n",
       "      <th></th>\n",
       "      <th>count</th>\n",
       "      <th>mean</th>\n",
       "      <th>std</th>\n",
       "      <th>min</th>\n",
       "      <th>25%</th>\n",
       "      <th>50%</th>\n",
       "      <th>75%</th>\n",
       "      <th>max</th>\n",
       "    </tr>\n",
       "  </thead>\n",
       "  <tbody>\n",
       "    <tr>\n",
       "      <th>MRP</th>\n",
       "      <td>492.0</td>\n",
       "      <td>71746.560976</td>\n",
       "      <td>57695.886647</td>\n",
       "      <td>20990.0</td>\n",
       "      <td>38705.0</td>\n",
       "      <td>49169.0</td>\n",
       "      <td>75992.5</td>\n",
       "      <td>434830.0</td>\n",
       "    </tr>\n",
       "  </tbody>\n",
       "</table>\n",
       "</div>"
      ],
      "text/plain": [
       "     count          mean           std      min      25%      50%      75%  \\\n",
       "MRP  492.0  71746.560976  57695.886647  20990.0  38705.0  49169.0  75992.5   \n",
       "\n",
       "          max  \n",
       "MRP  434830.0  "
      ]
     },
     "execution_count": 65,
     "metadata": {},
     "output_type": "execute_result"
    }
   ],
   "source": [
    "df.describe().T"
   ]
  },
  {
   "cell_type": "code",
   "execution_count": 66,
   "id": "c58eaea5",
   "metadata": {},
   "outputs": [
    {
     "data": {
      "text/html": [
       "<div>\n",
       "<style scoped>\n",
       "    .dataframe tbody tr th:only-of-type {\n",
       "        vertical-align: middle;\n",
       "    }\n",
       "\n",
       "    .dataframe tbody tr th {\n",
       "        vertical-align: top;\n",
       "    }\n",
       "\n",
       "    .dataframe thead th {\n",
       "        text-align: right;\n",
       "    }\n",
       "</style>\n",
       "<table border=\"1\" class=\"dataframe\">\n",
       "  <thead>\n",
       "    <tr style=\"text-align: right;\">\n",
       "      <th></th>\n",
       "      <th>count</th>\n",
       "      <th>unique</th>\n",
       "      <th>top</th>\n",
       "      <th>freq</th>\n",
       "    </tr>\n",
       "  </thead>\n",
       "  <tbody>\n",
       "    <tr>\n",
       "      <th>Processor</th>\n",
       "      <td>492</td>\n",
       "      <td>17</td>\n",
       "      <td>Intel Core i3 Processor</td>\n",
       "      <td>119</td>\n",
       "    </tr>\n",
       "    <tr>\n",
       "      <th>RAM</th>\n",
       "      <td>492</td>\n",
       "      <td>14</td>\n",
       "      <td>8 GB DDR4 RAM</td>\n",
       "      <td>298</td>\n",
       "    </tr>\n",
       "    <tr>\n",
       "      <th>OS</th>\n",
       "      <td>492</td>\n",
       "      <td>4</td>\n",
       "      <td>64 bit Windows 11 Operating System</td>\n",
       "      <td>391</td>\n",
       "    </tr>\n",
       "    <tr>\n",
       "      <th>Storage</th>\n",
       "      <td>492</td>\n",
       "      <td>8</td>\n",
       "      <td>512 GB SSD</td>\n",
       "      <td>298</td>\n",
       "    </tr>\n",
       "  </tbody>\n",
       "</table>\n",
       "</div>"
      ],
      "text/plain": [
       "          count unique                                 top freq\n",
       "Processor   492     17             Intel Core i3 Processor  119\n",
       "RAM         492     14                       8 GB DDR4 RAM  298\n",
       "OS          492      4  64 bit Windows 11 Operating System  391\n",
       "Storage     492      8                          512 GB SSD  298"
      ]
     },
     "execution_count": 66,
     "metadata": {},
     "output_type": "execute_result"
    }
   ],
   "source": [
    "df.describe(include=[\"object\"]).T"
   ]
  },
  {
   "cell_type": "code",
   "execution_count": 67,
   "id": "b272d772",
   "metadata": {},
   "outputs": [
    {
     "data": {
      "text/plain": [
       "['MRP']"
      ]
     },
     "execution_count": 67,
     "metadata": {},
     "output_type": "execute_result"
    }
   ],
   "source": [
    "# Numerical Columns\n",
    "\n",
    "num_data=[i for i in list(df.columns) if df[i].dtype!='O']\n",
    "num_data"
   ]
  },
  {
   "cell_type": "code",
   "execution_count": 68,
   "id": "97fa4bdd",
   "metadata": {},
   "outputs": [
    {
     "data": {
      "text/plain": [
       "['Processor', 'RAM', 'OS', 'Storage']"
      ]
     },
     "execution_count": 68,
     "metadata": {},
     "output_type": "execute_result"
    }
   ],
   "source": [
    "# Catagorical Columns\n",
    "\n",
    "cat_data=[j for j in list(df.columns) if df[j].dtype=='O']\n",
    "cat_data"
   ]
  },
  {
   "cell_type": "markdown",
   "id": "f5903c5f",
   "metadata": {},
   "source": [
    "## Correlation Test"
   ]
  },
  {
   "cell_type": "markdown",
   "id": "b3dfc798",
   "metadata": {},
   "source": [
    "### Chi-Squared Test\n",
    "\n",
    "Tests whether two categorical variables are related or independent.\n",
    "\n",
    "**Interpretation**\n",
    "\n",
    "H0: the two samples are independent.\n",
    "\n",
    "H1: there is a dependency between the samples."
   ]
  },
  {
   "cell_type": "markdown",
   "id": "4aa79302",
   "metadata": {},
   "source": [
    "#### Numerical vs Catagorical Column"
   ]
  },
  {
   "cell_type": "code",
   "execution_count": 69,
   "id": "4ba43079",
   "metadata": {},
   "outputs": [
    {
     "data": {
      "application/vnd.jupyter.widget-view+json": {
       "model_id": "ca0fd4398f6d4885b2f4288ec100836f",
       "version_major": 2,
       "version_minor": 0
      },
      "text/plain": [
       "interactive(children=(Dropdown(description='col1', options=('MRP',), value='MRP'), Dropdown(description='col2'…"
      ]
     },
     "metadata": {},
     "output_type": "display_data"
    },
    {
     "data": {
      "text/plain": [
       "<function __main__.chi_test(col1, col2)>"
      ]
     },
     "execution_count": 69,
     "metadata": {},
     "output_type": "execute_result"
    }
   ],
   "source": [
    "def chi_test(col1,col2):\n",
    "    ct = pd.crosstab(df[col1],df[col2])\n",
    "    stat, p, dof, expected = stats.chi2_contingency(ct)\n",
    "    alpha = 0.05\n",
    "    print()\n",
    "    print(\"p value : \" + str(p)) \n",
    "    print()\n",
    "    if p <= alpha:\n",
    "        print('{} and {} both are Dependent (Reject H0)'.format(col1,col2))\n",
    "    else:\n",
    "        print('{} and {} both are Independent (H0 holds true)'.format(col1,col2))\n",
    "\n",
    "widgets.interact(chi_test,col1=num_data,col2=cat_data)"
   ]
  },
  {
   "cell_type": "markdown",
   "id": "901190aa",
   "metadata": {},
   "source": [
    "#### Categorical vs Categorical Column"
   ]
  },
  {
   "cell_type": "code",
   "execution_count": 70,
   "id": "4253e8fc",
   "metadata": {},
   "outputs": [
    {
     "data": {
      "application/vnd.jupyter.widget-view+json": {
       "model_id": "5cd23eb5ebce47dc838841ca623d7bc3",
       "version_major": 2,
       "version_minor": 0
      },
      "text/plain": [
       "interactive(children=(Dropdown(description='col1', options=('Processor', 'RAM', 'OS', 'Storage'), value='Proce…"
      ]
     },
     "metadata": {},
     "output_type": "display_data"
    },
    {
     "data": {
      "text/plain": [
       "<function __main__.chi_test(col1, col2)>"
      ]
     },
     "execution_count": 70,
     "metadata": {},
     "output_type": "execute_result"
    }
   ],
   "source": [
    "def chi_test(col1,col2):\n",
    "    ct = pd.crosstab(df[col1],df[col2])\n",
    "    stat, p, dof, expected = stats.chi2_contingency(ct)\n",
    "    alpha = 0.05\n",
    "    print()\n",
    "    print(\"p value : \" + str(p)) \n",
    "    print()\n",
    "    if p <= alpha:\n",
    "        print('{} and {} both are Dependent (Reject H0)'.format(col1,col2))\n",
    "    else:\n",
    "        print('{} and {} both are Independent (H0 holds true)'.format(col1,col2))\n",
    "\n",
    "widgets.interact(chi_test,col1=cat_data,col2=cat_data)"
   ]
  },
  {
   "cell_type": "code",
   "execution_count": 71,
   "id": "9a67a45d",
   "metadata": {},
   "outputs": [
    {
     "data": {
      "text/html": [
       "<div>\n",
       "<style scoped>\n",
       "    .dataframe tbody tr th:only-of-type {\n",
       "        vertical-align: middle;\n",
       "    }\n",
       "\n",
       "    .dataframe tbody tr th {\n",
       "        vertical-align: top;\n",
       "    }\n",
       "\n",
       "    .dataframe thead th {\n",
       "        text-align: right;\n",
       "    }\n",
       "</style>\n",
       "<table border=\"1\" class=\"dataframe\">\n",
       "  <thead>\n",
       "    <tr style=\"text-align: right;\">\n",
       "      <th>Storage</th>\n",
       "      <th>1 TB HDD</th>\n",
       "      <th>1 TB HDD256 GB SSD</th>\n",
       "      <th>1 TB HDD512 GB SSD</th>\n",
       "      <th>1 TB SSD</th>\n",
       "      <th>128 GB SSD</th>\n",
       "      <th>2 TB SSD</th>\n",
       "      <th>256 GB SSD</th>\n",
       "      <th>512 GB SSD</th>\n",
       "      <th>All</th>\n",
       "    </tr>\n",
       "    <tr>\n",
       "      <th>OS</th>\n",
       "      <th></th>\n",
       "      <th></th>\n",
       "      <th></th>\n",
       "      <th></th>\n",
       "      <th></th>\n",
       "      <th></th>\n",
       "      <th></th>\n",
       "      <th></th>\n",
       "      <th></th>\n",
       "    </tr>\n",
       "  </thead>\n",
       "  <tbody>\n",
       "    <tr>\n",
       "      <th>32 bit Windows 11 Operating System</th>\n",
       "      <td>0.00</td>\n",
       "      <td>0.00</td>\n",
       "      <td>0.0</td>\n",
       "      <td>0.00</td>\n",
       "      <td>0.00</td>\n",
       "      <td>0.00</td>\n",
       "      <td>0.00</td>\n",
       "      <td>0.20</td>\n",
       "      <td>0.20</td>\n",
       "    </tr>\n",
       "    <tr>\n",
       "      <th>64 bit DOS Operating System</th>\n",
       "      <td>0.00</td>\n",
       "      <td>0.00</td>\n",
       "      <td>0.0</td>\n",
       "      <td>0.00</td>\n",
       "      <td>0.00</td>\n",
       "      <td>0.00</td>\n",
       "      <td>0.20</td>\n",
       "      <td>0.20</td>\n",
       "      <td>0.41</td>\n",
       "    </tr>\n",
       "    <tr>\n",
       "      <th>64 bit Windows 10 Operating System</th>\n",
       "      <td>2.44</td>\n",
       "      <td>1.83</td>\n",
       "      <td>0.2</td>\n",
       "      <td>2.85</td>\n",
       "      <td>0.00</td>\n",
       "      <td>0.20</td>\n",
       "      <td>3.25</td>\n",
       "      <td>9.15</td>\n",
       "      <td>19.92</td>\n",
       "    </tr>\n",
       "    <tr>\n",
       "      <th>64 bit Windows 11 Operating System</th>\n",
       "      <td>0.41</td>\n",
       "      <td>1.42</td>\n",
       "      <td>0.0</td>\n",
       "      <td>11.38</td>\n",
       "      <td>0.81</td>\n",
       "      <td>1.22</td>\n",
       "      <td>13.21</td>\n",
       "      <td>51.02</td>\n",
       "      <td>79.47</td>\n",
       "    </tr>\n",
       "    <tr>\n",
       "      <th>All</th>\n",
       "      <td>2.85</td>\n",
       "      <td>3.25</td>\n",
       "      <td>0.2</td>\n",
       "      <td>14.23</td>\n",
       "      <td>0.81</td>\n",
       "      <td>1.42</td>\n",
       "      <td>16.67</td>\n",
       "      <td>60.57</td>\n",
       "      <td>100.00</td>\n",
       "    </tr>\n",
       "  </tbody>\n",
       "</table>\n",
       "</div>"
      ],
      "text/plain": [
       "Storage                             1 TB HDD  1 TB HDD256 GB SSD  \\\n",
       "OS                                                                 \n",
       "32 bit Windows 11 Operating System      0.00                0.00   \n",
       "64 bit DOS Operating System             0.00                0.00   \n",
       "64 bit Windows 10 Operating System      2.44                1.83   \n",
       "64 bit Windows 11 Operating System      0.41                1.42   \n",
       "All                                     2.85                3.25   \n",
       "\n",
       "Storage                             1 TB HDD512 GB SSD  1 TB SSD  128 GB SSD  \\\n",
       "OS                                                                             \n",
       "32 bit Windows 11 Operating System                 0.0      0.00        0.00   \n",
       "64 bit DOS Operating System                        0.0      0.00        0.00   \n",
       "64 bit Windows 10 Operating System                 0.2      2.85        0.00   \n",
       "64 bit Windows 11 Operating System                 0.0     11.38        0.81   \n",
       "All                                                0.2     14.23        0.81   \n",
       "\n",
       "Storage                             2 TB SSD  256 GB SSD  512 GB SSD     All  \n",
       "OS                                                                            \n",
       "32 bit Windows 11 Operating System      0.00        0.00        0.20    0.20  \n",
       "64 bit DOS Operating System             0.00        0.20        0.20    0.41  \n",
       "64 bit Windows 10 Operating System      0.20        3.25        9.15   19.92  \n",
       "64 bit Windows 11 Operating System      1.22       13.21       51.02   79.47  \n",
       "All                                     1.42       16.67       60.57  100.00  "
      ]
     },
     "execution_count": 71,
     "metadata": {},
     "output_type": "execute_result"
    }
   ],
   "source": [
    "np.round((pd.crosstab(df.OS,dt.Storage,margins=True)/len(df))*100,2)"
   ]
  },
  {
   "cell_type": "code",
   "execution_count": 72,
   "id": "69ff290a",
   "metadata": {},
   "outputs": [
    {
     "data": {
      "text/html": [
       "<div>\n",
       "<style scoped>\n",
       "    .dataframe tbody tr th:only-of-type {\n",
       "        vertical-align: middle;\n",
       "    }\n",
       "\n",
       "    .dataframe tbody tr th {\n",
       "        vertical-align: top;\n",
       "    }\n",
       "\n",
       "    .dataframe thead th {\n",
       "        text-align: right;\n",
       "    }\n",
       "</style>\n",
       "<table border=\"1\" class=\"dataframe\">\n",
       "  <thead>\n",
       "    <tr style=\"text-align: right;\">\n",
       "      <th>RAM</th>\n",
       "      <th>16 GB DDR4 RAM</th>\n",
       "      <th>16 GB DDR5 RAM</th>\n",
       "      <th>16 GB LPDDR3 RAM</th>\n",
       "      <th>16 GB LPDDR4 RAM</th>\n",
       "      <th>16 GB LPDDR4X RAM</th>\n",
       "      <th>16 GB LPDDR5 RAM</th>\n",
       "      <th>32 GB DDR4 RAM</th>\n",
       "      <th>32 GB DDR5 RAM</th>\n",
       "      <th>32 GB LPDDR4X RAM</th>\n",
       "      <th>4 GB DDR4 RAM</th>\n",
       "      <th>4 GB LPDDR4X RAM</th>\n",
       "      <th>8 GB DDR4 RAM</th>\n",
       "      <th>8 GB DDR5 RAM</th>\n",
       "      <th>8 GB LPDDR4X RAM</th>\n",
       "      <th>All</th>\n",
       "    </tr>\n",
       "    <tr>\n",
       "      <th>OS</th>\n",
       "      <th></th>\n",
       "      <th></th>\n",
       "      <th></th>\n",
       "      <th></th>\n",
       "      <th></th>\n",
       "      <th></th>\n",
       "      <th></th>\n",
       "      <th></th>\n",
       "      <th></th>\n",
       "      <th></th>\n",
       "      <th></th>\n",
       "      <th></th>\n",
       "      <th></th>\n",
       "      <th></th>\n",
       "      <th></th>\n",
       "    </tr>\n",
       "  </thead>\n",
       "  <tbody>\n",
       "    <tr>\n",
       "      <th>32 bit Windows 11 Operating System</th>\n",
       "      <td>0.00</td>\n",
       "      <td>0.00</td>\n",
       "      <td>0.0</td>\n",
       "      <td>0.0</td>\n",
       "      <td>0.00</td>\n",
       "      <td>0.00</td>\n",
       "      <td>0.00</td>\n",
       "      <td>0.00</td>\n",
       "      <td>0.0</td>\n",
       "      <td>0.00</td>\n",
       "      <td>0.00</td>\n",
       "      <td>0.20</td>\n",
       "      <td>0.00</td>\n",
       "      <td>0.00</td>\n",
       "      <td>0.20</td>\n",
       "    </tr>\n",
       "    <tr>\n",
       "      <th>64 bit DOS Operating System</th>\n",
       "      <td>0.00</td>\n",
       "      <td>0.00</td>\n",
       "      <td>0.0</td>\n",
       "      <td>0.0</td>\n",
       "      <td>0.00</td>\n",
       "      <td>0.00</td>\n",
       "      <td>0.00</td>\n",
       "      <td>0.00</td>\n",
       "      <td>0.0</td>\n",
       "      <td>0.20</td>\n",
       "      <td>0.00</td>\n",
       "      <td>0.20</td>\n",
       "      <td>0.00</td>\n",
       "      <td>0.00</td>\n",
       "      <td>0.41</td>\n",
       "    </tr>\n",
       "    <tr>\n",
       "      <th>64 bit Windows 10 Operating System</th>\n",
       "      <td>4.88</td>\n",
       "      <td>0.00</td>\n",
       "      <td>0.2</td>\n",
       "      <td>0.0</td>\n",
       "      <td>0.81</td>\n",
       "      <td>0.00</td>\n",
       "      <td>0.41</td>\n",
       "      <td>0.00</td>\n",
       "      <td>0.2</td>\n",
       "      <td>2.44</td>\n",
       "      <td>0.00</td>\n",
       "      <td>10.98</td>\n",
       "      <td>0.00</td>\n",
       "      <td>0.00</td>\n",
       "      <td>19.92</td>\n",
       "    </tr>\n",
       "    <tr>\n",
       "      <th>64 bit Windows 11 Operating System</th>\n",
       "      <td>10.37</td>\n",
       "      <td>8.13</td>\n",
       "      <td>0.0</td>\n",
       "      <td>0.2</td>\n",
       "      <td>2.24</td>\n",
       "      <td>1.22</td>\n",
       "      <td>0.20</td>\n",
       "      <td>2.24</td>\n",
       "      <td>0.0</td>\n",
       "      <td>1.42</td>\n",
       "      <td>0.41</td>\n",
       "      <td>49.19</td>\n",
       "      <td>0.81</td>\n",
       "      <td>3.05</td>\n",
       "      <td>79.47</td>\n",
       "    </tr>\n",
       "    <tr>\n",
       "      <th>All</th>\n",
       "      <td>15.24</td>\n",
       "      <td>8.13</td>\n",
       "      <td>0.2</td>\n",
       "      <td>0.2</td>\n",
       "      <td>3.05</td>\n",
       "      <td>1.22</td>\n",
       "      <td>0.61</td>\n",
       "      <td>2.24</td>\n",
       "      <td>0.2</td>\n",
       "      <td>4.07</td>\n",
       "      <td>0.41</td>\n",
       "      <td>60.57</td>\n",
       "      <td>0.81</td>\n",
       "      <td>3.05</td>\n",
       "      <td>100.00</td>\n",
       "    </tr>\n",
       "  </tbody>\n",
       "</table>\n",
       "</div>"
      ],
      "text/plain": [
       "RAM                                 16 GB DDR4 RAM  16 GB DDR5 RAM  \\\n",
       "OS                                                                   \n",
       "32 bit Windows 11 Operating System            0.00            0.00   \n",
       "64 bit DOS Operating System                   0.00            0.00   \n",
       "64 bit Windows 10 Operating System            4.88            0.00   \n",
       "64 bit Windows 11 Operating System           10.37            8.13   \n",
       "All                                          15.24            8.13   \n",
       "\n",
       "RAM                                 16 GB LPDDR3 RAM  16 GB LPDDR4 RAM  \\\n",
       "OS                                                                       \n",
       "32 bit Windows 11 Operating System               0.0               0.0   \n",
       "64 bit DOS Operating System                      0.0               0.0   \n",
       "64 bit Windows 10 Operating System               0.2               0.0   \n",
       "64 bit Windows 11 Operating System               0.0               0.2   \n",
       "All                                              0.2               0.2   \n",
       "\n",
       "RAM                                 16 GB LPDDR4X RAM  16 GB LPDDR5 RAM  \\\n",
       "OS                                                                        \n",
       "32 bit Windows 11 Operating System               0.00              0.00   \n",
       "64 bit DOS Operating System                      0.00              0.00   \n",
       "64 bit Windows 10 Operating System               0.81              0.00   \n",
       "64 bit Windows 11 Operating System               2.24              1.22   \n",
       "All                                              3.05              1.22   \n",
       "\n",
       "RAM                                 32 GB DDR4 RAM  32 GB DDR5 RAM  \\\n",
       "OS                                                                   \n",
       "32 bit Windows 11 Operating System            0.00            0.00   \n",
       "64 bit DOS Operating System                   0.00            0.00   \n",
       "64 bit Windows 10 Operating System            0.41            0.00   \n",
       "64 bit Windows 11 Operating System            0.20            2.24   \n",
       "All                                           0.61            2.24   \n",
       "\n",
       "RAM                                 32 GB LPDDR4X RAM  4 GB DDR4 RAM  \\\n",
       "OS                                                                     \n",
       "32 bit Windows 11 Operating System                0.0           0.00   \n",
       "64 bit DOS Operating System                       0.0           0.20   \n",
       "64 bit Windows 10 Operating System                0.2           2.44   \n",
       "64 bit Windows 11 Operating System                0.0           1.42   \n",
       "All                                               0.2           4.07   \n",
       "\n",
       "RAM                                 4 GB LPDDR4X RAM  8 GB DDR4 RAM  \\\n",
       "OS                                                                    \n",
       "32 bit Windows 11 Operating System              0.00           0.20   \n",
       "64 bit DOS Operating System                     0.00           0.20   \n",
       "64 bit Windows 10 Operating System              0.00          10.98   \n",
       "64 bit Windows 11 Operating System              0.41          49.19   \n",
       "All                                             0.41          60.57   \n",
       "\n",
       "RAM                                 8 GB DDR5 RAM  8 GB LPDDR4X RAM     All  \n",
       "OS                                                                           \n",
       "32 bit Windows 11 Operating System           0.00              0.00    0.20  \n",
       "64 bit DOS Operating System                  0.00              0.00    0.41  \n",
       "64 bit Windows 10 Operating System           0.00              0.00   19.92  \n",
       "64 bit Windows 11 Operating System           0.81              3.05   79.47  \n",
       "All                                          0.81              3.05  100.00  "
      ]
     },
     "execution_count": 72,
     "metadata": {},
     "output_type": "execute_result"
    }
   ],
   "source": [
    "np.round((pd.crosstab(df.OS,dt.RAM,margins=True)/len(df))*100,2)"
   ]
  },
  {
   "cell_type": "code",
   "execution_count": 73,
   "id": "5889f846",
   "metadata": {},
   "outputs": [
    {
     "data": {
      "text/html": [
       "<div>\n",
       "<style scoped>\n",
       "    .dataframe tbody tr th:only-of-type {\n",
       "        vertical-align: middle;\n",
       "    }\n",
       "\n",
       "    .dataframe tbody tr th {\n",
       "        vertical-align: top;\n",
       "    }\n",
       "\n",
       "    .dataframe thead th {\n",
       "        text-align: right;\n",
       "    }\n",
       "</style>\n",
       "<table border=\"1\" class=\"dataframe\">\n",
       "  <thead>\n",
       "    <tr style=\"text-align: right;\">\n",
       "      <th>Storage</th>\n",
       "      <th>1 TB HDD</th>\n",
       "      <th>1 TB HDD256 GB SSD</th>\n",
       "      <th>1 TB HDD512 GB SSD</th>\n",
       "      <th>1 TB SSD</th>\n",
       "      <th>128 GB SSD</th>\n",
       "      <th>2 TB SSD</th>\n",
       "      <th>256 GB SSD</th>\n",
       "      <th>512 GB SSD</th>\n",
       "      <th>All</th>\n",
       "    </tr>\n",
       "    <tr>\n",
       "      <th>Processor</th>\n",
       "      <th></th>\n",
       "      <th></th>\n",
       "      <th></th>\n",
       "      <th></th>\n",
       "      <th></th>\n",
       "      <th></th>\n",
       "      <th></th>\n",
       "      <th></th>\n",
       "      <th></th>\n",
       "    </tr>\n",
       "  </thead>\n",
       "  <tbody>\n",
       "    <tr>\n",
       "      <th>AMD Athlon Dual Core Processor</th>\n",
       "      <td>0.00</td>\n",
       "      <td>0.00</td>\n",
       "      <td>0.0</td>\n",
       "      <td>0.00</td>\n",
       "      <td>0.00</td>\n",
       "      <td>0.00</td>\n",
       "      <td>0.20</td>\n",
       "      <td>0.20</td>\n",
       "      <td>0.41</td>\n",
       "    </tr>\n",
       "    <tr>\n",
       "      <th>AMD Dual Core Processor</th>\n",
       "      <td>0.20</td>\n",
       "      <td>0.00</td>\n",
       "      <td>0.0</td>\n",
       "      <td>0.00</td>\n",
       "      <td>0.00</td>\n",
       "      <td>0.00</td>\n",
       "      <td>0.00</td>\n",
       "      <td>0.00</td>\n",
       "      <td>0.20</td>\n",
       "    </tr>\n",
       "    <tr>\n",
       "      <th>AMD Ryzen 3 Dual Core Processor</th>\n",
       "      <td>0.41</td>\n",
       "      <td>0.00</td>\n",
       "      <td>0.0</td>\n",
       "      <td>0.00</td>\n",
       "      <td>0.00</td>\n",
       "      <td>0.00</td>\n",
       "      <td>1.63</td>\n",
       "      <td>6.10</td>\n",
       "      <td>8.13</td>\n",
       "    </tr>\n",
       "    <tr>\n",
       "      <th>AMD Ryzen 3 Quad Core Processor</th>\n",
       "      <td>0.00</td>\n",
       "      <td>0.00</td>\n",
       "      <td>0.0</td>\n",
       "      <td>0.00</td>\n",
       "      <td>0.00</td>\n",
       "      <td>0.00</td>\n",
       "      <td>0.00</td>\n",
       "      <td>0.81</td>\n",
       "      <td>0.81</td>\n",
       "    </tr>\n",
       "    <tr>\n",
       "      <th>AMD Ryzen 5 Hexa Core Processor</th>\n",
       "      <td>0.00</td>\n",
       "      <td>0.41</td>\n",
       "      <td>0.0</td>\n",
       "      <td>0.20</td>\n",
       "      <td>0.00</td>\n",
       "      <td>0.00</td>\n",
       "      <td>0.00</td>\n",
       "      <td>8.13</td>\n",
       "      <td>8.74</td>\n",
       "    </tr>\n",
       "    <tr>\n",
       "      <th>AMD Ryzen 5 Quad Core Processor</th>\n",
       "      <td>0.00</td>\n",
       "      <td>0.00</td>\n",
       "      <td>0.0</td>\n",
       "      <td>0.00</td>\n",
       "      <td>0.00</td>\n",
       "      <td>0.00</td>\n",
       "      <td>0.00</td>\n",
       "      <td>7.52</td>\n",
       "      <td>7.52</td>\n",
       "    </tr>\n",
       "    <tr>\n",
       "      <th>AMD Ryzen 7 Octa Core Processor</th>\n",
       "      <td>0.00</td>\n",
       "      <td>0.41</td>\n",
       "      <td>0.0</td>\n",
       "      <td>2.44</td>\n",
       "      <td>0.00</td>\n",
       "      <td>0.41</td>\n",
       "      <td>0.00</td>\n",
       "      <td>5.69</td>\n",
       "      <td>8.94</td>\n",
       "    </tr>\n",
       "    <tr>\n",
       "      <th>AMD Ryzen 7 Quad Core Processor</th>\n",
       "      <td>0.00</td>\n",
       "      <td>0.00</td>\n",
       "      <td>0.0</td>\n",
       "      <td>0.00</td>\n",
       "      <td>0.00</td>\n",
       "      <td>0.00</td>\n",
       "      <td>0.00</td>\n",
       "      <td>0.20</td>\n",
       "      <td>0.20</td>\n",
       "    </tr>\n",
       "    <tr>\n",
       "      <th>AMD Ryzen 9 Octa Core Processor</th>\n",
       "      <td>0.00</td>\n",
       "      <td>0.00</td>\n",
       "      <td>0.0</td>\n",
       "      <td>5.08</td>\n",
       "      <td>0.00</td>\n",
       "      <td>0.20</td>\n",
       "      <td>0.00</td>\n",
       "      <td>0.00</td>\n",
       "      <td>5.28</td>\n",
       "    </tr>\n",
       "    <tr>\n",
       "      <th>Intel Celeron Dual Core Processor</th>\n",
       "      <td>0.00</td>\n",
       "      <td>0.00</td>\n",
       "      <td>0.0</td>\n",
       "      <td>0.00</td>\n",
       "      <td>0.41</td>\n",
       "      <td>0.00</td>\n",
       "      <td>1.22</td>\n",
       "      <td>0.00</td>\n",
       "      <td>1.63</td>\n",
       "    </tr>\n",
       "    <tr>\n",
       "      <th>Intel Celeron Quad Core Processor</th>\n",
       "      <td>0.00</td>\n",
       "      <td>0.00</td>\n",
       "      <td>0.0</td>\n",
       "      <td>0.00</td>\n",
       "      <td>0.41</td>\n",
       "      <td>0.00</td>\n",
       "      <td>0.20</td>\n",
       "      <td>0.00</td>\n",
       "      <td>0.61</td>\n",
       "    </tr>\n",
       "    <tr>\n",
       "      <th>Intel Core i3 Processor</th>\n",
       "      <td>1.22</td>\n",
       "      <td>0.20</td>\n",
       "      <td>0.0</td>\n",
       "      <td>0.00</td>\n",
       "      <td>0.00</td>\n",
       "      <td>0.00</td>\n",
       "      <td>11.99</td>\n",
       "      <td>10.77</td>\n",
       "      <td>24.19</td>\n",
       "    </tr>\n",
       "    <tr>\n",
       "      <th>Intel Core i5 Processor</th>\n",
       "      <td>1.02</td>\n",
       "      <td>2.24</td>\n",
       "      <td>0.0</td>\n",
       "      <td>0.41</td>\n",
       "      <td>0.00</td>\n",
       "      <td>0.00</td>\n",
       "      <td>0.41</td>\n",
       "      <td>17.48</td>\n",
       "      <td>21.54</td>\n",
       "    </tr>\n",
       "    <tr>\n",
       "      <th>Intel Core i7 Processor</th>\n",
       "      <td>0.00</td>\n",
       "      <td>0.00</td>\n",
       "      <td>0.2</td>\n",
       "      <td>4.47</td>\n",
       "      <td>0.00</td>\n",
       "      <td>0.41</td>\n",
       "      <td>0.00</td>\n",
       "      <td>3.66</td>\n",
       "      <td>8.74</td>\n",
       "    </tr>\n",
       "    <tr>\n",
       "      <th>Intel Core i9 Processor</th>\n",
       "      <td>0.00</td>\n",
       "      <td>0.00</td>\n",
       "      <td>0.0</td>\n",
       "      <td>1.63</td>\n",
       "      <td>0.00</td>\n",
       "      <td>0.41</td>\n",
       "      <td>0.00</td>\n",
       "      <td>0.00</td>\n",
       "      <td>2.03</td>\n",
       "    </tr>\n",
       "    <tr>\n",
       "      <th>Intel Pentium Quad Core Processor</th>\n",
       "      <td>0.00</td>\n",
       "      <td>0.00</td>\n",
       "      <td>0.0</td>\n",
       "      <td>0.00</td>\n",
       "      <td>0.00</td>\n",
       "      <td>0.00</td>\n",
       "      <td>0.61</td>\n",
       "      <td>0.00</td>\n",
       "      <td>0.61</td>\n",
       "    </tr>\n",
       "    <tr>\n",
       "      <th>Intel Pentium Silver Processor</th>\n",
       "      <td>0.00</td>\n",
       "      <td>0.00</td>\n",
       "      <td>0.0</td>\n",
       "      <td>0.00</td>\n",
       "      <td>0.00</td>\n",
       "      <td>0.00</td>\n",
       "      <td>0.41</td>\n",
       "      <td>0.00</td>\n",
       "      <td>0.41</td>\n",
       "    </tr>\n",
       "    <tr>\n",
       "      <th>All</th>\n",
       "      <td>2.85</td>\n",
       "      <td>3.25</td>\n",
       "      <td>0.2</td>\n",
       "      <td>14.23</td>\n",
       "      <td>0.81</td>\n",
       "      <td>1.42</td>\n",
       "      <td>16.67</td>\n",
       "      <td>60.57</td>\n",
       "      <td>100.00</td>\n",
       "    </tr>\n",
       "  </tbody>\n",
       "</table>\n",
       "</div>"
      ],
      "text/plain": [
       "Storage                            1 TB HDD  1 TB HDD256 GB SSD  \\\n",
       "Processor                                                         \n",
       "AMD Athlon Dual Core Processor         0.00                0.00   \n",
       "AMD Dual Core Processor                0.20                0.00   \n",
       "AMD Ryzen 3 Dual Core Processor        0.41                0.00   \n",
       "AMD Ryzen 3 Quad Core Processor        0.00                0.00   \n",
       "AMD Ryzen 5 Hexa Core Processor        0.00                0.41   \n",
       "AMD Ryzen 5 Quad Core Processor        0.00                0.00   \n",
       "AMD Ryzen 7 Octa Core Processor        0.00                0.41   \n",
       "AMD Ryzen 7 Quad Core Processor        0.00                0.00   \n",
       "AMD Ryzen 9 Octa Core Processor        0.00                0.00   \n",
       "Intel Celeron Dual Core Processor      0.00                0.00   \n",
       "Intel Celeron Quad Core Processor      0.00                0.00   \n",
       "Intel Core i3 Processor                1.22                0.20   \n",
       "Intel Core i5 Processor                1.02                2.24   \n",
       "Intel Core i7 Processor                0.00                0.00   \n",
       "Intel Core i9 Processor                0.00                0.00   \n",
       "Intel Pentium Quad Core Processor      0.00                0.00   \n",
       "Intel Pentium Silver Processor         0.00                0.00   \n",
       "All                                    2.85                3.25   \n",
       "\n",
       "Storage                            1 TB HDD512 GB SSD  1 TB SSD  128 GB SSD  \\\n",
       "Processor                                                                     \n",
       "AMD Athlon Dual Core Processor                    0.0      0.00        0.00   \n",
       "AMD Dual Core Processor                           0.0      0.00        0.00   \n",
       "AMD Ryzen 3 Dual Core Processor                   0.0      0.00        0.00   \n",
       "AMD Ryzen 3 Quad Core Processor                   0.0      0.00        0.00   \n",
       "AMD Ryzen 5 Hexa Core Processor                   0.0      0.20        0.00   \n",
       "AMD Ryzen 5 Quad Core Processor                   0.0      0.00        0.00   \n",
       "AMD Ryzen 7 Octa Core Processor                   0.0      2.44        0.00   \n",
       "AMD Ryzen 7 Quad Core Processor                   0.0      0.00        0.00   \n",
       "AMD Ryzen 9 Octa Core Processor                   0.0      5.08        0.00   \n",
       "Intel Celeron Dual Core Processor                 0.0      0.00        0.41   \n",
       "Intel Celeron Quad Core Processor                 0.0      0.00        0.41   \n",
       "Intel Core i3 Processor                           0.0      0.00        0.00   \n",
       "Intel Core i5 Processor                           0.0      0.41        0.00   \n",
       "Intel Core i7 Processor                           0.2      4.47        0.00   \n",
       "Intel Core i9 Processor                           0.0      1.63        0.00   \n",
       "Intel Pentium Quad Core Processor                 0.0      0.00        0.00   \n",
       "Intel Pentium Silver Processor                    0.0      0.00        0.00   \n",
       "All                                               0.2     14.23        0.81   \n",
       "\n",
       "Storage                            2 TB SSD  256 GB SSD  512 GB SSD     All  \n",
       "Processor                                                                    \n",
       "AMD Athlon Dual Core Processor         0.00        0.20        0.20    0.41  \n",
       "AMD Dual Core Processor                0.00        0.00        0.00    0.20  \n",
       "AMD Ryzen 3 Dual Core Processor        0.00        1.63        6.10    8.13  \n",
       "AMD Ryzen 3 Quad Core Processor        0.00        0.00        0.81    0.81  \n",
       "AMD Ryzen 5 Hexa Core Processor        0.00        0.00        8.13    8.74  \n",
       "AMD Ryzen 5 Quad Core Processor        0.00        0.00        7.52    7.52  \n",
       "AMD Ryzen 7 Octa Core Processor        0.41        0.00        5.69    8.94  \n",
       "AMD Ryzen 7 Quad Core Processor        0.00        0.00        0.20    0.20  \n",
       "AMD Ryzen 9 Octa Core Processor        0.20        0.00        0.00    5.28  \n",
       "Intel Celeron Dual Core Processor      0.00        1.22        0.00    1.63  \n",
       "Intel Celeron Quad Core Processor      0.00        0.20        0.00    0.61  \n",
       "Intel Core i3 Processor                0.00       11.99       10.77   24.19  \n",
       "Intel Core i5 Processor                0.00        0.41       17.48   21.54  \n",
       "Intel Core i7 Processor                0.41        0.00        3.66    8.74  \n",
       "Intel Core i9 Processor                0.41        0.00        0.00    2.03  \n",
       "Intel Pentium Quad Core Processor      0.00        0.61        0.00    0.61  \n",
       "Intel Pentium Silver Processor         0.00        0.41        0.00    0.41  \n",
       "All                                    1.42       16.67       60.57  100.00  "
      ]
     },
     "execution_count": 73,
     "metadata": {},
     "output_type": "execute_result"
    }
   ],
   "source": [
    "np.round((pd.crosstab(df.Processor,dt.Storage,margins=True)/len(df))*100,2)"
   ]
  },
  {
   "cell_type": "code",
   "execution_count": 74,
   "id": "0e050200",
   "metadata": {},
   "outputs": [
    {
     "data": {
      "text/html": [
       "<div>\n",
       "<style scoped>\n",
       "    .dataframe tbody tr th:only-of-type {\n",
       "        vertical-align: middle;\n",
       "    }\n",
       "\n",
       "    .dataframe tbody tr th {\n",
       "        vertical-align: top;\n",
       "    }\n",
       "\n",
       "    .dataframe thead th {\n",
       "        text-align: right;\n",
       "    }\n",
       "</style>\n",
       "<table border=\"1\" class=\"dataframe\">\n",
       "  <thead>\n",
       "    <tr style=\"text-align: right;\">\n",
       "      <th>Storage</th>\n",
       "      <th>1 TB HDD</th>\n",
       "      <th>1 TB HDD256 GB SSD</th>\n",
       "      <th>1 TB HDD512 GB SSD</th>\n",
       "      <th>1 TB SSD</th>\n",
       "      <th>128 GB SSD</th>\n",
       "      <th>2 TB SSD</th>\n",
       "      <th>256 GB SSD</th>\n",
       "      <th>512 GB SSD</th>\n",
       "      <th>All</th>\n",
       "    </tr>\n",
       "    <tr>\n",
       "      <th>RAM</th>\n",
       "      <th></th>\n",
       "      <th></th>\n",
       "      <th></th>\n",
       "      <th></th>\n",
       "      <th></th>\n",
       "      <th></th>\n",
       "      <th></th>\n",
       "      <th></th>\n",
       "      <th></th>\n",
       "    </tr>\n",
       "  </thead>\n",
       "  <tbody>\n",
       "    <tr>\n",
       "      <th>16 GB DDR4 RAM</th>\n",
       "      <td>0.00</td>\n",
       "      <td>0.61</td>\n",
       "      <td>0.2</td>\n",
       "      <td>3.46</td>\n",
       "      <td>0.00</td>\n",
       "      <td>0.00</td>\n",
       "      <td>0.00</td>\n",
       "      <td>10.98</td>\n",
       "      <td>15.24</td>\n",
       "    </tr>\n",
       "    <tr>\n",
       "      <th>16 GB DDR5 RAM</th>\n",
       "      <td>0.00</td>\n",
       "      <td>0.00</td>\n",
       "      <td>0.0</td>\n",
       "      <td>7.32</td>\n",
       "      <td>0.00</td>\n",
       "      <td>0.00</td>\n",
       "      <td>0.00</td>\n",
       "      <td>0.81</td>\n",
       "      <td>8.13</td>\n",
       "    </tr>\n",
       "    <tr>\n",
       "      <th>16 GB LPDDR3 RAM</th>\n",
       "      <td>0.00</td>\n",
       "      <td>0.00</td>\n",
       "      <td>0.0</td>\n",
       "      <td>0.00</td>\n",
       "      <td>0.00</td>\n",
       "      <td>0.20</td>\n",
       "      <td>0.00</td>\n",
       "      <td>0.00</td>\n",
       "      <td>0.20</td>\n",
       "    </tr>\n",
       "    <tr>\n",
       "      <th>16 GB LPDDR4 RAM</th>\n",
       "      <td>0.00</td>\n",
       "      <td>0.00</td>\n",
       "      <td>0.0</td>\n",
       "      <td>0.00</td>\n",
       "      <td>0.00</td>\n",
       "      <td>0.00</td>\n",
       "      <td>0.00</td>\n",
       "      <td>0.20</td>\n",
       "      <td>0.20</td>\n",
       "    </tr>\n",
       "    <tr>\n",
       "      <th>16 GB LPDDR4X RAM</th>\n",
       "      <td>0.00</td>\n",
       "      <td>0.00</td>\n",
       "      <td>0.0</td>\n",
       "      <td>0.20</td>\n",
       "      <td>0.00</td>\n",
       "      <td>0.00</td>\n",
       "      <td>0.00</td>\n",
       "      <td>2.85</td>\n",
       "      <td>3.05</td>\n",
       "    </tr>\n",
       "    <tr>\n",
       "      <th>16 GB LPDDR5 RAM</th>\n",
       "      <td>0.00</td>\n",
       "      <td>0.00</td>\n",
       "      <td>0.0</td>\n",
       "      <td>0.41</td>\n",
       "      <td>0.00</td>\n",
       "      <td>0.00</td>\n",
       "      <td>0.00</td>\n",
       "      <td>0.81</td>\n",
       "      <td>1.22</td>\n",
       "    </tr>\n",
       "    <tr>\n",
       "      <th>32 GB DDR4 RAM</th>\n",
       "      <td>0.00</td>\n",
       "      <td>0.00</td>\n",
       "      <td>0.0</td>\n",
       "      <td>0.61</td>\n",
       "      <td>0.00</td>\n",
       "      <td>0.00</td>\n",
       "      <td>0.00</td>\n",
       "      <td>0.00</td>\n",
       "      <td>0.61</td>\n",
       "    </tr>\n",
       "    <tr>\n",
       "      <th>32 GB DDR5 RAM</th>\n",
       "      <td>0.00</td>\n",
       "      <td>0.00</td>\n",
       "      <td>0.0</td>\n",
       "      <td>1.02</td>\n",
       "      <td>0.00</td>\n",
       "      <td>1.22</td>\n",
       "      <td>0.00</td>\n",
       "      <td>0.00</td>\n",
       "      <td>2.24</td>\n",
       "    </tr>\n",
       "    <tr>\n",
       "      <th>32 GB LPDDR4X RAM</th>\n",
       "      <td>0.00</td>\n",
       "      <td>0.00</td>\n",
       "      <td>0.0</td>\n",
       "      <td>0.20</td>\n",
       "      <td>0.00</td>\n",
       "      <td>0.00</td>\n",
       "      <td>0.00</td>\n",
       "      <td>0.00</td>\n",
       "      <td>0.20</td>\n",
       "    </tr>\n",
       "    <tr>\n",
       "      <th>4 GB DDR4 RAM</th>\n",
       "      <td>1.02</td>\n",
       "      <td>0.00</td>\n",
       "      <td>0.0</td>\n",
       "      <td>0.00</td>\n",
       "      <td>0.41</td>\n",
       "      <td>0.00</td>\n",
       "      <td>2.64</td>\n",
       "      <td>0.00</td>\n",
       "      <td>4.07</td>\n",
       "    </tr>\n",
       "    <tr>\n",
       "      <th>4 GB LPDDR4X RAM</th>\n",
       "      <td>0.00</td>\n",
       "      <td>0.00</td>\n",
       "      <td>0.0</td>\n",
       "      <td>0.00</td>\n",
       "      <td>0.41</td>\n",
       "      <td>0.00</td>\n",
       "      <td>0.00</td>\n",
       "      <td>0.00</td>\n",
       "      <td>0.41</td>\n",
       "    </tr>\n",
       "    <tr>\n",
       "      <th>8 GB DDR4 RAM</th>\n",
       "      <td>1.83</td>\n",
       "      <td>2.64</td>\n",
       "      <td>0.0</td>\n",
       "      <td>1.02</td>\n",
       "      <td>0.00</td>\n",
       "      <td>0.00</td>\n",
       "      <td>12.60</td>\n",
       "      <td>42.48</td>\n",
       "      <td>60.57</td>\n",
       "    </tr>\n",
       "    <tr>\n",
       "      <th>8 GB DDR5 RAM</th>\n",
       "      <td>0.00</td>\n",
       "      <td>0.00</td>\n",
       "      <td>0.0</td>\n",
       "      <td>0.00</td>\n",
       "      <td>0.00</td>\n",
       "      <td>0.00</td>\n",
       "      <td>0.00</td>\n",
       "      <td>0.81</td>\n",
       "      <td>0.81</td>\n",
       "    </tr>\n",
       "    <tr>\n",
       "      <th>8 GB LPDDR4X RAM</th>\n",
       "      <td>0.00</td>\n",
       "      <td>0.00</td>\n",
       "      <td>0.0</td>\n",
       "      <td>0.00</td>\n",
       "      <td>0.00</td>\n",
       "      <td>0.00</td>\n",
       "      <td>1.42</td>\n",
       "      <td>1.63</td>\n",
       "      <td>3.05</td>\n",
       "    </tr>\n",
       "    <tr>\n",
       "      <th>All</th>\n",
       "      <td>2.85</td>\n",
       "      <td>3.25</td>\n",
       "      <td>0.2</td>\n",
       "      <td>14.23</td>\n",
       "      <td>0.81</td>\n",
       "      <td>1.42</td>\n",
       "      <td>16.67</td>\n",
       "      <td>60.57</td>\n",
       "      <td>100.00</td>\n",
       "    </tr>\n",
       "  </tbody>\n",
       "</table>\n",
       "</div>"
      ],
      "text/plain": [
       "Storage            1 TB HDD  1 TB HDD256 GB SSD  1 TB HDD512 GB SSD  1 TB SSD  \\\n",
       "RAM                                                                             \n",
       "16 GB DDR4 RAM         0.00                0.61                 0.2      3.46   \n",
       "16 GB DDR5 RAM         0.00                0.00                 0.0      7.32   \n",
       "16 GB LPDDR3 RAM       0.00                0.00                 0.0      0.00   \n",
       "16 GB LPDDR4 RAM       0.00                0.00                 0.0      0.00   \n",
       "16 GB LPDDR4X RAM      0.00                0.00                 0.0      0.20   \n",
       "16 GB LPDDR5 RAM       0.00                0.00                 0.0      0.41   \n",
       "32 GB DDR4 RAM         0.00                0.00                 0.0      0.61   \n",
       "32 GB DDR5 RAM         0.00                0.00                 0.0      1.02   \n",
       "32 GB LPDDR4X RAM      0.00                0.00                 0.0      0.20   \n",
       "4 GB DDR4 RAM          1.02                0.00                 0.0      0.00   \n",
       "4 GB LPDDR4X RAM       0.00                0.00                 0.0      0.00   \n",
       "8 GB DDR4 RAM          1.83                2.64                 0.0      1.02   \n",
       "8 GB DDR5 RAM          0.00                0.00                 0.0      0.00   \n",
       "8 GB LPDDR4X RAM       0.00                0.00                 0.0      0.00   \n",
       "All                    2.85                3.25                 0.2     14.23   \n",
       "\n",
       "Storage            128 GB SSD  2 TB SSD  256 GB SSD  512 GB SSD     All  \n",
       "RAM                                                                      \n",
       "16 GB DDR4 RAM           0.00      0.00        0.00       10.98   15.24  \n",
       "16 GB DDR5 RAM           0.00      0.00        0.00        0.81    8.13  \n",
       "16 GB LPDDR3 RAM         0.00      0.20        0.00        0.00    0.20  \n",
       "16 GB LPDDR4 RAM         0.00      0.00        0.00        0.20    0.20  \n",
       "16 GB LPDDR4X RAM        0.00      0.00        0.00        2.85    3.05  \n",
       "16 GB LPDDR5 RAM         0.00      0.00        0.00        0.81    1.22  \n",
       "32 GB DDR4 RAM           0.00      0.00        0.00        0.00    0.61  \n",
       "32 GB DDR5 RAM           0.00      1.22        0.00        0.00    2.24  \n",
       "32 GB LPDDR4X RAM        0.00      0.00        0.00        0.00    0.20  \n",
       "4 GB DDR4 RAM            0.41      0.00        2.64        0.00    4.07  \n",
       "4 GB LPDDR4X RAM         0.41      0.00        0.00        0.00    0.41  \n",
       "8 GB DDR4 RAM            0.00      0.00       12.60       42.48   60.57  \n",
       "8 GB DDR5 RAM            0.00      0.00        0.00        0.81    0.81  \n",
       "8 GB LPDDR4X RAM         0.00      0.00        1.42        1.63    3.05  \n",
       "All                      0.81      1.42       16.67       60.57  100.00  "
      ]
     },
     "execution_count": 74,
     "metadata": {},
     "output_type": "execute_result"
    }
   ],
   "source": [
    "np.round((pd.crosstab(df.RAM,dt.Storage,margins=True)/len(df))*100,2)"
   ]
  },
  {
   "cell_type": "markdown",
   "id": "8876530e",
   "metadata": {},
   "source": [
    "### Q-Q Plot for Normality Test"
   ]
  },
  {
   "cell_type": "code",
   "execution_count": 75,
   "id": "b5ec4ec1",
   "metadata": {},
   "outputs": [
    {
     "data": {
      "image/png": "[encoded data removed]",
      "text/plain": [
       "<Figure size 432x288 with 1 Axes>"
      ]
     },
     "metadata": {
      "needs_background": "light"
     },
     "output_type": "display_data"
    }
   ],
   "source": [
    "# Normality Test for MRP value\n",
    "\n",
    "stats.probplot(df['MRP'], dist=\"norm\", plot=plt)\n",
    "plt.show()"
   ]
  },
  {
   "cell_type": "markdown",
   "id": "ed2de062",
   "metadata": {},
   "source": [
    "### Shapiro Wilk Test for Normality\n",
    "\n",
    "**Assumptions**\n",
    "\n",
    "Observations in each sample are independent and identically distributed\n",
    "\n",
    "**Interpretation**\n",
    "\n",
    "H0: the sample has a Gaussian distribution.\n",
    "\n",
    "H1: the sample does not have a Gaussian distribution."
   ]
  },
  {
   "cell_type": "code",
   "execution_count": 76,
   "id": "f7068090",
   "metadata": {},
   "outputs": [
    {
     "name": "stdout",
     "output_type": "stream",
     "text": [
      "stat=0.679, p=0.000\n",
      "Probably not Gaussian\n"
     ]
    }
   ],
   "source": [
    "def shapiro_wilk(data):\n",
    "    stat, p = stats.shapiro(data)\n",
    "    \n",
    "    print('stat=%.3f, p=%.3f' % (stat, p))\n",
    "    \n",
    "    if p > 0.05:\n",
    "        print('Probably Gaussian')\n",
    "    else:\n",
    "        print('Probably not Gaussian')\n",
    "        \n",
    "shapiro_wilk(df['MRP'])"
   ]
  },
  {
   "cell_type": "markdown",
   "id": "5b5ad518",
   "metadata": {},
   "source": [
    "### Outliers Detection"
   ]
  },
  {
   "cell_type": "code",
   "execution_count": 77,
   "id": "d5465aea",
   "metadata": {},
   "outputs": [
    {
     "name": "stdout",
     "output_type": "stream",
     "text": [
      "Outliers in Price :  55\n"
     ]
    }
   ],
   "source": [
    "def outliers(data,col):\n",
    "    q1=data[col].quantile(0.25)\n",
    "    q3=data[col].quantile(0.75)\n",
    "    iqr=q3-q1\n",
    "    lb=q1-(1.5*iqr)\n",
    "    ub=q3+(1.5*iqr)\n",
    "    outliers=data[(data[col]<lb) | (data[col]>ub)][col].shape[0]\n",
    "    return outliers\n",
    "\n",
    "print('Outliers in Price : ',outliers(df,'MRP'))"
   ]
  },
  {
   "cell_type": "code",
   "execution_count": 78,
   "id": "13008e76",
   "metadata": {},
   "outputs": [],
   "source": [
    "# Identifying the inputs (X) and output (y)\n",
    "\n",
    "y = df['MRP']  # Target Variable\n",
    "\n",
    "X = df[['Processor', 'RAM', 'OS', 'Storage']]"
   ]
  },
  {
   "cell_type": "markdown",
   "id": "00012744",
   "metadata": {},
   "source": [
    "### Train - Test Split"
   ]
  },
  {
   "cell_type": "code",
   "execution_count": 79,
   "id": "c5beb41c",
   "metadata": {},
   "outputs": [],
   "source": [
    "from sklearn.model_selection import train_test_split\n",
    "\n",
    "X_train, X_test, y_train, y_test = train_test_split(X, y, train_size=0.75, random_state=100)"
   ]
  },
  {
   "cell_type": "code",
   "execution_count": 80,
   "id": "abf269ae",
   "metadata": {},
   "outputs": [
    {
     "data": {
      "text/html": [
       "<div>\n",
       "<style scoped>\n",
       "    .dataframe tbody tr th:only-of-type {\n",
       "        vertical-align: middle;\n",
       "    }\n",
       "\n",
       "    .dataframe tbody tr th {\n",
       "        vertical-align: top;\n",
       "    }\n",
       "\n",
       "    .dataframe thead th {\n",
       "        text-align: right;\n",
       "    }\n",
       "</style>\n",
       "<table border=\"1\" class=\"dataframe\">\n",
       "  <thead>\n",
       "    <tr style=\"text-align: right;\">\n",
       "      <th></th>\n",
       "      <th>Processor</th>\n",
       "      <th>RAM</th>\n",
       "      <th>OS</th>\n",
       "      <th>Storage</th>\n",
       "    </tr>\n",
       "  </thead>\n",
       "  <tbody>\n",
       "    <tr>\n",
       "      <th>242</th>\n",
       "      <td>Intel Core i7 Processor</td>\n",
       "      <td>16 GB LPDDR4X RAM</td>\n",
       "      <td>64 bit Windows 10 Operating System</td>\n",
       "      <td>1 TB SSD</td>\n",
       "    </tr>\n",
       "    <tr>\n",
       "      <th>681</th>\n",
       "      <td>AMD Ryzen 5 Quad Core Processor</td>\n",
       "      <td>8 GB DDR4 RAM</td>\n",
       "      <td>64 bit Windows 11 Operating System</td>\n",
       "      <td>512 GB SSD</td>\n",
       "    </tr>\n",
       "    <tr>\n",
       "      <th>146</th>\n",
       "      <td>Intel Core i3 Processor</td>\n",
       "      <td>8 GB DDR4 RAM</td>\n",
       "      <td>64 bit Windows 11 Operating System</td>\n",
       "      <td>256 GB SSD</td>\n",
       "    </tr>\n",
       "    <tr>\n",
       "      <th>47</th>\n",
       "      <td>AMD Ryzen 5 Hexa Core Processor</td>\n",
       "      <td>8 GB DDR4 RAM</td>\n",
       "      <td>64 bit Windows 11 Operating System</td>\n",
       "      <td>512 GB SSD</td>\n",
       "    </tr>\n",
       "    <tr>\n",
       "      <th>73</th>\n",
       "      <td>AMD Ryzen 5 Hexa Core Processor</td>\n",
       "      <td>8 GB DDR4 RAM</td>\n",
       "      <td>64 bit Windows 11 Operating System</td>\n",
       "      <td>512 GB SSD</td>\n",
       "    </tr>\n",
       "  </tbody>\n",
       "</table>\n",
       "</div>"
      ],
      "text/plain": [
       "                           Processor                RAM  \\\n",
       "242          Intel Core i7 Processor  16 GB LPDDR4X RAM   \n",
       "681  AMD Ryzen 5 Quad Core Processor      8 GB DDR4 RAM   \n",
       "146          Intel Core i3 Processor      8 GB DDR4 RAM   \n",
       "47   AMD Ryzen 5 Hexa Core Processor      8 GB DDR4 RAM   \n",
       "73   AMD Ryzen 5 Hexa Core Processor      8 GB DDR4 RAM   \n",
       "\n",
       "                                     OS     Storage  \n",
       "242  64 bit Windows 10 Operating System    1 TB SSD  \n",
       "681  64 bit Windows 11 Operating System  512 GB SSD  \n",
       "146  64 bit Windows 11 Operating System  256 GB SSD  \n",
       "47   64 bit Windows 11 Operating System  512 GB SSD  \n",
       "73   64 bit Windows 11 Operating System  512 GB SSD  "
      ]
     },
     "execution_count": 80,
     "metadata": {},
     "output_type": "execute_result"
    }
   ],
   "source": [
    "X_train.head()"
   ]
  },
  {
   "cell_type": "code",
   "execution_count": 81,
   "id": "2960500e",
   "metadata": {},
   "outputs": [
    {
     "name": "stdout",
     "output_type": "stream",
     "text": [
      "(369, 4) (369,)\n",
      "(123, 4) (123,)\n"
     ]
    }
   ],
   "source": [
    "print(X_train.shape, y_train.shape)\n",
    "\n",
    "print(X_test.shape, y_test.shape)"
   ]
  },
  {
   "cell_type": "markdown",
   "id": "2517143c",
   "metadata": {},
   "source": [
    "### Data Transformation using Label Encoding"
   ]
  },
  {
   "cell_type": "code",
   "execution_count": 82,
   "id": "21061628",
   "metadata": {},
   "outputs": [
    {
     "data": {
      "text/html": [
       "<div>\n",
       "<style scoped>\n",
       "    .dataframe tbody tr th:only-of-type {\n",
       "        vertical-align: middle;\n",
       "    }\n",
       "\n",
       "    .dataframe tbody tr th {\n",
       "        vertical-align: top;\n",
       "    }\n",
       "\n",
       "    .dataframe thead th {\n",
       "        text-align: right;\n",
       "    }\n",
       "</style>\n",
       "<table border=\"1\" class=\"dataframe\">\n",
       "  <thead>\n",
       "    <tr style=\"text-align: right;\">\n",
       "      <th></th>\n",
       "    </tr>\n",
       "  </thead>\n",
       "  <tbody>\n",
       "    <tr>\n",
       "      <th>242</th>\n",
       "    </tr>\n",
       "    <tr>\n",
       "      <th>681</th>\n",
       "    </tr>\n",
       "    <tr>\n",
       "      <th>146</th>\n",
       "    </tr>\n",
       "    <tr>\n",
       "      <th>47</th>\n",
       "    </tr>\n",
       "    <tr>\n",
       "      <th>73</th>\n",
       "    </tr>\n",
       "  </tbody>\n",
       "</table>\n",
       "</div>"
      ],
      "text/plain": [
       "Empty DataFrame\n",
       "Columns: []\n",
       "Index: [242, 681, 146, 47, 73]"
      ]
     },
     "execution_count": 82,
     "metadata": {},
     "output_type": "execute_result"
    }
   ],
   "source": [
    "X_train_label = pd.DataFrame(index=X_train.index)\n",
    "\n",
    "X_train_label.head()"
   ]
  },
  {
   "cell_type": "code",
   "execution_count": 83,
   "id": "a48cbc84",
   "metadata": {},
   "outputs": [
    {
     "data": {
      "text/plain": [
       "array(['Intel Core i7 Processor', 'AMD Ryzen 5 Quad Core Processor',\n",
       "       'Intel Core i3 Processor', 'AMD Ryzen 5 Hexa Core Processor',\n",
       "       'Intel Core i5 Processor', 'AMD Ryzen 3 Dual Core Processor',\n",
       "       'AMD Ryzen 7 Octa Core Processor',\n",
       "       'AMD Ryzen 9 Octa Core Processor',\n",
       "       'AMD Ryzen 7 Quad Core Processor', 'Intel Core i9 Processor',\n",
       "       'Intel Pentium Quad Core Processor',\n",
       "       'Intel Celeron Dual Core Processor',\n",
       "       'AMD Ryzen 3 Quad Core Processor',\n",
       "       'AMD Athlon Dual Core Processor',\n",
       "       'Intel Celeron Quad Core Processor',\n",
       "       'Intel Pentium Silver Processor'], dtype=object)"
      ]
     },
     "execution_count": 83,
     "metadata": {},
     "output_type": "execute_result"
    }
   ],
   "source": [
    "X_train.Processor.unique()"
   ]
  },
  {
   "cell_type": "code",
   "execution_count": 84,
   "id": "bcd784e0",
   "metadata": {},
   "outputs": [
    {
     "data": {
      "text/html": [
       "<div>\n",
       "<style scoped>\n",
       "    .dataframe tbody tr th:only-of-type {\n",
       "        vertical-align: middle;\n",
       "    }\n",
       "\n",
       "    .dataframe tbody tr th {\n",
       "        vertical-align: top;\n",
       "    }\n",
       "\n",
       "    .dataframe thead th {\n",
       "        text-align: right;\n",
       "    }\n",
       "</style>\n",
       "<table border=\"1\" class=\"dataframe\">\n",
       "  <thead>\n",
       "    <tr style=\"text-align: right;\">\n",
       "      <th></th>\n",
       "      <th>Processor</th>\n",
       "    </tr>\n",
       "  </thead>\n",
       "  <tbody>\n",
       "    <tr>\n",
       "      <th>242</th>\n",
       "      <td>16</td>\n",
       "    </tr>\n",
       "    <tr>\n",
       "      <th>681</th>\n",
       "      <td>3</td>\n",
       "    </tr>\n",
       "    <tr>\n",
       "      <th>146</th>\n",
       "      <td>13</td>\n",
       "    </tr>\n",
       "    <tr>\n",
       "      <th>47</th>\n",
       "      <td>2</td>\n",
       "    </tr>\n",
       "    <tr>\n",
       "      <th>73</th>\n",
       "      <td>2</td>\n",
       "    </tr>\n",
       "  </tbody>\n",
       "</table>\n",
       "</div>"
      ],
      "text/plain": [
       "     Processor\n",
       "242         16\n",
       "681          3\n",
       "146         13\n",
       "47           2\n",
       "73           2"
      ]
     },
     "execution_count": 84,
     "metadata": {},
     "output_type": "execute_result"
    }
   ],
   "source": [
    "processor_encoder={'Intel Core i3 Processor':13, \n",
    "                   'AMD Ryzen 5 Hexa Core Processor':2,\n",
    "                   'AMD Ryzen 7 Quad Core Processor':4,\n",
    "                   'AMD Ryzen 5 Quad Core Processor':3, \n",
    "                   'Intel Core i5 Processor':14,\n",
    "                   'AMD Ryzen 3 Dual Core Processor':6,\n",
    "                   'AMD Ryzen 7 Octa Core Processor':7,\n",
    "                   'AMD Ryzen 9 Octa Core Processor':8,\n",
    "                   'AMD Athlon Dual Core Processor':9,\n",
    "                   'AMD Ryzen 3 Quad Core Processor':10,\n",
    "                   'Intel Celeron Dual Core Processor':11,\n",
    "                   'Intel Celeron Quad Core Processor':12, \n",
    "                   'Intel Core i7 Processor':16,\n",
    "                   'Intel Core i9 Processor':17, \n",
    "                   'Intel Pentium Silver Processor':15,\n",
    "                   'Intel Pentium Quad Core Processor':5, \n",
    "                   'AMD Dual Core Processor':1}\n",
    "\n",
    "X_train_label['Processor']=X_train['Processor'].apply(lambda x : processor_encoder[x])\n",
    "X_train_label.head()"
   ]
  },
  {
   "cell_type": "code",
   "execution_count": 85,
   "id": "a81d0180",
   "metadata": {},
   "outputs": [
    {
     "data": {
      "text/plain": [
       "array(['16 GB LPDDR4X RAM', '8 GB DDR4 RAM', '16 GB DDR5 RAM',\n",
       "       '16 GB DDR4 RAM', '8 GB LPDDR4X RAM', '4 GB DDR4 RAM',\n",
       "       '16 GB LPDDR4 RAM', '32 GB DDR5 RAM', '32 GB DDR4 RAM',\n",
       "       '32 GB LPDDR4X RAM', '8 GB DDR5 RAM', '16 GB LPDDR5 RAM',\n",
       "       '4 GB LPDDR4X RAM'], dtype=object)"
      ]
     },
     "execution_count": 85,
     "metadata": {},
     "output_type": "execute_result"
    }
   ],
   "source": [
    "X_train.RAM.unique()"
   ]
  },
  {
   "cell_type": "code",
   "execution_count": 86,
   "id": "2f9c89f1",
   "metadata": {},
   "outputs": [
    {
     "data": {
      "text/html": [
       "<div>\n",
       "<style scoped>\n",
       "    .dataframe tbody tr th:only-of-type {\n",
       "        vertical-align: middle;\n",
       "    }\n",
       "\n",
       "    .dataframe tbody tr th {\n",
       "        vertical-align: top;\n",
       "    }\n",
       "\n",
       "    .dataframe thead th {\n",
       "        text-align: right;\n",
       "    }\n",
       "</style>\n",
       "<table border=\"1\" class=\"dataframe\">\n",
       "  <thead>\n",
       "    <tr style=\"text-align: right;\">\n",
       "      <th></th>\n",
       "      <th>Processor</th>\n",
       "      <th>RAM</th>\n",
       "    </tr>\n",
       "  </thead>\n",
       "  <tbody>\n",
       "    <tr>\n",
       "      <th>242</th>\n",
       "      <td>16</td>\n",
       "      <td>8</td>\n",
       "    </tr>\n",
       "    <tr>\n",
       "      <th>681</th>\n",
       "      <td>3</td>\n",
       "      <td>4</td>\n",
       "    </tr>\n",
       "    <tr>\n",
       "      <th>146</th>\n",
       "      <td>13</td>\n",
       "      <td>4</td>\n",
       "    </tr>\n",
       "    <tr>\n",
       "      <th>47</th>\n",
       "      <td>2</td>\n",
       "      <td>4</td>\n",
       "    </tr>\n",
       "    <tr>\n",
       "      <th>73</th>\n",
       "      <td>2</td>\n",
       "      <td>4</td>\n",
       "    </tr>\n",
       "  </tbody>\n",
       "</table>\n",
       "</div>"
      ],
      "text/plain": [
       "     Processor  RAM\n",
       "242         16    8\n",
       "681          3    4\n",
       "146         13    4\n",
       "47           2    4\n",
       "73           2    4"
      ]
     },
     "execution_count": 86,
     "metadata": {},
     "output_type": "execute_result"
    }
   ],
   "source": [
    "ram_encoder={'8 GB DDR4 RAM':4, \n",
    "                   '16 GB DDR4 RAM':10, \n",
    "                   '16 GB DDR5 RAM':11,\n",
    "                   '4 GB DDR4 RAM':1, \n",
    "                   '8 GB LPDDR4X RAM':3, \n",
    "                   '16 GB LPDDR4X RAM':8,\n",
    "                   '16 GB LPDDR5 RAM':9, \n",
    "                   '4 GB LPDDR4X RAM':2, \n",
    "                   '16 GB LPDDR4 RAM':7,\n",
    "                   '32 GB DDR5 RAM':14, \n",
    "                   '8 GB DDR5 RAM':5, \n",
    "                   '32 GB DDR4 RAM':13,\n",
    "                   '32 GB LPDDR4X RAM':12, \n",
    "                   '16 GB LPDDR3 RAM':6}\n",
    "\n",
    "X_train_label['RAM']=X_train['RAM'].apply(lambda x : ram_encoder[x])\n",
    "X_train_label.head()"
   ]
  },
  {
   "cell_type": "code",
   "execution_count": 87,
   "id": "8b5549da",
   "metadata": {},
   "outputs": [
    {
     "data": {
      "text/plain": [
       "array(['64 bit Windows 10 Operating System',\n",
       "       '64 bit Windows 11 Operating System',\n",
       "       '64 bit DOS Operating System'], dtype=object)"
      ]
     },
     "execution_count": 87,
     "metadata": {},
     "output_type": "execute_result"
    }
   ],
   "source": [
    "X_train.OS.unique()"
   ]
  },
  {
   "cell_type": "code",
   "execution_count": 88,
   "id": "9a633be7",
   "metadata": {},
   "outputs": [
    {
     "data": {
      "text/html": [
       "<div>\n",
       "<style scoped>\n",
       "    .dataframe tbody tr th:only-of-type {\n",
       "        vertical-align: middle;\n",
       "    }\n",
       "\n",
       "    .dataframe tbody tr th {\n",
       "        vertical-align: top;\n",
       "    }\n",
       "\n",
       "    .dataframe thead th {\n",
       "        text-align: right;\n",
       "    }\n",
       "</style>\n",
       "<table border=\"1\" class=\"dataframe\">\n",
       "  <thead>\n",
       "    <tr style=\"text-align: right;\">\n",
       "      <th></th>\n",
       "      <th>Processor</th>\n",
       "      <th>RAM</th>\n",
       "      <th>OS</th>\n",
       "    </tr>\n",
       "  </thead>\n",
       "  <tbody>\n",
       "    <tr>\n",
       "      <th>242</th>\n",
       "      <td>16</td>\n",
       "      <td>8</td>\n",
       "      <td>2</td>\n",
       "    </tr>\n",
       "    <tr>\n",
       "      <th>681</th>\n",
       "      <td>3</td>\n",
       "      <td>4</td>\n",
       "      <td>4</td>\n",
       "    </tr>\n",
       "    <tr>\n",
       "      <th>146</th>\n",
       "      <td>13</td>\n",
       "      <td>4</td>\n",
       "      <td>4</td>\n",
       "    </tr>\n",
       "    <tr>\n",
       "      <th>47</th>\n",
       "      <td>2</td>\n",
       "      <td>4</td>\n",
       "      <td>4</td>\n",
       "    </tr>\n",
       "    <tr>\n",
       "      <th>73</th>\n",
       "      <td>2</td>\n",
       "      <td>4</td>\n",
       "      <td>4</td>\n",
       "    </tr>\n",
       "  </tbody>\n",
       "</table>\n",
       "</div>"
      ],
      "text/plain": [
       "     Processor  RAM  OS\n",
       "242         16    8   2\n",
       "681          3    4   4\n",
       "146         13    4   4\n",
       "47           2    4   4\n",
       "73           2    4   4"
      ]
     },
     "execution_count": 88,
     "metadata": {},
     "output_type": "execute_result"
    }
   ],
   "source": [
    "os_encoder={'64 bit Windows 11 Operating System':4,\n",
    "            '64 bit Windows 10 Operating System':2,\n",
    "            '32 bit Windows 11 Operating System':3,\n",
    "            '64 bit DOS Operating System':1}\n",
    "\n",
    "X_train_label['OS']=X_train['OS'].apply(lambda x : os_encoder[x])\n",
    "X_train_label.head()"
   ]
  },
  {
   "cell_type": "code",
   "execution_count": 89,
   "id": "4cbc9f16",
   "metadata": {},
   "outputs": [
    {
     "data": {
      "text/plain": [
       "array(['1 TB SSD', '512 GB SSD', '256 GB SSD', '1 TB HDD', '2 TB SSD',\n",
       "       '128 GB SSD', '1 TB HDD256 GB SSD', '1 TB HDD512 GB SSD'],\n",
       "      dtype=object)"
      ]
     },
     "execution_count": 89,
     "metadata": {},
     "output_type": "execute_result"
    }
   ],
   "source": [
    "X_train.Storage.unique()"
   ]
  },
  {
   "cell_type": "code",
   "execution_count": 90,
   "id": "a267a3ce",
   "metadata": {},
   "outputs": [
    {
     "data": {
      "text/html": [
       "<div>\n",
       "<style scoped>\n",
       "    .dataframe tbody tr th:only-of-type {\n",
       "        vertical-align: middle;\n",
       "    }\n",
       "\n",
       "    .dataframe tbody tr th {\n",
       "        vertical-align: top;\n",
       "    }\n",
       "\n",
       "    .dataframe thead th {\n",
       "        text-align: right;\n",
       "    }\n",
       "</style>\n",
       "<table border=\"1\" class=\"dataframe\">\n",
       "  <thead>\n",
       "    <tr style=\"text-align: right;\">\n",
       "      <th></th>\n",
       "      <th>Processor</th>\n",
       "      <th>RAM</th>\n",
       "      <th>OS</th>\n",
       "      <th>Storage</th>\n",
       "    </tr>\n",
       "  </thead>\n",
       "  <tbody>\n",
       "    <tr>\n",
       "      <th>242</th>\n",
       "      <td>16</td>\n",
       "      <td>8</td>\n",
       "      <td>2</td>\n",
       "      <td>7</td>\n",
       "    </tr>\n",
       "    <tr>\n",
       "      <th>681</th>\n",
       "      <td>3</td>\n",
       "      <td>4</td>\n",
       "      <td>4</td>\n",
       "      <td>3</td>\n",
       "    </tr>\n",
       "    <tr>\n",
       "      <th>146</th>\n",
       "      <td>13</td>\n",
       "      <td>4</td>\n",
       "      <td>4</td>\n",
       "      <td>2</td>\n",
       "    </tr>\n",
       "    <tr>\n",
       "      <th>47</th>\n",
       "      <td>2</td>\n",
       "      <td>4</td>\n",
       "      <td>4</td>\n",
       "      <td>3</td>\n",
       "    </tr>\n",
       "    <tr>\n",
       "      <th>73</th>\n",
       "      <td>2</td>\n",
       "      <td>4</td>\n",
       "      <td>4</td>\n",
       "      <td>3</td>\n",
       "    </tr>\n",
       "  </tbody>\n",
       "</table>\n",
       "</div>"
      ],
      "text/plain": [
       "     Processor  RAM  OS  Storage\n",
       "242         16    8   2        7\n",
       "681          3    4   4        3\n",
       "146         13    4   4        2\n",
       "47           2    4   4        3\n",
       "73           2    4   4        3"
      ]
     },
     "execution_count": 90,
     "metadata": {},
     "output_type": "execute_result"
    }
   ],
   "source": [
    "storage_encoder={'512 GB SSD':3, \n",
    "            '256 GB SSD':2, \n",
    "            '1 TB SSD':7, \n",
    "            '1 TB HDD':4,\n",
    "            '1 TB HDD256 GB SSD':5, \n",
    "            '2 TB SSD':8, \n",
    "            '128 GB SSD':1,\n",
    "            '1 TB HDD512 GB SSD':6}\n",
    "\n",
    "X_train_label['Storage']=X_train['Storage'].apply(lambda x : storage_encoder[x])\n",
    "X_train_label.head()"
   ]
  },
  {
   "cell_type": "markdown",
   "id": "d856a7a0",
   "metadata": {},
   "source": [
    "### Data Pre-Processing on Test Data"
   ]
  },
  {
   "cell_type": "code",
   "execution_count": 91,
   "id": "f973f2dd",
   "metadata": {},
   "outputs": [
    {
     "data": {
      "text/html": [
       "<div>\n",
       "<style scoped>\n",
       "    .dataframe tbody tr th:only-of-type {\n",
       "        vertical-align: middle;\n",
       "    }\n",
       "\n",
       "    .dataframe tbody tr th {\n",
       "        vertical-align: top;\n",
       "    }\n",
       "\n",
       "    .dataframe thead th {\n",
       "        text-align: right;\n",
       "    }\n",
       "</style>\n",
       "<table border=\"1\" class=\"dataframe\">\n",
       "  <thead>\n",
       "    <tr style=\"text-align: right;\">\n",
       "      <th></th>\n",
       "      <th>Processor</th>\n",
       "      <th>RAM</th>\n",
       "      <th>OS</th>\n",
       "      <th>Storage</th>\n",
       "    </tr>\n",
       "  </thead>\n",
       "  <tbody>\n",
       "    <tr>\n",
       "      <th>276</th>\n",
       "      <td>AMD Ryzen 3 Dual Core Processor</td>\n",
       "      <td>8 GB DDR4 RAM</td>\n",
       "      <td>64 bit Windows 11 Operating System</td>\n",
       "      <td>512 GB SSD</td>\n",
       "    </tr>\n",
       "    <tr>\n",
       "      <th>375</th>\n",
       "      <td>Intel Core i9 Processor</td>\n",
       "      <td>32 GB DDR5 RAM</td>\n",
       "      <td>64 bit Windows 11 Operating System</td>\n",
       "      <td>1 TB SSD</td>\n",
       "    </tr>\n",
       "    <tr>\n",
       "      <th>577</th>\n",
       "      <td>AMD Ryzen 7 Octa Core Processor</td>\n",
       "      <td>32 GB DDR5 RAM</td>\n",
       "      <td>64 bit Windows 11 Operating System</td>\n",
       "      <td>2 TB SSD</td>\n",
       "    </tr>\n",
       "    <tr>\n",
       "      <th>474</th>\n",
       "      <td>Intel Core i5 Processor</td>\n",
       "      <td>16 GB DDR4 RAM</td>\n",
       "      <td>64 bit Windows 11 Operating System</td>\n",
       "      <td>512 GB SSD</td>\n",
       "    </tr>\n",
       "    <tr>\n",
       "      <th>205</th>\n",
       "      <td>Intel Core i3 Processor</td>\n",
       "      <td>8 GB DDR4 RAM</td>\n",
       "      <td>64 bit Windows 11 Operating System</td>\n",
       "      <td>512 GB SSD</td>\n",
       "    </tr>\n",
       "  </tbody>\n",
       "</table>\n",
       "</div>"
      ],
      "text/plain": [
       "                           Processor             RAM  \\\n",
       "276  AMD Ryzen 3 Dual Core Processor   8 GB DDR4 RAM   \n",
       "375          Intel Core i9 Processor  32 GB DDR5 RAM   \n",
       "577  AMD Ryzen 7 Octa Core Processor  32 GB DDR5 RAM   \n",
       "474          Intel Core i5 Processor  16 GB DDR4 RAM   \n",
       "205          Intel Core i3 Processor   8 GB DDR4 RAM   \n",
       "\n",
       "                                     OS     Storage  \n",
       "276  64 bit Windows 11 Operating System  512 GB SSD  \n",
       "375  64 bit Windows 11 Operating System    1 TB SSD  \n",
       "577  64 bit Windows 11 Operating System    2 TB SSD  \n",
       "474  64 bit Windows 11 Operating System  512 GB SSD  \n",
       "205  64 bit Windows 11 Operating System  512 GB SSD  "
      ]
     },
     "execution_count": 91,
     "metadata": {},
     "output_type": "execute_result"
    }
   ],
   "source": [
    "X_test.head()"
   ]
  },
  {
   "cell_type": "code",
   "execution_count": 92,
   "id": "cc1c2bfc",
   "metadata": {},
   "outputs": [
    {
     "data": {
      "text/html": [
       "<div>\n",
       "<style scoped>\n",
       "    .dataframe tbody tr th:only-of-type {\n",
       "        vertical-align: middle;\n",
       "    }\n",
       "\n",
       "    .dataframe tbody tr th {\n",
       "        vertical-align: top;\n",
       "    }\n",
       "\n",
       "    .dataframe thead th {\n",
       "        text-align: right;\n",
       "    }\n",
       "</style>\n",
       "<table border=\"1\" class=\"dataframe\">\n",
       "  <thead>\n",
       "    <tr style=\"text-align: right;\">\n",
       "      <th></th>\n",
       "    </tr>\n",
       "  </thead>\n",
       "  <tbody>\n",
       "    <tr>\n",
       "      <th>276</th>\n",
       "    </tr>\n",
       "    <tr>\n",
       "      <th>375</th>\n",
       "    </tr>\n",
       "    <tr>\n",
       "      <th>577</th>\n",
       "    </tr>\n",
       "    <tr>\n",
       "      <th>474</th>\n",
       "    </tr>\n",
       "    <tr>\n",
       "      <th>205</th>\n",
       "    </tr>\n",
       "  </tbody>\n",
       "</table>\n",
       "</div>"
      ],
      "text/plain": [
       "Empty DataFrame\n",
       "Columns: []\n",
       "Index: [276, 375, 577, 474, 205]"
      ]
     },
     "execution_count": 92,
     "metadata": {},
     "output_type": "execute_result"
    }
   ],
   "source": [
    "X_test_label = pd.DataFrame(index = X_test.index)\n",
    "\n",
    "X_test_label.head()"
   ]
  },
  {
   "cell_type": "code",
   "execution_count": 93,
   "id": "0cad420e",
   "metadata": {},
   "outputs": [
    {
     "data": {
      "text/html": [
       "<div>\n",
       "<style scoped>\n",
       "    .dataframe tbody tr th:only-of-type {\n",
       "        vertical-align: middle;\n",
       "    }\n",
       "\n",
       "    .dataframe tbody tr th {\n",
       "        vertical-align: top;\n",
       "    }\n",
       "\n",
       "    .dataframe thead th {\n",
       "        text-align: right;\n",
       "    }\n",
       "</style>\n",
       "<table border=\"1\" class=\"dataframe\">\n",
       "  <thead>\n",
       "    <tr style=\"text-align: right;\">\n",
       "      <th></th>\n",
       "      <th>Processor</th>\n",
       "      <th>RAM</th>\n",
       "      <th>OS</th>\n",
       "      <th>Storage</th>\n",
       "    </tr>\n",
       "  </thead>\n",
       "  <tbody>\n",
       "    <tr>\n",
       "      <th>276</th>\n",
       "      <td>6</td>\n",
       "      <td>4</td>\n",
       "      <td>4</td>\n",
       "      <td>3</td>\n",
       "    </tr>\n",
       "    <tr>\n",
       "      <th>375</th>\n",
       "      <td>17</td>\n",
       "      <td>14</td>\n",
       "      <td>4</td>\n",
       "      <td>7</td>\n",
       "    </tr>\n",
       "    <tr>\n",
       "      <th>577</th>\n",
       "      <td>7</td>\n",
       "      <td>14</td>\n",
       "      <td>4</td>\n",
       "      <td>8</td>\n",
       "    </tr>\n",
       "    <tr>\n",
       "      <th>474</th>\n",
       "      <td>14</td>\n",
       "      <td>10</td>\n",
       "      <td>4</td>\n",
       "      <td>3</td>\n",
       "    </tr>\n",
       "    <tr>\n",
       "      <th>205</th>\n",
       "      <td>13</td>\n",
       "      <td>4</td>\n",
       "      <td>4</td>\n",
       "      <td>3</td>\n",
       "    </tr>\n",
       "  </tbody>\n",
       "</table>\n",
       "</div>"
      ],
      "text/plain": [
       "     Processor  RAM  OS  Storage\n",
       "276          6    4   4        3\n",
       "375         17   14   4        7\n",
       "577          7   14   4        8\n",
       "474         14   10   4        3\n",
       "205         13    4   4        3"
      ]
     },
     "execution_count": 93,
     "metadata": {},
     "output_type": "execute_result"
    }
   ],
   "source": [
    "X_test_label['Processor']=X_test['Processor'].apply(lambda x : processor_encoder[x])\n",
    "X_test_label['RAM']=X_test['RAM'].apply(lambda x : ram_encoder[x])\n",
    "X_test_label['OS']=X_test['OS'].apply(lambda x : os_encoder[x])\n",
    "X_test_label['Storage']=X_test['Storage'].apply(lambda x : storage_encoder[x])\n",
    "\n",
    "X_test_label.head()"
   ]
  },
  {
   "cell_type": "markdown",
   "id": "0500a7d1",
   "metadata": {},
   "source": [
    "## Model Building"
   ]
  },
  {
   "cell_type": "markdown",
   "id": "cfd39f87",
   "metadata": {},
   "source": [
    "### Linear Regression"
   ]
  },
  {
   "cell_type": "code",
   "execution_count": 94,
   "id": "201b23eb",
   "metadata": {},
   "outputs": [
    {
     "data": {
      "text/html": [
       "<style>#sk-container-id-1 {color: black;background-color: white;}#sk-container-id-1 pre{padding: 0;}#sk-container-id-1 div.sk-toggleable {background-color: white;}#sk-container-id-1 label.sk-toggleable__label {cursor: pointer;display: block;width: 100%;margin-bottom: 0;padding: 0.3em;box-sizing: border-box;text-align: center;}#sk-container-id-1 label.sk-toggleable__label-arrow:before {content: \"▸\";float: left;margin-right: 0.25em;color: #696969;}#sk-container-id-1 label.sk-toggleable__label-arrow:hover:before {color: black;}#sk-container-id-1 div.sk-estimator:hover label.sk-toggleable__label-arrow:before {color: black;}#sk-container-id-1 div.sk-toggleable__content {max-height: 0;max-width: 0;overflow: hidden;text-align: left;background-color: #f0f8ff;}#sk-container-id-1 div.sk-toggleable__content pre {margin: 0.2em;color: black;border-radius: 0.25em;background-color: #f0f8ff;}#sk-container-id-1 input.sk-toggleable__control:checked~div.sk-toggleable__content {max-height: 200px;max-width: 100%;overflow: auto;}#sk-container-id-1 input.sk-toggleable__control:checked~label.sk-toggleable__label-arrow:before {content: \"▾\";}#sk-container-id-1 div.sk-estimator input.sk-toggleable__control:checked~label.sk-toggleable__label {background-color: #d4ebff;}#sk-container-id-1 div.sk-label input.sk-toggleable__control:checked~label.sk-toggleable__label {background-color: #d4ebff;}#sk-container-id-1 input.sk-hidden--visually {border: 0;clip: rect(1px 1px 1px 1px);clip: rect(1px, 1px, 1px, 1px);height: 1px;margin: -1px;overflow: hidden;padding: 0;position: absolute;width: 1px;}#sk-container-id-1 div.sk-estimator {font-family: monospace;background-color: #f0f8ff;border: 1px dotted black;border-radius: 0.25em;box-sizing: border-box;margin-bottom: 0.5em;}#sk-container-id-1 div.sk-estimator:hover {background-color: #d4ebff;}#sk-container-id-1 div.sk-parallel-item::after {content: \"\";width: 100%;border-bottom: 1px solid gray;flex-grow: 1;}#sk-container-id-1 div.sk-label:hover label.sk-toggleable__label {background-color: #d4ebff;}#sk-container-id-1 div.sk-serial::before {content: \"\";position: absolute;border-left: 1px solid gray;box-sizing: border-box;top: 0;bottom: 0;left: 50%;z-index: 0;}#sk-container-id-1 div.sk-serial {display: flex;flex-direction: column;align-items: center;background-color: white;padding-right: 0.2em;padding-left: 0.2em;position: relative;}#sk-container-id-1 div.sk-item {position: relative;z-index: 1;}#sk-container-id-1 div.sk-parallel {display: flex;align-items: stretch;justify-content: center;background-color: white;position: relative;}#sk-container-id-1 div.sk-item::before, #sk-container-id-1 div.sk-parallel-item::before {content: \"\";position: absolute;border-left: 1px solid gray;box-sizing: border-box;top: 0;bottom: 0;left: 50%;z-index: -1;}#sk-container-id-1 div.sk-parallel-item {display: flex;flex-direction: column;z-index: 1;position: relative;background-color: white;}#sk-container-id-1 div.sk-parallel-item:first-child::after {align-self: flex-end;width: 50%;}#sk-container-id-1 div.sk-parallel-item:last-child::after {align-self: flex-start;width: 50%;}#sk-container-id-1 div.sk-parallel-item:only-child::after {width: 0;}#sk-container-id-1 div.sk-dashed-wrapped {border: 1px dashed gray;margin: 0 0.4em 0.5em 0.4em;box-sizing: border-box;padding-bottom: 0.4em;background-color: white;}#sk-container-id-1 div.sk-label label {font-family: monospace;font-weight: bold;display: inline-block;line-height: 1.2em;}#sk-container-id-1 div.sk-label-container {text-align: center;}#sk-container-id-1 div.sk-container {/* jupyter's `normalize.less` sets `[hidden] { display: none; }` but bootstrap.min.css set `[hidden] { display: none !important; }` so we also need the `!important` here to be able to override the default hidden behavior on the sphinx rendered scikit-learn.org. See: https://github.com/scikit-learn/scikit-learn/issues/21755 */display: inline-block !important;position: relative;}#sk-container-id-1 div.sk-text-repr-fallback {display: none;}</style><div id=\"sk-container-id-1\" class=\"sk-top-container\"><div class=\"sk-text-repr-fallback\"><pre>LinearRegression()</pre><b>In a Jupyter environment, please rerun this cell to show the HTML representation or trust the notebook. <br />On GitHub, the HTML representation is unable to render, please try loading this page with nbviewer.org.</b></div><div class=\"sk-container\" hidden><div class=\"sk-item\"><div class=\"sk-estimator sk-toggleable\"><input class=\"sk-toggleable__control sk-hidden--visually\" id=\"sk-estimator-id-1\" type=\"checkbox\" checked><label for=\"sk-estimator-id-1\" class=\"sk-toggleable__label sk-toggleable__label-arrow\">LinearRegression</label><div class=\"sk-toggleable__content\"><pre>LinearRegression()</pre></div></div></div></div></div>"
      ],
      "text/plain": [
       "LinearRegression()"
      ]
     },
     "execution_count": 94,
     "metadata": {},
     "output_type": "execute_result"
    }
   ],
   "source": [
    "from sklearn.linear_model import LinearRegression\n",
    "regressor = LinearRegression()\n",
    "regressor.fit(X_train_label, y_train)"
   ]
  },
  {
   "cell_type": "code",
   "execution_count": 95,
   "id": "10c76a9e",
   "metadata": {},
   "outputs": [],
   "source": [
    "y_test_pred = regressor.predict(X_test_label)"
   ]
  },
  {
   "cell_type": "code",
   "execution_count": 96,
   "id": "902037fa",
   "metadata": {},
   "outputs": [
    {
     "data": {
      "text/html": [
       "<div>\n",
       "<style scoped>\n",
       "    .dataframe tbody tr th:only-of-type {\n",
       "        vertical-align: middle;\n",
       "    }\n",
       "\n",
       "    .dataframe tbody tr th {\n",
       "        vertical-align: top;\n",
       "    }\n",
       "\n",
       "    .dataframe thead th {\n",
       "        text-align: right;\n",
       "    }\n",
       "</style>\n",
       "<table border=\"1\" class=\"dataframe\">\n",
       "  <thead>\n",
       "    <tr style=\"text-align: right;\">\n",
       "      <th></th>\n",
       "      <th>Actual</th>\n",
       "      <th>Predicted</th>\n",
       "    </tr>\n",
       "  </thead>\n",
       "  <tbody>\n",
       "    <tr>\n",
       "      <th>276</th>\n",
       "      <td>35590.0</td>\n",
       "      <td>47025.064837</td>\n",
       "    </tr>\n",
       "    <tr>\n",
       "      <th>375</th>\n",
       "      <td>301990.0</td>\n",
       "      <td>193423.214880</td>\n",
       "    </tr>\n",
       "    <tr>\n",
       "      <th>577</th>\n",
       "      <td>249990.0</td>\n",
       "      <td>204387.311782</td>\n",
       "    </tr>\n",
       "    <tr>\n",
       "      <th>474</th>\n",
       "      <td>79990.0</td>\n",
       "      <td>95365.736705</td>\n",
       "    </tr>\n",
       "    <tr>\n",
       "      <th>205</th>\n",
       "      <td>36990.0</td>\n",
       "      <td>51108.724092</td>\n",
       "    </tr>\n",
       "  </tbody>\n",
       "</table>\n",
       "</div>"
      ],
      "text/plain": [
       "       Actual      Predicted\n",
       "276   35590.0   47025.064837\n",
       "375  301990.0  193423.214880\n",
       "577  249990.0  204387.311782\n",
       "474   79990.0   95365.736705\n",
       "205   36990.0   51108.724092"
      ]
     },
     "execution_count": 96,
     "metadata": {},
     "output_type": "execute_result"
    }
   ],
   "source": [
    "dif = pd.DataFrame({'Actual': y_test, 'Predicted': y_test_pred})\n",
    "\n",
    "dif.head()"
   ]
  },
  {
   "cell_type": "code",
   "execution_count": 97,
   "id": "eefb5fb1",
   "metadata": {},
   "outputs": [
    {
     "data": {
      "text/plain": [
       "<AxesSubplot:xlabel='MRP', ylabel='Count'>"
      ]
     },
     "execution_count": 97,
     "metadata": {},
     "output_type": "execute_result"
    },
    {
     "data": {
      "image/png": "[encoded data removed]",
      "text/plain": [
       "<Figure size 432x288 with 1 Axes>"
      ]
     },
     "metadata": {
      "needs_background": "light"
     },
     "output_type": "display_data"
    }
   ],
   "source": [
    "sns.histplot(y_test, color='blue', alpha=0.5)\n",
    "sns.histplot(y_test_pred, color='red', alpha=0.5)"
   ]
  },
  {
   "cell_type": "code",
   "execution_count": 98,
   "id": "51d8f092",
   "metadata": {},
   "outputs": [
    {
     "name": "stdout",
     "output_type": "stream",
     "text": [
      "Root Mean Squared Error:  31372.051501414033\n"
     ]
    }
   ],
   "source": [
    "print('Root Mean Squared Error: ', np.sqrt(metrics.mean_squared_error(y_test, y_test_pred)))"
   ]
  },
  {
   "cell_type": "markdown",
   "id": "fa8f3976",
   "metadata": {},
   "source": [
    "### KNN Regression"
   ]
  },
  {
   "cell_type": "code",
   "execution_count": 99,
   "id": "6053c858",
   "metadata": {},
   "outputs": [
    {
     "data": {
      "text/html": [
       "<style>#sk-container-id-2 {color: black;background-color: white;}#sk-container-id-2 pre{padding: 0;}#sk-container-id-2 div.sk-toggleable {background-color: white;}#sk-container-id-2 label.sk-toggleable__label {cursor: pointer;display: block;width: 100%;margin-bottom: 0;padding: 0.3em;box-sizing: border-box;text-align: center;}#sk-container-id-2 label.sk-toggleable__label-arrow:before {content: \"▸\";float: left;margin-right: 0.25em;color: #696969;}#sk-container-id-2 label.sk-toggleable__label-arrow:hover:before {color: black;}#sk-container-id-2 div.sk-estimator:hover label.sk-toggleable__label-arrow:before {color: black;}#sk-container-id-2 div.sk-toggleable__content {max-height: 0;max-width: 0;overflow: hidden;text-align: left;background-color: #f0f8ff;}#sk-container-id-2 div.sk-toggleable__content pre {margin: 0.2em;color: black;border-radius: 0.25em;background-color: #f0f8ff;}#sk-container-id-2 input.sk-toggleable__control:checked~div.sk-toggleable__content {max-height: 200px;max-width: 100%;overflow: auto;}#sk-container-id-2 input.sk-toggleable__control:checked~label.sk-toggleable__label-arrow:before {content: \"▾\";}#sk-container-id-2 div.sk-estimator input.sk-toggleable__control:checked~label.sk-toggleable__label {background-color: #d4ebff;}#sk-container-id-2 div.sk-label input.sk-toggleable__control:checked~label.sk-toggleable__label {background-color: #d4ebff;}#sk-container-id-2 input.sk-hidden--visually {border: 0;clip: rect(1px 1px 1px 1px);clip: rect(1px, 1px, 1px, 1px);height: 1px;margin: -1px;overflow: hidden;padding: 0;position: absolute;width: 1px;}#sk-container-id-2 div.sk-estimator {font-family: monospace;background-color: #f0f8ff;border: 1px dotted black;border-radius: 0.25em;box-sizing: border-box;margin-bottom: 0.5em;}#sk-container-id-2 div.sk-estimator:hover {background-color: #d4ebff;}#sk-container-id-2 div.sk-parallel-item::after {content: \"\";width: 100%;border-bottom: 1px solid gray;flex-grow: 1;}#sk-container-id-2 div.sk-label:hover label.sk-toggleable__label {background-color: #d4ebff;}#sk-container-id-2 div.sk-serial::before {content: \"\";position: absolute;border-left: 1px solid gray;box-sizing: border-box;top: 0;bottom: 0;left: 50%;z-index: 0;}#sk-container-id-2 div.sk-serial {display: flex;flex-direction: column;align-items: center;background-color: white;padding-right: 0.2em;padding-left: 0.2em;position: relative;}#sk-container-id-2 div.sk-item {position: relative;z-index: 1;}#sk-container-id-2 div.sk-parallel {display: flex;align-items: stretch;justify-content: center;background-color: white;position: relative;}#sk-container-id-2 div.sk-item::before, #sk-container-id-2 div.sk-parallel-item::before {content: \"\";position: absolute;border-left: 1px solid gray;box-sizing: border-box;top: 0;bottom: 0;left: 50%;z-index: -1;}#sk-container-id-2 div.sk-parallel-item {display: flex;flex-direction: column;z-index: 1;position: relative;background-color: white;}#sk-container-id-2 div.sk-parallel-item:first-child::after {align-self: flex-end;width: 50%;}#sk-container-id-2 div.sk-parallel-item:last-child::after {align-self: flex-start;width: 50%;}#sk-container-id-2 div.sk-parallel-item:only-child::after {width: 0;}#sk-container-id-2 div.sk-dashed-wrapped {border: 1px dashed gray;margin: 0 0.4em 0.5em 0.4em;box-sizing: border-box;padding-bottom: 0.4em;background-color: white;}#sk-container-id-2 div.sk-label label {font-family: monospace;font-weight: bold;display: inline-block;line-height: 1.2em;}#sk-container-id-2 div.sk-label-container {text-align: center;}#sk-container-id-2 div.sk-container {/* jupyter's `normalize.less` sets `[hidden] { display: none; }` but bootstrap.min.css set `[hidden] { display: none !important; }` so we also need the `!important` here to be able to override the default hidden behavior on the sphinx rendered scikit-learn.org. See: https://github.com/scikit-learn/scikit-learn/issues/21755 */display: inline-block !important;position: relative;}#sk-container-id-2 div.sk-text-repr-fallback {display: none;}</style><div id=\"sk-container-id-2\" class=\"sk-top-container\"><div class=\"sk-text-repr-fallback\"><pre>KNeighborsRegressor()</pre><b>In a Jupyter environment, please rerun this cell to show the HTML representation or trust the notebook. <br />On GitHub, the HTML representation is unable to render, please try loading this page with nbviewer.org.</b></div><div class=\"sk-container\" hidden><div class=\"sk-item\"><div class=\"sk-estimator sk-toggleable\"><input class=\"sk-toggleable__control sk-hidden--visually\" id=\"sk-estimator-id-2\" type=\"checkbox\" checked><label for=\"sk-estimator-id-2\" class=\"sk-toggleable__label sk-toggleable__label-arrow\">KNeighborsRegressor</label><div class=\"sk-toggleable__content\"><pre>KNeighborsRegressor()</pre></div></div></div></div></div>"
      ],
      "text/plain": [
       "KNeighborsRegressor()"
      ]
     },
     "execution_count": 99,
     "metadata": {},
     "output_type": "execute_result"
    }
   ],
   "source": [
    "from sklearn.neighbors import KNeighborsRegressor\n",
    "regressor = KNeighborsRegressor()\n",
    "regressor.fit(X_train_label, y_train)"
   ]
  },
  {
   "cell_type": "code",
   "execution_count": 100,
   "id": "2628df71",
   "metadata": {},
   "outputs": [],
   "source": [
    "y_test_pred = regressor.predict(X_test_label)"
   ]
  },
  {
   "cell_type": "code",
   "execution_count": 101,
   "id": "dd321bc7",
   "metadata": {},
   "outputs": [
    {
     "data": {
      "text/html": [
       "<div>\n",
       "<style scoped>\n",
       "    .dataframe tbody tr th:only-of-type {\n",
       "        vertical-align: middle;\n",
       "    }\n",
       "\n",
       "    .dataframe tbody tr th {\n",
       "        vertical-align: top;\n",
       "    }\n",
       "\n",
       "    .dataframe thead th {\n",
       "        text-align: right;\n",
       "    }\n",
       "</style>\n",
       "<table border=\"1\" class=\"dataframe\">\n",
       "  <thead>\n",
       "    <tr style=\"text-align: right;\">\n",
       "      <th></th>\n",
       "      <th>Actual</th>\n",
       "      <th>Predicted</th>\n",
       "    </tr>\n",
       "  </thead>\n",
       "  <tbody>\n",
       "    <tr>\n",
       "      <th>276</th>\n",
       "      <td>35590.0</td>\n",
       "      <td>35270.0</td>\n",
       "    </tr>\n",
       "    <tr>\n",
       "      <th>375</th>\n",
       "      <td>301990.0</td>\n",
       "      <td>307958.0</td>\n",
       "    </tr>\n",
       "    <tr>\n",
       "      <th>577</th>\n",
       "      <td>249990.0</td>\n",
       "      <td>170590.0</td>\n",
       "    </tr>\n",
       "    <tr>\n",
       "      <th>474</th>\n",
       "      <td>79990.0</td>\n",
       "      <td>67890.0</td>\n",
       "    </tr>\n",
       "    <tr>\n",
       "      <th>205</th>\n",
       "      <td>36990.0</td>\n",
       "      <td>42991.8</td>\n",
       "    </tr>\n",
       "  </tbody>\n",
       "</table>\n",
       "</div>"
      ],
      "text/plain": [
       "       Actual  Predicted\n",
       "276   35590.0    35270.0\n",
       "375  301990.0   307958.0\n",
       "577  249990.0   170590.0\n",
       "474   79990.0    67890.0\n",
       "205   36990.0    42991.8"
      ]
     },
     "execution_count": 101,
     "metadata": {},
     "output_type": "execute_result"
    }
   ],
   "source": [
    "temp_df = pd.DataFrame({'Actual': y_test, 'Predicted': y_test_pred})\n",
    "\n",
    "temp_df.head()"
   ]
  },
  {
   "cell_type": "code",
   "execution_count": 102,
   "id": "9e0eaa66",
   "metadata": {},
   "outputs": [
    {
     "data": {
      "text/plain": [
       "<AxesSubplot:xlabel='MRP', ylabel='Count'>"
      ]
     },
     "execution_count": 102,
     "metadata": {},
     "output_type": "execute_result"
    },
    {
     "data": {
      "image/png": "[encoded data removed]",
      "text/plain": [
       "<Figure size 432x288 with 1 Axes>"
      ]
     },
     "metadata": {
      "needs_background": "light"
     },
     "output_type": "display_data"
    }
   ],
   "source": [
    "sns.histplot(y_test, color='blue', alpha=0.5)\n",
    "sns.histplot(y_test_pred, color='red', alpha=0.5)"
   ]
  },
  {
   "cell_type": "code",
   "execution_count": 103,
   "id": "3c7ec543",
   "metadata": {},
   "outputs": [
    {
     "name": "stdout",
     "output_type": "stream",
     "text": [
      "Root Mean Squared Error:  30025.660928964386\n"
     ]
    }
   ],
   "source": [
    "print('Root Mean Squared Error: ', np.sqrt(metrics.mean_squared_error(y_test, y_test_pred)))"
   ]
  },
  {
   "cell_type": "markdown",
   "id": "d58f3661",
   "metadata": {},
   "source": [
    "### Decision Tree Regression"
   ]
  },
  {
   "cell_type": "code",
   "execution_count": 104,
   "id": "df064ee6",
   "metadata": {},
   "outputs": [
    {
     "data": {
      "text/html": [
       "<style>#sk-container-id-3 {color: black;background-color: white;}#sk-container-id-3 pre{padding: 0;}#sk-container-id-3 div.sk-toggleable {background-color: white;}#sk-container-id-3 label.sk-toggleable__label {cursor: pointer;display: block;width: 100%;margin-bottom: 0;padding: 0.3em;box-sizing: border-box;text-align: center;}#sk-container-id-3 label.sk-toggleable__label-arrow:before {content: \"▸\";float: left;margin-right: 0.25em;color: #696969;}#sk-container-id-3 label.sk-toggleable__label-arrow:hover:before {color: black;}#sk-container-id-3 div.sk-estimator:hover label.sk-toggleable__label-arrow:before {color: black;}#sk-container-id-3 div.sk-toggleable__content {max-height: 0;max-width: 0;overflow: hidden;text-align: left;background-color: #f0f8ff;}#sk-container-id-3 div.sk-toggleable__content pre {margin: 0.2em;color: black;border-radius: 0.25em;background-color: #f0f8ff;}#sk-container-id-3 input.sk-toggleable__control:checked~div.sk-toggleable__content {max-height: 200px;max-width: 100%;overflow: auto;}#sk-container-id-3 input.sk-toggleable__control:checked~label.sk-toggleable__label-arrow:before {content: \"▾\";}#sk-container-id-3 div.sk-estimator input.sk-toggleable__control:checked~label.sk-toggleable__label {background-color: #d4ebff;}#sk-container-id-3 div.sk-label input.sk-toggleable__control:checked~label.sk-toggleable__label {background-color: #d4ebff;}#sk-container-id-3 input.sk-hidden--visually {border: 0;clip: rect(1px 1px 1px 1px);clip: rect(1px, 1px, 1px, 1px);height: 1px;margin: -1px;overflow: hidden;padding: 0;position: absolute;width: 1px;}#sk-container-id-3 div.sk-estimator {font-family: monospace;background-color: #f0f8ff;border: 1px dotted black;border-radius: 0.25em;box-sizing: border-box;margin-bottom: 0.5em;}#sk-container-id-3 div.sk-estimator:hover {background-color: #d4ebff;}#sk-container-id-3 div.sk-parallel-item::after {content: \"\";width: 100%;border-bottom: 1px solid gray;flex-grow: 1;}#sk-container-id-3 div.sk-label:hover label.sk-toggleable__label {background-color: #d4ebff;}#sk-container-id-3 div.sk-serial::before {content: \"\";position: absolute;border-left: 1px solid gray;box-sizing: border-box;top: 0;bottom: 0;left: 50%;z-index: 0;}#sk-container-id-3 div.sk-serial {display: flex;flex-direction: column;align-items: center;background-color: white;padding-right: 0.2em;padding-left: 0.2em;position: relative;}#sk-container-id-3 div.sk-item {position: relative;z-index: 1;}#sk-container-id-3 div.sk-parallel {display: flex;align-items: stretch;justify-content: center;background-color: white;position: relative;}#sk-container-id-3 div.sk-item::before, #sk-container-id-3 div.sk-parallel-item::before {content: \"\";position: absolute;border-left: 1px solid gray;box-sizing: border-box;top: 0;bottom: 0;left: 50%;z-index: -1;}#sk-container-id-3 div.sk-parallel-item {display: flex;flex-direction: column;z-index: 1;position: relative;background-color: white;}#sk-container-id-3 div.sk-parallel-item:first-child::after {align-self: flex-end;width: 50%;}#sk-container-id-3 div.sk-parallel-item:last-child::after {align-self: flex-start;width: 50%;}#sk-container-id-3 div.sk-parallel-item:only-child::after {width: 0;}#sk-container-id-3 div.sk-dashed-wrapped {border: 1px dashed gray;margin: 0 0.4em 0.5em 0.4em;box-sizing: border-box;padding-bottom: 0.4em;background-color: white;}#sk-container-id-3 div.sk-label label {font-family: monospace;font-weight: bold;display: inline-block;line-height: 1.2em;}#sk-container-id-3 div.sk-label-container {text-align: center;}#sk-container-id-3 div.sk-container {/* jupyter's `normalize.less` sets `[hidden] { display: none; }` but bootstrap.min.css set `[hidden] { display: none !important; }` so we also need the `!important` here to be able to override the default hidden behavior on the sphinx rendered scikit-learn.org. See: https://github.com/scikit-learn/scikit-learn/issues/21755 */display: inline-block !important;position: relative;}#sk-container-id-3 div.sk-text-repr-fallback {display: none;}</style><div id=\"sk-container-id-3\" class=\"sk-top-container\"><div class=\"sk-text-repr-fallback\"><pre>DecisionTreeRegressor()</pre><b>In a Jupyter environment, please rerun this cell to show the HTML representation or trust the notebook. <br />On GitHub, the HTML representation is unable to render, please try loading this page with nbviewer.org.</b></div><div class=\"sk-container\" hidden><div class=\"sk-item\"><div class=\"sk-estimator sk-toggleable\"><input class=\"sk-toggleable__control sk-hidden--visually\" id=\"sk-estimator-id-3\" type=\"checkbox\" checked><label for=\"sk-estimator-id-3\" class=\"sk-toggleable__label sk-toggleable__label-arrow\">DecisionTreeRegressor</label><div class=\"sk-toggleable__content\"><pre>DecisionTreeRegressor()</pre></div></div></div></div></div>"
      ],
      "text/plain": [
       "DecisionTreeRegressor()"
      ]
     },
     "execution_count": 104,
     "metadata": {},
     "output_type": "execute_result"
    }
   ],
   "source": [
    "from sklearn.tree import DecisionTreeRegressor\n",
    "regressor = DecisionTreeRegressor()\n",
    "regressor.fit(X_train_label, y_train)"
   ]
  },
  {
   "cell_type": "code",
   "execution_count": 105,
   "id": "f5ad9729",
   "metadata": {},
   "outputs": [],
   "source": [
    "y_test_pred = regressor.predict(X_test_label)"
   ]
  },
  {
   "cell_type": "code",
   "execution_count": 106,
   "id": "d83ea2be",
   "metadata": {},
   "outputs": [
    {
     "data": {
      "text/html": [
       "<div>\n",
       "<style scoped>\n",
       "    .dataframe tbody tr th:only-of-type {\n",
       "        vertical-align: middle;\n",
       "    }\n",
       "\n",
       "    .dataframe tbody tr th {\n",
       "        vertical-align: top;\n",
       "    }\n",
       "\n",
       "    .dataframe thead th {\n",
       "        text-align: right;\n",
       "    }\n",
       "</style>\n",
       "<table border=\"1\" class=\"dataframe\">\n",
       "  <thead>\n",
       "    <tr style=\"text-align: right;\">\n",
       "      <th></th>\n",
       "      <th>Actual</th>\n",
       "      <th>Predicted</th>\n",
       "    </tr>\n",
       "  </thead>\n",
       "  <tbody>\n",
       "    <tr>\n",
       "      <th>276</th>\n",
       "      <td>35590.0</td>\n",
       "      <td>36333.333333</td>\n",
       "    </tr>\n",
       "    <tr>\n",
       "      <th>375</th>\n",
       "      <td>301990.0</td>\n",
       "      <td>434830.000000</td>\n",
       "    </tr>\n",
       "    <tr>\n",
       "      <th>577</th>\n",
       "      <td>249990.0</td>\n",
       "      <td>314990.000000</td>\n",
       "    </tr>\n",
       "    <tr>\n",
       "      <th>474</th>\n",
       "      <td>79990.0</td>\n",
       "      <td>72040.166667</td>\n",
       "    </tr>\n",
       "    <tr>\n",
       "      <th>205</th>\n",
       "      <td>36990.0</td>\n",
       "      <td>40156.151515</td>\n",
       "    </tr>\n",
       "  </tbody>\n",
       "</table>\n",
       "</div>"
      ],
      "text/plain": [
       "       Actual      Predicted\n",
       "276   35590.0   36333.333333\n",
       "375  301990.0  434830.000000\n",
       "577  249990.0  314990.000000\n",
       "474   79990.0   72040.166667\n",
       "205   36990.0   40156.151515"
      ]
     },
     "execution_count": 106,
     "metadata": {},
     "output_type": "execute_result"
    }
   ],
   "source": [
    "temp_df = pd.DataFrame({'Actual': y_test, 'Predicted': y_test_pred})\n",
    "\n",
    "temp_df.head()"
   ]
  },
  {
   "cell_type": "code",
   "execution_count": 107,
   "id": "2cf9bfad",
   "metadata": {},
   "outputs": [
    {
     "data": {
      "text/plain": [
       "<AxesSubplot:xlabel='MRP', ylabel='Count'>"
      ]
     },
     "execution_count": 107,
     "metadata": {},
     "output_type": "execute_result"
    },
    {
     "data": {
      "image/png": "[encoded data removed]",
      "text/plain": [
       "<Figure size 432x288 with 1 Axes>"
      ]
     },
     "metadata": {
      "needs_background": "light"
     },
     "output_type": "display_data"
    }
   ],
   "source": [
    "sns.histplot(y_test, color='blue', alpha=0.5)\n",
    "sns.histplot(y_test_pred, color='red', alpha=0.5)"
   ]
  },
  {
   "cell_type": "code",
   "execution_count": 108,
   "id": "335d9a38",
   "metadata": {},
   "outputs": [
    {
     "name": "stdout",
     "output_type": "stream",
     "text": [
      "Root Mean Squared Error:  35061.56453324315\n"
     ]
    }
   ],
   "source": [
    "print('Root Mean Squared Error: ', np.sqrt(metrics.mean_squared_error(y_test, y_test_pred)))"
   ]
  },
  {
   "cell_type": "markdown",
   "id": "11d7c33d",
   "metadata": {},
   "source": [
    "### Random Forest Regression"
   ]
  },
  {
   "cell_type": "code",
   "execution_count": 109,
   "id": "37de2adb",
   "metadata": {},
   "outputs": [
    {
     "data": {
      "text/html": [
       "<style>#sk-container-id-4 {color: black;background-color: white;}#sk-container-id-4 pre{padding: 0;}#sk-container-id-4 div.sk-toggleable {background-color: white;}#sk-container-id-4 label.sk-toggleable__label {cursor: pointer;display: block;width: 100%;margin-bottom: 0;padding: 0.3em;box-sizing: border-box;text-align: center;}#sk-container-id-4 label.sk-toggleable__label-arrow:before {content: \"▸\";float: left;margin-right: 0.25em;color: #696969;}#sk-container-id-4 label.sk-toggleable__label-arrow:hover:before {color: black;}#sk-container-id-4 div.sk-estimator:hover label.sk-toggleable__label-arrow:before {color: black;}#sk-container-id-4 div.sk-toggleable__content {max-height: 0;max-width: 0;overflow: hidden;text-align: left;background-color: #f0f8ff;}#sk-container-id-4 div.sk-toggleable__content pre {margin: 0.2em;color: black;border-radius: 0.25em;background-color: #f0f8ff;}#sk-container-id-4 input.sk-toggleable__control:checked~div.sk-toggleable__content {max-height: 200px;max-width: 100%;overflow: auto;}#sk-container-id-4 input.sk-toggleable__control:checked~label.sk-toggleable__label-arrow:before {content: \"▾\";}#sk-container-id-4 div.sk-estimator input.sk-toggleable__control:checked~label.sk-toggleable__label {background-color: #d4ebff;}#sk-container-id-4 div.sk-label input.sk-toggleable__control:checked~label.sk-toggleable__label {background-color: #d4ebff;}#sk-container-id-4 input.sk-hidden--visually {border: 0;clip: rect(1px 1px 1px 1px);clip: rect(1px, 1px, 1px, 1px);height: 1px;margin: -1px;overflow: hidden;padding: 0;position: absolute;width: 1px;}#sk-container-id-4 div.sk-estimator {font-family: monospace;background-color: #f0f8ff;border: 1px dotted black;border-radius: 0.25em;box-sizing: border-box;margin-bottom: 0.5em;}#sk-container-id-4 div.sk-estimator:hover {background-color: #d4ebff;}#sk-container-id-4 div.sk-parallel-item::after {content: \"\";width: 100%;border-bottom: 1px solid gray;flex-grow: 1;}#sk-container-id-4 div.sk-label:hover label.sk-toggleable__label {background-color: #d4ebff;}#sk-container-id-4 div.sk-serial::before {content: \"\";position: absolute;border-left: 1px solid gray;box-sizing: border-box;top: 0;bottom: 0;left: 50%;z-index: 0;}#sk-container-id-4 div.sk-serial {display: flex;flex-direction: column;align-items: center;background-color: white;padding-right: 0.2em;padding-left: 0.2em;position: relative;}#sk-container-id-4 div.sk-item {position: relative;z-index: 1;}#sk-container-id-4 div.sk-parallel {display: flex;align-items: stretch;justify-content: center;background-color: white;position: relative;}#sk-container-id-4 div.sk-item::before, #sk-container-id-4 div.sk-parallel-item::before {content: \"\";position: absolute;border-left: 1px solid gray;box-sizing: border-box;top: 0;bottom: 0;left: 50%;z-index: -1;}#sk-container-id-4 div.sk-parallel-item {display: flex;flex-direction: column;z-index: 1;position: relative;background-color: white;}#sk-container-id-4 div.sk-parallel-item:first-child::after {align-self: flex-end;width: 50%;}#sk-container-id-4 div.sk-parallel-item:last-child::after {align-self: flex-start;width: 50%;}#sk-container-id-4 div.sk-parallel-item:only-child::after {width: 0;}#sk-container-id-4 div.sk-dashed-wrapped {border: 1px dashed gray;margin: 0 0.4em 0.5em 0.4em;box-sizing: border-box;padding-bottom: 0.4em;background-color: white;}#sk-container-id-4 div.sk-label label {font-family: monospace;font-weight: bold;display: inline-block;line-height: 1.2em;}#sk-container-id-4 div.sk-label-container {text-align: center;}#sk-container-id-4 div.sk-container {/* jupyter's `normalize.less` sets `[hidden] { display: none; }` but bootstrap.min.css set `[hidden] { display: none !important; }` so we also need the `!important` here to be able to override the default hidden behavior on the sphinx rendered scikit-learn.org. See: https://github.com/scikit-learn/scikit-learn/issues/21755 */display: inline-block !important;position: relative;}#sk-container-id-4 div.sk-text-repr-fallback {display: none;}</style><div id=\"sk-container-id-4\" class=\"sk-top-container\"><div class=\"sk-text-repr-fallback\"><pre>RandomForestRegressor()</pre><b>In a Jupyter environment, please rerun this cell to show the HTML representation or trust the notebook. <br />On GitHub, the HTML representation is unable to render, please try loading this page with nbviewer.org.</b></div><div class=\"sk-container\" hidden><div class=\"sk-item\"><div class=\"sk-estimator sk-toggleable\"><input class=\"sk-toggleable__control sk-hidden--visually\" id=\"sk-estimator-id-4\" type=\"checkbox\" checked><label for=\"sk-estimator-id-4\" class=\"sk-toggleable__label sk-toggleable__label-arrow\">RandomForestRegressor</label><div class=\"sk-toggleable__content\"><pre>RandomForestRegressor()</pre></div></div></div></div></div>"
      ],
      "text/plain": [
       "RandomForestRegressor()"
      ]
     },
     "execution_count": 109,
     "metadata": {},
     "output_type": "execute_result"
    }
   ],
   "source": [
    "from sklearn.ensemble import RandomForestRegressor\n",
    "regressor_rf = RandomForestRegressor()\n",
    "regressor_rf.fit(X_train_label, y_train)"
   ]
  },
  {
   "cell_type": "code",
   "execution_count": 110,
   "id": "80b829e2",
   "metadata": {},
   "outputs": [],
   "source": [
    "y_test_pred = regressor_rf.predict(X_test_label)"
   ]
  },
  {
   "cell_type": "code",
   "execution_count": 111,
   "id": "26b3b527",
   "metadata": {},
   "outputs": [
    {
     "data": {
      "text/html": [
       "<div>\n",
       "<style scoped>\n",
       "    .dataframe tbody tr th:only-of-type {\n",
       "        vertical-align: middle;\n",
       "    }\n",
       "\n",
       "    .dataframe tbody tr th {\n",
       "        vertical-align: top;\n",
       "    }\n",
       "\n",
       "    .dataframe thead th {\n",
       "        text-align: right;\n",
       "    }\n",
       "</style>\n",
       "<table border=\"1\" class=\"dataframe\">\n",
       "  <thead>\n",
       "    <tr style=\"text-align: right;\">\n",
       "      <th></th>\n",
       "      <th>Actual</th>\n",
       "      <th>Predicted</th>\n",
       "    </tr>\n",
       "  </thead>\n",
       "  <tbody>\n",
       "    <tr>\n",
       "      <th>276</th>\n",
       "      <td>35590.0</td>\n",
       "      <td>36288.487733</td>\n",
       "    </tr>\n",
       "    <tr>\n",
       "      <th>375</th>\n",
       "      <td>301990.0</td>\n",
       "      <td>353095.994872</td>\n",
       "    </tr>\n",
       "    <tr>\n",
       "      <th>577</th>\n",
       "      <td>249990.0</td>\n",
       "      <td>285044.047619</td>\n",
       "    </tr>\n",
       "    <tr>\n",
       "      <th>474</th>\n",
       "      <td>79990.0</td>\n",
       "      <td>72394.193565</td>\n",
       "    </tr>\n",
       "    <tr>\n",
       "      <th>205</th>\n",
       "      <td>36990.0</td>\n",
       "      <td>40116.572312</td>\n",
       "    </tr>\n",
       "  </tbody>\n",
       "</table>\n",
       "</div>"
      ],
      "text/plain": [
       "       Actual      Predicted\n",
       "276   35590.0   36288.487733\n",
       "375  301990.0  353095.994872\n",
       "577  249990.0  285044.047619\n",
       "474   79990.0   72394.193565\n",
       "205   36990.0   40116.572312"
      ]
     },
     "execution_count": 111,
     "metadata": {},
     "output_type": "execute_result"
    }
   ],
   "source": [
    "temp_df = pd.DataFrame({'Actual': y_test, 'Predicted': y_test_pred})\n",
    "\n",
    "temp_df.head()"
   ]
  },
  {
   "cell_type": "code",
   "execution_count": 112,
   "id": "6dce3db0",
   "metadata": {},
   "outputs": [
    {
     "data": {
      "text/plain": [
       "<AxesSubplot:xlabel='MRP', ylabel='Count'>"
      ]
     },
     "execution_count": 112,
     "metadata": {},
     "output_type": "execute_result"
    },
    {
     "data": {
      "image/png": "[encoded data removed]",
      "text/plain": [
       "<Figure size 432x288 with 1 Axes>"
      ]
     },
     "metadata": {
      "needs_background": "light"
     },
     "output_type": "display_data"
    }
   ],
   "source": [
    "sns.histplot(y_test, color='blue', alpha=0.5)\n",
    "sns.histplot(y_test_pred, color='red', alpha=0.5)"
   ]
  },
  {
   "cell_type": "code",
   "execution_count": 113,
   "id": "bf86d5ac",
   "metadata": {},
   "outputs": [
    {
     "name": "stdout",
     "output_type": "stream",
     "text": [
      "Root Mean Squared Error:  23303.402168931534\n"
     ]
    }
   ],
   "source": [
    "print('Root Mean Squared Error: ', np.sqrt(metrics.mean_squared_error(y_test, y_test_pred)))"
   ]
  },
  {
   "cell_type": "markdown",
   "id": "675b1366",
   "metadata": {},
   "source": [
    "### Voting Regressor"
   ]
  },
  {
   "cell_type": "code",
   "execution_count": 114,
   "id": "a71d291b",
   "metadata": {},
   "outputs": [],
   "source": [
    "from sklearn.ensemble import VotingRegressor\n",
    "\n",
    "from sklearn.ensemble import GradientBoostingRegressor\n",
    "from sklearn.ensemble import RandomForestRegressor\n",
    "from sklearn.linear_model import LinearRegression"
   ]
  },
  {
   "cell_type": "code",
   "execution_count": 115,
   "id": "e4dae50d",
   "metadata": {},
   "outputs": [],
   "source": [
    "reg1 = GradientBoostingRegressor(random_state=1)\n",
    "reg2 = RandomForestRegressor(random_state=1)\n",
    "reg3 = LinearRegression()\n",
    "ereg = VotingRegressor(estimators=[('gb', reg1), ('rf', reg2), ('lr', reg3)])\n",
    "ereg = ereg.fit(X_train_label, y_train)"
   ]
  },
  {
   "cell_type": "code",
   "execution_count": 116,
   "id": "4056529f",
   "metadata": {},
   "outputs": [],
   "source": [
    "y_test_pred = ereg.predict(X_test_label)"
   ]
  },
  {
   "cell_type": "code",
   "execution_count": 117,
   "id": "936ee1bc",
   "metadata": {},
   "outputs": [
    {
     "data": {
      "text/html": [
       "<div>\n",
       "<style scoped>\n",
       "    .dataframe tbody tr th:only-of-type {\n",
       "        vertical-align: middle;\n",
       "    }\n",
       "\n",
       "    .dataframe tbody tr th {\n",
       "        vertical-align: top;\n",
       "    }\n",
       "\n",
       "    .dataframe thead th {\n",
       "        text-align: right;\n",
       "    }\n",
       "</style>\n",
       "<table border=\"1\" class=\"dataframe\">\n",
       "  <thead>\n",
       "    <tr style=\"text-align: right;\">\n",
       "      <th></th>\n",
       "      <th>Actual</th>\n",
       "      <th>Predicted</th>\n",
       "    </tr>\n",
       "  </thead>\n",
       "  <tbody>\n",
       "    <tr>\n",
       "      <th>276</th>\n",
       "      <td>35590.0</td>\n",
       "      <td>40451.767526</td>\n",
       "    </tr>\n",
       "    <tr>\n",
       "      <th>375</th>\n",
       "      <td>301990.0</td>\n",
       "      <td>315406.821671</td>\n",
       "    </tr>\n",
       "    <tr>\n",
       "      <th>577</th>\n",
       "      <td>249990.0</td>\n",
       "      <td>255416.735982</td>\n",
       "    </tr>\n",
       "    <tr>\n",
       "      <th>474</th>\n",
       "      <td>79990.0</td>\n",
       "      <td>80157.582410</td>\n",
       "    </tr>\n",
       "    <tr>\n",
       "      <th>205</th>\n",
       "      <td>36990.0</td>\n",
       "      <td>44359.755013</td>\n",
       "    </tr>\n",
       "  </tbody>\n",
       "</table>\n",
       "</div>"
      ],
      "text/plain": [
       "       Actual      Predicted\n",
       "276   35590.0   40451.767526\n",
       "375  301990.0  315406.821671\n",
       "577  249990.0  255416.735982\n",
       "474   79990.0   80157.582410\n",
       "205   36990.0   44359.755013"
      ]
     },
     "execution_count": 117,
     "metadata": {},
     "output_type": "execute_result"
    }
   ],
   "source": [
    "temp_df = pd.DataFrame({'Actual': y_test, 'Predicted': y_test_pred})\n",
    "\n",
    "temp_df.head()"
   ]
  },
  {
   "cell_type": "code",
   "execution_count": 118,
   "id": "20a04c72",
   "metadata": {},
   "outputs": [
    {
     "data": {
      "text/plain": [
       "<AxesSubplot:xlabel='MRP', ylabel='Count'>"
      ]
     },
     "execution_count": 118,
     "metadata": {},
     "output_type": "execute_result"
    },
    {
     "data": {
      "image/png": "[encoded data removed]",
      "text/plain": [
       "<Figure size 432x288 with 1 Axes>"
      ]
     },
     "metadata": {
      "needs_background": "light"
     },
     "output_type": "display_data"
    }
   ],
   "source": [
    "sns.histplot(y_test, color='blue', alpha=0.5)\n",
    "sns.histplot(y_test_pred, color='red', alpha=0.5)"
   ]
  },
  {
   "cell_type": "code",
   "execution_count": 119,
   "id": "900b2821",
   "metadata": {},
   "outputs": [
    {
     "name": "stdout",
     "output_type": "stream",
     "text": [
      "Root Mean Squared Error:  20140.849325272295\n"
     ]
    }
   ],
   "source": [
    "print('Root Mean Squared Error: ', np.sqrt(metrics.mean_squared_error(y_test, y_test_pred)))"
   ]
  },
  {
   "cell_type": "markdown",
   "id": "7f4eb4f6",
   "metadata": {},
   "source": [
    "### Stacking Regressor"
   ]
  },
  {
   "cell_type": "code",
   "execution_count": 120,
   "id": "29e8298e",
   "metadata": {},
   "outputs": [],
   "source": [
    "from sklearn.ensemble import StackingRegressor\n",
    "\n",
    "from sklearn.linear_model import LinearRegression\n",
    "from sklearn.neighbors import KNeighborsRegressor\n",
    "from sklearn.ensemble import RandomForestRegressor"
   ]
  },
  {
   "cell_type": "code",
   "execution_count": 121,
   "id": "ff08a111",
   "metadata": {},
   "outputs": [
    {
     "data": {
      "text/html": [
       "<style>#sk-container-id-5 {color: black;background-color: white;}#sk-container-id-5 pre{padding: 0;}#sk-container-id-5 div.sk-toggleable {background-color: white;}#sk-container-id-5 label.sk-toggleable__label {cursor: pointer;display: block;width: 100%;margin-bottom: 0;padding: 0.3em;box-sizing: border-box;text-align: center;}#sk-container-id-5 label.sk-toggleable__label-arrow:before {content: \"▸\";float: left;margin-right: 0.25em;color: #696969;}#sk-container-id-5 label.sk-toggleable__label-arrow:hover:before {color: black;}#sk-container-id-5 div.sk-estimator:hover label.sk-toggleable__label-arrow:before {color: black;}#sk-container-id-5 div.sk-toggleable__content {max-height: 0;max-width: 0;overflow: hidden;text-align: left;background-color: #f0f8ff;}#sk-container-id-5 div.sk-toggleable__content pre {margin: 0.2em;color: black;border-radius: 0.25em;background-color: #f0f8ff;}#sk-container-id-5 input.sk-toggleable__control:checked~div.sk-toggleable__content {max-height: 200px;max-width: 100%;overflow: auto;}#sk-container-id-5 input.sk-toggleable__control:checked~label.sk-toggleable__label-arrow:before {content: \"▾\";}#sk-container-id-5 div.sk-estimator input.sk-toggleable__control:checked~label.sk-toggleable__label {background-color: #d4ebff;}#sk-container-id-5 div.sk-label input.sk-toggleable__control:checked~label.sk-toggleable__label {background-color: #d4ebff;}#sk-container-id-5 input.sk-hidden--visually {border: 0;clip: rect(1px 1px 1px 1px);clip: rect(1px, 1px, 1px, 1px);height: 1px;margin: -1px;overflow: hidden;padding: 0;position: absolute;width: 1px;}#sk-container-id-5 div.sk-estimator {font-family: monospace;background-color: #f0f8ff;border: 1px dotted black;border-radius: 0.25em;box-sizing: border-box;margin-bottom: 0.5em;}#sk-container-id-5 div.sk-estimator:hover {background-color: #d4ebff;}#sk-container-id-5 div.sk-parallel-item::after {content: \"\";width: 100%;border-bottom: 1px solid gray;flex-grow: 1;}#sk-container-id-5 div.sk-label:hover label.sk-toggleable__label {background-color: #d4ebff;}#sk-container-id-5 div.sk-serial::before {content: \"\";position: absolute;border-left: 1px solid gray;box-sizing: border-box;top: 0;bottom: 0;left: 50%;z-index: 0;}#sk-container-id-5 div.sk-serial {display: flex;flex-direction: column;align-items: center;background-color: white;padding-right: 0.2em;padding-left: 0.2em;position: relative;}#sk-container-id-5 div.sk-item {position: relative;z-index: 1;}#sk-container-id-5 div.sk-parallel {display: flex;align-items: stretch;justify-content: center;background-color: white;position: relative;}#sk-container-id-5 div.sk-item::before, #sk-container-id-5 div.sk-parallel-item::before {content: \"\";position: absolute;border-left: 1px solid gray;box-sizing: border-box;top: 0;bottom: 0;left: 50%;z-index: -1;}#sk-container-id-5 div.sk-parallel-item {display: flex;flex-direction: column;z-index: 1;position: relative;background-color: white;}#sk-container-id-5 div.sk-parallel-item:first-child::after {align-self: flex-end;width: 50%;}#sk-container-id-5 div.sk-parallel-item:last-child::after {align-self: flex-start;width: 50%;}#sk-container-id-5 div.sk-parallel-item:only-child::after {width: 0;}#sk-container-id-5 div.sk-dashed-wrapped {border: 1px dashed gray;margin: 0 0.4em 0.5em 0.4em;box-sizing: border-box;padding-bottom: 0.4em;background-color: white;}#sk-container-id-5 div.sk-label label {font-family: monospace;font-weight: bold;display: inline-block;line-height: 1.2em;}#sk-container-id-5 div.sk-label-container {text-align: center;}#sk-container-id-5 div.sk-container {/* jupyter's `normalize.less` sets `[hidden] { display: none; }` but bootstrap.min.css set `[hidden] { display: none !important; }` so we also need the `!important` here to be able to override the default hidden behavior on the sphinx rendered scikit-learn.org. See: https://github.com/scikit-learn/scikit-learn/issues/21755 */display: inline-block !important;position: relative;}#sk-container-id-5 div.sk-text-repr-fallback {display: none;}</style><div id=\"sk-container-id-5\" class=\"sk-top-container\"><div class=\"sk-text-repr-fallback\"><pre>StackingRegressor(estimators=[(&#x27;lr&#x27;, LinearRegression()),\n",
       "                              (&#x27;knn&#x27;, KNeighborsRegressor(n_neighbors=10)),\n",
       "                              (&#x27;rf&#x27;, RandomForestRegressor(random_state=1))],\n",
       "                  final_estimator=LinearRegression())</pre><b>In a Jupyter environment, please rerun this cell to show the HTML representation or trust the notebook. <br />On GitHub, the HTML representation is unable to render, please try loading this page with nbviewer.org.</b></div><div class=\"sk-container\" hidden><div class=\"sk-item sk-dashed-wrapped\"><div class=\"sk-label-container\"><div class=\"sk-label sk-toggleable\"><input class=\"sk-toggleable__control sk-hidden--visually\" id=\"sk-estimator-id-5\" type=\"checkbox\" ><label for=\"sk-estimator-id-5\" class=\"sk-toggleable__label sk-toggleable__label-arrow\">StackingRegressor</label><div class=\"sk-toggleable__content\"><pre>StackingRegressor(estimators=[(&#x27;lr&#x27;, LinearRegression()),\n",
       "                              (&#x27;knn&#x27;, KNeighborsRegressor(n_neighbors=10)),\n",
       "                              (&#x27;rf&#x27;, RandomForestRegressor(random_state=1))],\n",
       "                  final_estimator=LinearRegression())</pre></div></div></div><div class=\"sk-serial\"><div class=\"sk-item\"><div class=\"sk-parallel\"><div class=\"sk-parallel-item\"><div class=\"sk-item\"><div class=\"sk-label-container\"><div class=\"sk-label sk-toggleable\"><label>lr</label></div></div><div class=\"sk-serial\"><div class=\"sk-item\"><div class=\"sk-estimator sk-toggleable\"><input class=\"sk-toggleable__control sk-hidden--visually\" id=\"sk-estimator-id-6\" type=\"checkbox\" ><label for=\"sk-estimator-id-6\" class=\"sk-toggleable__label sk-toggleable__label-arrow\">LinearRegression</label><div class=\"sk-toggleable__content\"><pre>LinearRegression()</pre></div></div></div></div></div></div><div class=\"sk-parallel-item\"><div class=\"sk-item\"><div class=\"sk-label-container\"><div class=\"sk-label sk-toggleable\"><label>knn</label></div></div><div class=\"sk-serial\"><div class=\"sk-item\"><div class=\"sk-estimator sk-toggleable\"><input class=\"sk-toggleable__control sk-hidden--visually\" id=\"sk-estimator-id-7\" type=\"checkbox\" ><label for=\"sk-estimator-id-7\" class=\"sk-toggleable__label sk-toggleable__label-arrow\">KNeighborsRegressor</label><div class=\"sk-toggleable__content\"><pre>KNeighborsRegressor(n_neighbors=10)</pre></div></div></div></div></div></div><div class=\"sk-parallel-item\"><div class=\"sk-item\"><div class=\"sk-label-container\"><div class=\"sk-label sk-toggleable\"><label>rf</label></div></div><div class=\"sk-serial\"><div class=\"sk-item\"><div class=\"sk-estimator sk-toggleable\"><input class=\"sk-toggleable__control sk-hidden--visually\" id=\"sk-estimator-id-8\" type=\"checkbox\" ><label for=\"sk-estimator-id-8\" class=\"sk-toggleable__label sk-toggleable__label-arrow\">RandomForestRegressor</label><div class=\"sk-toggleable__content\"><pre>RandomForestRegressor(random_state=1)</pre></div></div></div></div></div></div></div></div><div class=\"sk-item\"><div class=\"sk-parallel\"><div class=\"sk-parallel-item\"><div class=\"sk-item\"><div class=\"sk-label-container\"><div class=\"sk-label sk-toggleable\"><label>final_estimator</label></div></div><div class=\"sk-serial\"><div class=\"sk-item\"><div class=\"sk-estimator sk-toggleable\"><input class=\"sk-toggleable__control sk-hidden--visually\" id=\"sk-estimator-id-9\" type=\"checkbox\" ><label for=\"sk-estimator-id-9\" class=\"sk-toggleable__label sk-toggleable__label-arrow\">LinearRegression</label><div class=\"sk-toggleable__content\"><pre>LinearRegression()</pre></div></div></div></div></div></div></div></div></div></div></div></div>"
      ],
      "text/plain": [
       "StackingRegressor(estimators=[('lr', LinearRegression()),\n",
       "                              ('knn', KNeighborsRegressor(n_neighbors=10)),\n",
       "                              ('rf', RandomForestRegressor(random_state=1))],\n",
       "                  final_estimator=LinearRegression())"
      ]
     },
     "execution_count": 121,
     "metadata": {},
     "output_type": "execute_result"
    }
   ],
   "source": [
    "estimators = [\n",
    "    ('lr', LinearRegression()),\n",
    "    (\"knn\",KNeighborsRegressor(10)),\n",
    "    ('rf',RandomForestRegressor(random_state=1))]\n",
    "\n",
    "stack_regressor = StackingRegressor(estimators=estimators,\n",
    "                                      final_estimator=LinearRegression())\n",
    "\n",
    "stack_regressor.fit(X_train_label, y_train)"
   ]
  },
  {
   "cell_type": "code",
   "execution_count": 122,
   "id": "9bc8bba2",
   "metadata": {},
   "outputs": [],
   "source": [
    "predictions = stack_regressor.predict(X_test_label)"
   ]
  },
  {
   "cell_type": "code",
   "execution_count": 123,
   "id": "3d14c7d8",
   "metadata": {},
   "outputs": [
    {
     "data": {
      "text/html": [
       "<div>\n",
       "<style scoped>\n",
       "    .dataframe tbody tr th:only-of-type {\n",
       "        vertical-align: middle;\n",
       "    }\n",
       "\n",
       "    .dataframe tbody tr th {\n",
       "        vertical-align: top;\n",
       "    }\n",
       "\n",
       "    .dataframe thead th {\n",
       "        text-align: right;\n",
       "    }\n",
       "</style>\n",
       "<table border=\"1\" class=\"dataframe\">\n",
       "  <thead>\n",
       "    <tr style=\"text-align: right;\">\n",
       "      <th></th>\n",
       "      <th>Actual</th>\n",
       "      <th>Predicted</th>\n",
       "    </tr>\n",
       "  </thead>\n",
       "  <tbody>\n",
       "    <tr>\n",
       "      <th>276</th>\n",
       "      <td>35590.0</td>\n",
       "      <td>35601.378870</td>\n",
       "    </tr>\n",
       "    <tr>\n",
       "      <th>375</th>\n",
       "      <td>301990.0</td>\n",
       "      <td>369465.561923</td>\n",
       "    </tr>\n",
       "    <tr>\n",
       "      <th>577</th>\n",
       "      <td>249990.0</td>\n",
       "      <td>282344.282718</td>\n",
       "    </tr>\n",
       "    <tr>\n",
       "      <th>474</th>\n",
       "      <td>79990.0</td>\n",
       "      <td>72125.755666</td>\n",
       "    </tr>\n",
       "    <tr>\n",
       "      <th>205</th>\n",
       "      <td>36990.0</td>\n",
       "      <td>39644.445370</td>\n",
       "    </tr>\n",
       "  </tbody>\n",
       "</table>\n",
       "</div>"
      ],
      "text/plain": [
       "       Actual      Predicted\n",
       "276   35590.0   35601.378870\n",
       "375  301990.0  369465.561923\n",
       "577  249990.0  282344.282718\n",
       "474   79990.0   72125.755666\n",
       "205   36990.0   39644.445370"
      ]
     },
     "execution_count": 123,
     "metadata": {},
     "output_type": "execute_result"
    }
   ],
   "source": [
    "temp_df = pd.DataFrame({'Actual': y_test, 'Predicted': predictions})\n",
    "\n",
    "temp_df.head()"
   ]
  },
  {
   "cell_type": "code",
   "execution_count": 124,
   "id": "d35fc763",
   "metadata": {},
   "outputs": [
    {
     "data": {
      "text/plain": [
       "<AxesSubplot:xlabel='MRP', ylabel='Count'>"
      ]
     },
     "execution_count": 124,
     "metadata": {},
     "output_type": "execute_result"
    },
    {
     "data": {
      "image/png": "[encoded data removed]",
      "text/plain": [
       "<Figure size 432x288 with 1 Axes>"
      ]
     },
     "metadata": {
      "needs_background": "light"
     },
     "output_type": "display_data"
    }
   ],
   "source": [
    "sns.histplot(y_test, color='blue', alpha=0.5)\n",
    "sns.histplot(predictions, color='red', alpha=0.5)"
   ]
  },
  {
   "cell_type": "code",
   "execution_count": 125,
   "id": "75a78658",
   "metadata": {},
   "outputs": [
    {
     "name": "stdout",
     "output_type": "stream",
     "text": [
      "Root Mean Squared Error:  24914.185721272464\n"
     ]
    }
   ],
   "source": [
    "print('Root Mean Squared Error: ', np.sqrt(metrics.mean_squared_error(y_test, predictions)))"
   ]
  },
  {
   "cell_type": "markdown",
   "id": "6ac44a13",
   "metadata": {},
   "source": [
    "### AdaBoost Regressor"
   ]
  },
  {
   "cell_type": "code",
   "execution_count": 126,
   "id": "75b574d6",
   "metadata": {},
   "outputs": [],
   "source": [
    "from sklearn.ensemble import AdaBoostRegressor\n",
    "from sklearn.ensemble import RandomForestRegressor"
   ]
  },
  {
   "cell_type": "code",
   "execution_count": 127,
   "id": "260aea8f",
   "metadata": {},
   "outputs": [
    {
     "data": {
      "text/html": [
       "<style>#sk-container-id-6 {color: black;background-color: white;}#sk-container-id-6 pre{padding: 0;}#sk-container-id-6 div.sk-toggleable {background-color: white;}#sk-container-id-6 label.sk-toggleable__label {cursor: pointer;display: block;width: 100%;margin-bottom: 0;padding: 0.3em;box-sizing: border-box;text-align: center;}#sk-container-id-6 label.sk-toggleable__label-arrow:before {content: \"▸\";float: left;margin-right: 0.25em;color: #696969;}#sk-container-id-6 label.sk-toggleable__label-arrow:hover:before {color: black;}#sk-container-id-6 div.sk-estimator:hover label.sk-toggleable__label-arrow:before {color: black;}#sk-container-id-6 div.sk-toggleable__content {max-height: 0;max-width: 0;overflow: hidden;text-align: left;background-color: #f0f8ff;}#sk-container-id-6 div.sk-toggleable__content pre {margin: 0.2em;color: black;border-radius: 0.25em;background-color: #f0f8ff;}#sk-container-id-6 input.sk-toggleable__control:checked~div.sk-toggleable__content {max-height: 200px;max-width: 100%;overflow: auto;}#sk-container-id-6 input.sk-toggleable__control:checked~label.sk-toggleable__label-arrow:before {content: \"▾\";}#sk-container-id-6 div.sk-estimator input.sk-toggleable__control:checked~label.sk-toggleable__label {background-color: #d4ebff;}#sk-container-id-6 div.sk-label input.sk-toggleable__control:checked~label.sk-toggleable__label {background-color: #d4ebff;}#sk-container-id-6 input.sk-hidden--visually {border: 0;clip: rect(1px 1px 1px 1px);clip: rect(1px, 1px, 1px, 1px);height: 1px;margin: -1px;overflow: hidden;padding: 0;position: absolute;width: 1px;}#sk-container-id-6 div.sk-estimator {font-family: monospace;background-color: #f0f8ff;border: 1px dotted black;border-radius: 0.25em;box-sizing: border-box;margin-bottom: 0.5em;}#sk-container-id-6 div.sk-estimator:hover {background-color: #d4ebff;}#sk-container-id-6 div.sk-parallel-item::after {content: \"\";width: 100%;border-bottom: 1px solid gray;flex-grow: 1;}#sk-container-id-6 div.sk-label:hover label.sk-toggleable__label {background-color: #d4ebff;}#sk-container-id-6 div.sk-serial::before {content: \"\";position: absolute;border-left: 1px solid gray;box-sizing: border-box;top: 0;bottom: 0;left: 50%;z-index: 0;}#sk-container-id-6 div.sk-serial {display: flex;flex-direction: column;align-items: center;background-color: white;padding-right: 0.2em;padding-left: 0.2em;position: relative;}#sk-container-id-6 div.sk-item {position: relative;z-index: 1;}#sk-container-id-6 div.sk-parallel {display: flex;align-items: stretch;justify-content: center;background-color: white;position: relative;}#sk-container-id-6 div.sk-item::before, #sk-container-id-6 div.sk-parallel-item::before {content: \"\";position: absolute;border-left: 1px solid gray;box-sizing: border-box;top: 0;bottom: 0;left: 50%;z-index: -1;}#sk-container-id-6 div.sk-parallel-item {display: flex;flex-direction: column;z-index: 1;position: relative;background-color: white;}#sk-container-id-6 div.sk-parallel-item:first-child::after {align-self: flex-end;width: 50%;}#sk-container-id-6 div.sk-parallel-item:last-child::after {align-self: flex-start;width: 50%;}#sk-container-id-6 div.sk-parallel-item:only-child::after {width: 0;}#sk-container-id-6 div.sk-dashed-wrapped {border: 1px dashed gray;margin: 0 0.4em 0.5em 0.4em;box-sizing: border-box;padding-bottom: 0.4em;background-color: white;}#sk-container-id-6 div.sk-label label {font-family: monospace;font-weight: bold;display: inline-block;line-height: 1.2em;}#sk-container-id-6 div.sk-label-container {text-align: center;}#sk-container-id-6 div.sk-container {/* jupyter's `normalize.less` sets `[hidden] { display: none; }` but bootstrap.min.css set `[hidden] { display: none !important; }` so we also need the `!important` here to be able to override the default hidden behavior on the sphinx rendered scikit-learn.org. See: https://github.com/scikit-learn/scikit-learn/issues/21755 */display: inline-block !important;position: relative;}#sk-container-id-6 div.sk-text-repr-fallback {display: none;}</style><div id=\"sk-container-id-6\" class=\"sk-top-container\"><div class=\"sk-text-repr-fallback\"><pre>AdaBoostRegressor()</pre><b>In a Jupyter environment, please rerun this cell to show the HTML representation or trust the notebook. <br />On GitHub, the HTML representation is unable to render, please try loading this page with nbviewer.org.</b></div><div class=\"sk-container\" hidden><div class=\"sk-item\"><div class=\"sk-estimator sk-toggleable\"><input class=\"sk-toggleable__control sk-hidden--visually\" id=\"sk-estimator-id-10\" type=\"checkbox\" checked><label for=\"sk-estimator-id-10\" class=\"sk-toggleable__label sk-toggleable__label-arrow\">AdaBoostRegressor</label><div class=\"sk-toggleable__content\"><pre>AdaBoostRegressor()</pre></div></div></div></div></div>"
      ],
      "text/plain": [
       "AdaBoostRegressor()"
      ]
     },
     "execution_count": 127,
     "metadata": {},
     "output_type": "execute_result"
    }
   ],
   "source": [
    "adaboost_Regressor = AdaBoostRegressor()\n",
    "\n",
    "adaboost_Regressor.fit(X_train_label, y_train)"
   ]
  },
  {
   "cell_type": "code",
   "execution_count": 128,
   "id": "59858962",
   "metadata": {},
   "outputs": [],
   "source": [
    "predictions = adaboost_Regressor.predict(X_test_label)"
   ]
  },
  {
   "cell_type": "code",
   "execution_count": 129,
   "id": "0f1f78e4",
   "metadata": {},
   "outputs": [
    {
     "data": {
      "text/html": [
       "<div>\n",
       "<style scoped>\n",
       "    .dataframe tbody tr th:only-of-type {\n",
       "        vertical-align: middle;\n",
       "    }\n",
       "\n",
       "    .dataframe tbody tr th {\n",
       "        vertical-align: top;\n",
       "    }\n",
       "\n",
       "    .dataframe thead th {\n",
       "        text-align: right;\n",
       "    }\n",
       "</style>\n",
       "<table border=\"1\" class=\"dataframe\">\n",
       "  <thead>\n",
       "    <tr style=\"text-align: right;\">\n",
       "      <th></th>\n",
       "      <th>Actual</th>\n",
       "      <th>Predicted</th>\n",
       "    </tr>\n",
       "  </thead>\n",
       "  <tbody>\n",
       "    <tr>\n",
       "      <th>276</th>\n",
       "      <td>35590.0</td>\n",
       "      <td>46868.243119</td>\n",
       "    </tr>\n",
       "    <tr>\n",
       "      <th>375</th>\n",
       "      <td>301990.0</td>\n",
       "      <td>412410.000000</td>\n",
       "    </tr>\n",
       "    <tr>\n",
       "      <th>577</th>\n",
       "      <td>249990.0</td>\n",
       "      <td>254990.000000</td>\n",
       "    </tr>\n",
       "    <tr>\n",
       "      <th>474</th>\n",
       "      <td>79990.0</td>\n",
       "      <td>84013.128571</td>\n",
       "    </tr>\n",
       "    <tr>\n",
       "      <th>205</th>\n",
       "      <td>36990.0</td>\n",
       "      <td>46868.243119</td>\n",
       "    </tr>\n",
       "  </tbody>\n",
       "</table>\n",
       "</div>"
      ],
      "text/plain": [
       "       Actual      Predicted\n",
       "276   35590.0   46868.243119\n",
       "375  301990.0  412410.000000\n",
       "577  249990.0  254990.000000\n",
       "474   79990.0   84013.128571\n",
       "205   36990.0   46868.243119"
      ]
     },
     "execution_count": 129,
     "metadata": {},
     "output_type": "execute_result"
    }
   ],
   "source": [
    "temp_df = pd.DataFrame({'Actual': y_test, 'Predicted': predictions})\n",
    "\n",
    "temp_df.head()"
   ]
  },
  {
   "cell_type": "code",
   "execution_count": 130,
   "id": "5e4b78df",
   "metadata": {},
   "outputs": [
    {
     "data": {
      "text/plain": [
       "<AxesSubplot:xlabel='MRP', ylabel='Count'>"
      ]
     },
     "execution_count": 130,
     "metadata": {},
     "output_type": "execute_result"
    },
    {
     "data": {
      "image/png": "[encoded data removed]",
      "text/plain": [
       "<Figure size 432x288 with 1 Axes>"
      ]
     },
     "metadata": {
      "needs_background": "light"
     },
     "output_type": "display_data"
    }
   ],
   "source": [
    "sns.histplot(y_test, color='blue', alpha=0.5)\n",
    "sns.histplot(predictions, color='red', alpha=0.5)"
   ]
  },
  {
   "cell_type": "code",
   "execution_count": 131,
   "id": "13bceba8",
   "metadata": {},
   "outputs": [
    {
     "name": "stdout",
     "output_type": "stream",
     "text": [
      "Root Mean Squared Error:  31361.828313585644\n"
     ]
    }
   ],
   "source": [
    "print('Root Mean Squared Error: ', np.sqrt(metrics.mean_squared_error(y_test, predictions)))"
   ]
  },
  {
   "cell_type": "markdown",
   "id": "9d142ab7",
   "metadata": {},
   "source": [
    "### GBDT Regressor"
   ]
  },
  {
   "cell_type": "code",
   "execution_count": 132,
   "id": "0a258e5a",
   "metadata": {},
   "outputs": [
    {
     "data": {
      "text/html": [
       "<style>#sk-container-id-7 {color: black;background-color: white;}#sk-container-id-7 pre{padding: 0;}#sk-container-id-7 div.sk-toggleable {background-color: white;}#sk-container-id-7 label.sk-toggleable__label {cursor: pointer;display: block;width: 100%;margin-bottom: 0;padding: 0.3em;box-sizing: border-box;text-align: center;}#sk-container-id-7 label.sk-toggleable__label-arrow:before {content: \"▸\";float: left;margin-right: 0.25em;color: #696969;}#sk-container-id-7 label.sk-toggleable__label-arrow:hover:before {color: black;}#sk-container-id-7 div.sk-estimator:hover label.sk-toggleable__label-arrow:before {color: black;}#sk-container-id-7 div.sk-toggleable__content {max-height: 0;max-width: 0;overflow: hidden;text-align: left;background-color: #f0f8ff;}#sk-container-id-7 div.sk-toggleable__content pre {margin: 0.2em;color: black;border-radius: 0.25em;background-color: #f0f8ff;}#sk-container-id-7 input.sk-toggleable__control:checked~div.sk-toggleable__content {max-height: 200px;max-width: 100%;overflow: auto;}#sk-container-id-7 input.sk-toggleable__control:checked~label.sk-toggleable__label-arrow:before {content: \"▾\";}#sk-container-id-7 div.sk-estimator input.sk-toggleable__control:checked~label.sk-toggleable__label {background-color: #d4ebff;}#sk-container-id-7 div.sk-label input.sk-toggleable__control:checked~label.sk-toggleable__label {background-color: #d4ebff;}#sk-container-id-7 input.sk-hidden--visually {border: 0;clip: rect(1px 1px 1px 1px);clip: rect(1px, 1px, 1px, 1px);height: 1px;margin: -1px;overflow: hidden;padding: 0;position: absolute;width: 1px;}#sk-container-id-7 div.sk-estimator {font-family: monospace;background-color: #f0f8ff;border: 1px dotted black;border-radius: 0.25em;box-sizing: border-box;margin-bottom: 0.5em;}#sk-container-id-7 div.sk-estimator:hover {background-color: #d4ebff;}#sk-container-id-7 div.sk-parallel-item::after {content: \"\";width: 100%;border-bottom: 1px solid gray;flex-grow: 1;}#sk-container-id-7 div.sk-label:hover label.sk-toggleable__label {background-color: #d4ebff;}#sk-container-id-7 div.sk-serial::before {content: \"\";position: absolute;border-left: 1px solid gray;box-sizing: border-box;top: 0;bottom: 0;left: 50%;z-index: 0;}#sk-container-id-7 div.sk-serial {display: flex;flex-direction: column;align-items: center;background-color: white;padding-right: 0.2em;padding-left: 0.2em;position: relative;}#sk-container-id-7 div.sk-item {position: relative;z-index: 1;}#sk-container-id-7 div.sk-parallel {display: flex;align-items: stretch;justify-content: center;background-color: white;position: relative;}#sk-container-id-7 div.sk-item::before, #sk-container-id-7 div.sk-parallel-item::before {content: \"\";position: absolute;border-left: 1px solid gray;box-sizing: border-box;top: 0;bottom: 0;left: 50%;z-index: -1;}#sk-container-id-7 div.sk-parallel-item {display: flex;flex-direction: column;z-index: 1;position: relative;background-color: white;}#sk-container-id-7 div.sk-parallel-item:first-child::after {align-self: flex-end;width: 50%;}#sk-container-id-7 div.sk-parallel-item:last-child::after {align-self: flex-start;width: 50%;}#sk-container-id-7 div.sk-parallel-item:only-child::after {width: 0;}#sk-container-id-7 div.sk-dashed-wrapped {border: 1px dashed gray;margin: 0 0.4em 0.5em 0.4em;box-sizing: border-box;padding-bottom: 0.4em;background-color: white;}#sk-container-id-7 div.sk-label label {font-family: monospace;font-weight: bold;display: inline-block;line-height: 1.2em;}#sk-container-id-7 div.sk-label-container {text-align: center;}#sk-container-id-7 div.sk-container {/* jupyter's `normalize.less` sets `[hidden] { display: none; }` but bootstrap.min.css set `[hidden] { display: none !important; }` so we also need the `!important` here to be able to override the default hidden behavior on the sphinx rendered scikit-learn.org. See: https://github.com/scikit-learn/scikit-learn/issues/21755 */display: inline-block !important;position: relative;}#sk-container-id-7 div.sk-text-repr-fallback {display: none;}</style><div id=\"sk-container-id-7\" class=\"sk-top-container\"><div class=\"sk-text-repr-fallback\"><pre>GradientBoostingRegressor()</pre><b>In a Jupyter environment, please rerun this cell to show the HTML representation or trust the notebook. <br />On GitHub, the HTML representation is unable to render, please try loading this page with nbviewer.org.</b></div><div class=\"sk-container\" hidden><div class=\"sk-item\"><div class=\"sk-estimator sk-toggleable\"><input class=\"sk-toggleable__control sk-hidden--visually\" id=\"sk-estimator-id-11\" type=\"checkbox\" checked><label for=\"sk-estimator-id-11\" class=\"sk-toggleable__label sk-toggleable__label-arrow\">GradientBoostingRegressor</label><div class=\"sk-toggleable__content\"><pre>GradientBoostingRegressor()</pre></div></div></div></div></div>"
      ],
      "text/plain": [
       "GradientBoostingRegressor()"
      ]
     },
     "execution_count": 132,
     "metadata": {},
     "output_type": "execute_result"
    }
   ],
   "source": [
    "from sklearn.ensemble import GradientBoostingRegressor\n",
    "model_gbdt = GradientBoostingRegressor()\n",
    "\n",
    "model_gbdt.fit(X_train_label, y_train)"
   ]
  },
  {
   "cell_type": "code",
   "execution_count": 133,
   "id": "900e633b",
   "metadata": {},
   "outputs": [],
   "source": [
    "predictions = model_gbdt.predict(X_test_label)"
   ]
  },
  {
   "cell_type": "code",
   "execution_count": 134,
   "id": "fd34924b",
   "metadata": {},
   "outputs": [
    {
     "data": {
      "text/html": [
       "<div>\n",
       "<style scoped>\n",
       "    .dataframe tbody tr th:only-of-type {\n",
       "        vertical-align: middle;\n",
       "    }\n",
       "\n",
       "    .dataframe tbody tr th {\n",
       "        vertical-align: top;\n",
       "    }\n",
       "\n",
       "    .dataframe thead th {\n",
       "        text-align: right;\n",
       "    }\n",
       "</style>\n",
       "<table border=\"1\" class=\"dataframe\">\n",
       "  <thead>\n",
       "    <tr style=\"text-align: right;\">\n",
       "      <th></th>\n",
       "      <th>Actual</th>\n",
       "      <th>Predicted</th>\n",
       "    </tr>\n",
       "  </thead>\n",
       "  <tbody>\n",
       "    <tr>\n",
       "      <th>276</th>\n",
       "      <td>35590.0</td>\n",
       "      <td>37996.797932</td>\n",
       "    </tr>\n",
       "    <tr>\n",
       "      <th>375</th>\n",
       "      <td>301990.0</td>\n",
       "      <td>390136.428029</td>\n",
       "    </tr>\n",
       "    <tr>\n",
       "      <th>577</th>\n",
       "      <td>249990.0</td>\n",
       "      <td>280169.729499</td>\n",
       "    </tr>\n",
       "    <tr>\n",
       "      <th>474</th>\n",
       "      <td>79990.0</td>\n",
       "      <td>73116.715476</td>\n",
       "    </tr>\n",
       "    <tr>\n",
       "      <th>205</th>\n",
       "      <td>36990.0</td>\n",
       "      <td>41831.145818</td>\n",
       "    </tr>\n",
       "  </tbody>\n",
       "</table>\n",
       "</div>"
      ],
      "text/plain": [
       "       Actual      Predicted\n",
       "276   35590.0   37996.797932\n",
       "375  301990.0  390136.428029\n",
       "577  249990.0  280169.729499\n",
       "474   79990.0   73116.715476\n",
       "205   36990.0   41831.145818"
      ]
     },
     "execution_count": 134,
     "metadata": {},
     "output_type": "execute_result"
    }
   ],
   "source": [
    "temp_df = pd.DataFrame({'Actual': y_test, 'Predicted': predictions})\n",
    "\n",
    "temp_df.head()"
   ]
  },
  {
   "cell_type": "code",
   "execution_count": 135,
   "id": "93279322",
   "metadata": {},
   "outputs": [
    {
     "data": {
      "text/plain": [
       "<AxesSubplot:xlabel='MRP', ylabel='Count'>"
      ]
     },
     "execution_count": 135,
     "metadata": {},
     "output_type": "execute_result"
    },
    {
     "data": {
      "image/png": "[encoded data removed]",
      "text/plain": [
       "<Figure size 432x288 with 1 Axes>"
      ]
     },
     "metadata": {
      "needs_background": "light"
     },
     "output_type": "display_data"
    }
   ],
   "source": [
    "sns.histplot(y_test, color='blue', alpha=0.5)\n",
    "sns.histplot(predictions, color='red', alpha=0.5)"
   ]
  },
  {
   "cell_type": "code",
   "execution_count": 136,
   "id": "5cc2e7c3",
   "metadata": {},
   "outputs": [
    {
     "name": "stdout",
     "output_type": "stream",
     "text": [
      "Root Mean Squared Error:  24167.989726824\n"
     ]
    }
   ],
   "source": [
    "print('Root Mean Squared Error: ', np.sqrt(metrics.mean_squared_error(y_test, predictions)))"
   ]
  },
  {
   "cell_type": "markdown",
   "id": "bd243ed1",
   "metadata": {},
   "source": [
    "### XGBoost Regressor"
   ]
  },
  {
   "cell_type": "code",
   "execution_count": 137,
   "id": "0d12f41b",
   "metadata": {},
   "outputs": [
    {
     "data": {
      "text/html": [
       "<style>#sk-container-id-8 {color: black;background-color: white;}#sk-container-id-8 pre{padding: 0;}#sk-container-id-8 div.sk-toggleable {background-color: white;}#sk-container-id-8 label.sk-toggleable__label {cursor: pointer;display: block;width: 100%;margin-bottom: 0;padding: 0.3em;box-sizing: border-box;text-align: center;}#sk-container-id-8 label.sk-toggleable__label-arrow:before {content: \"▸\";float: left;margin-right: 0.25em;color: #696969;}#sk-container-id-8 label.sk-toggleable__label-arrow:hover:before {color: black;}#sk-container-id-8 div.sk-estimator:hover label.sk-toggleable__label-arrow:before {color: black;}#sk-container-id-8 div.sk-toggleable__content {max-height: 0;max-width: 0;overflow: hidden;text-align: left;background-color: #f0f8ff;}#sk-container-id-8 div.sk-toggleable__content pre {margin: 0.2em;color: black;border-radius: 0.25em;background-color: #f0f8ff;}#sk-container-id-8 input.sk-toggleable__control:checked~div.sk-toggleable__content {max-height: 200px;max-width: 100%;overflow: auto;}#sk-container-id-8 input.sk-toggleable__control:checked~label.sk-toggleable__label-arrow:before {content: \"▾\";}#sk-container-id-8 div.sk-estimator input.sk-toggleable__control:checked~label.sk-toggleable__label {background-color: #d4ebff;}#sk-container-id-8 div.sk-label input.sk-toggleable__control:checked~label.sk-toggleable__label {background-color: #d4ebff;}#sk-container-id-8 input.sk-hidden--visually {border: 0;clip: rect(1px 1px 1px 1px);clip: rect(1px, 1px, 1px, 1px);height: 1px;margin: -1px;overflow: hidden;padding: 0;position: absolute;width: 1px;}#sk-container-id-8 div.sk-estimator {font-family: monospace;background-color: #f0f8ff;border: 1px dotted black;border-radius: 0.25em;box-sizing: border-box;margin-bottom: 0.5em;}#sk-container-id-8 div.sk-estimator:hover {background-color: #d4ebff;}#sk-container-id-8 div.sk-parallel-item::after {content: \"\";width: 100%;border-bottom: 1px solid gray;flex-grow: 1;}#sk-container-id-8 div.sk-label:hover label.sk-toggleable__label {background-color: #d4ebff;}#sk-container-id-8 div.sk-serial::before {content: \"\";position: absolute;border-left: 1px solid gray;box-sizing: border-box;top: 0;bottom: 0;left: 50%;z-index: 0;}#sk-container-id-8 div.sk-serial {display: flex;flex-direction: column;align-items: center;background-color: white;padding-right: 0.2em;padding-left: 0.2em;position: relative;}#sk-container-id-8 div.sk-item {position: relative;z-index: 1;}#sk-container-id-8 div.sk-parallel {display: flex;align-items: stretch;justify-content: center;background-color: white;position: relative;}#sk-container-id-8 div.sk-item::before, #sk-container-id-8 div.sk-parallel-item::before {content: \"\";position: absolute;border-left: 1px solid gray;box-sizing: border-box;top: 0;bottom: 0;left: 50%;z-index: -1;}#sk-container-id-8 div.sk-parallel-item {display: flex;flex-direction: column;z-index: 1;position: relative;background-color: white;}#sk-container-id-8 div.sk-parallel-item:first-child::after {align-self: flex-end;width: 50%;}#sk-container-id-8 div.sk-parallel-item:last-child::after {align-self: flex-start;width: 50%;}#sk-container-id-8 div.sk-parallel-item:only-child::after {width: 0;}#sk-container-id-8 div.sk-dashed-wrapped {border: 1px dashed gray;margin: 0 0.4em 0.5em 0.4em;box-sizing: border-box;padding-bottom: 0.4em;background-color: white;}#sk-container-id-8 div.sk-label label {font-family: monospace;font-weight: bold;display: inline-block;line-height: 1.2em;}#sk-container-id-8 div.sk-label-container {text-align: center;}#sk-container-id-8 div.sk-container {/* jupyter's `normalize.less` sets `[hidden] { display: none; }` but bootstrap.min.css set `[hidden] { display: none !important; }` so we also need the `!important` here to be able to override the default hidden behavior on the sphinx rendered scikit-learn.org. See: https://github.com/scikit-learn/scikit-learn/issues/21755 */display: inline-block !important;position: relative;}#sk-container-id-8 div.sk-text-repr-fallback {display: none;}</style><div id=\"sk-container-id-8\" class=\"sk-top-container\"><div class=\"sk-text-repr-fallback\"><pre>XGBRegressor(base_score=0.5, booster=&#x27;gbtree&#x27;, callbacks=None,\n",
       "             colsample_bylevel=1, colsample_bynode=1, colsample_bytree=1,\n",
       "             early_stopping_rounds=None, enable_categorical=False,\n",
       "             eval_metric=None, feature_types=None, gamma=0, gpu_id=-1,\n",
       "             grow_policy=&#x27;depthwise&#x27;, importance_type=None,\n",
       "             interaction_constraints=&#x27;&#x27;, learning_rate=0.300000012, max_bin=256,\n",
       "             max_cat_threshold=64, max_cat_to_onehot=4, max_delta_step=0,\n",
       "             max_depth=6, max_leaves=0, min_child_weight=1, missing=nan,\n",
       "             monotone_constraints=&#x27;()&#x27;, n_estimators=100, n_jobs=0,\n",
       "             num_parallel_tree=1, predictor=&#x27;auto&#x27;, random_state=0, ...)</pre><b>In a Jupyter environment, please rerun this cell to show the HTML representation or trust the notebook. <br />On GitHub, the HTML representation is unable to render, please try loading this page with nbviewer.org.</b></div><div class=\"sk-container\" hidden><div class=\"sk-item\"><div class=\"sk-estimator sk-toggleable\"><input class=\"sk-toggleable__control sk-hidden--visually\" id=\"sk-estimator-id-12\" type=\"checkbox\" checked><label for=\"sk-estimator-id-12\" class=\"sk-toggleable__label sk-toggleable__label-arrow\">XGBRegressor</label><div class=\"sk-toggleable__content\"><pre>XGBRegressor(base_score=0.5, booster=&#x27;gbtree&#x27;, callbacks=None,\n",
       "             colsample_bylevel=1, colsample_bynode=1, colsample_bytree=1,\n",
       "             early_stopping_rounds=None, enable_categorical=False,\n",
       "             eval_metric=None, feature_types=None, gamma=0, gpu_id=-1,\n",
       "             grow_policy=&#x27;depthwise&#x27;, importance_type=None,\n",
       "             interaction_constraints=&#x27;&#x27;, learning_rate=0.300000012, max_bin=256,\n",
       "             max_cat_threshold=64, max_cat_to_onehot=4, max_delta_step=0,\n",
       "             max_depth=6, max_leaves=0, min_child_weight=1, missing=nan,\n",
       "             monotone_constraints=&#x27;()&#x27;, n_estimators=100, n_jobs=0,\n",
       "             num_parallel_tree=1, predictor=&#x27;auto&#x27;, random_state=0, ...)</pre></div></div></div></div></div>"
      ],
      "text/plain": [
       "XGBRegressor(base_score=0.5, booster='gbtree', callbacks=None,\n",
       "             colsample_bylevel=1, colsample_bynode=1, colsample_bytree=1,\n",
       "             early_stopping_rounds=None, enable_categorical=False,\n",
       "             eval_metric=None, feature_types=None, gamma=0, gpu_id=-1,\n",
       "             grow_policy='depthwise', importance_type=None,\n",
       "             interaction_constraints='', learning_rate=0.300000012, max_bin=256,\n",
       "             max_cat_threshold=64, max_cat_to_onehot=4, max_delta_step=0,\n",
       "             max_depth=6, max_leaves=0, min_child_weight=1, missing=nan,\n",
       "             monotone_constraints='()', n_estimators=100, n_jobs=0,\n",
       "             num_parallel_tree=1, predictor='auto', random_state=0, ...)"
      ]
     },
     "execution_count": 137,
     "metadata": {},
     "output_type": "execute_result"
    }
   ],
   "source": [
    "import xgboost as xgb\n",
    "from xgboost import XGBRegressor\n",
    "\n",
    "model_xgb = XGBRegressor()\n",
    "\n",
    "model_xgb.fit(X_train_label, y_train)"
   ]
  },
  {
   "cell_type": "code",
   "execution_count": 138,
   "id": "343515bd",
   "metadata": {},
   "outputs": [],
   "source": [
    "predictions = model_xgb.predict(X_test_label)"
   ]
  },
  {
   "cell_type": "code",
   "execution_count": 139,
   "id": "d1e77936",
   "metadata": {},
   "outputs": [
    {
     "data": {
      "text/html": [
       "<div>\n",
       "<style scoped>\n",
       "    .dataframe tbody tr th:only-of-type {\n",
       "        vertical-align: middle;\n",
       "    }\n",
       "\n",
       "    .dataframe tbody tr th {\n",
       "        vertical-align: top;\n",
       "    }\n",
       "\n",
       "    .dataframe thead th {\n",
       "        text-align: right;\n",
       "    }\n",
       "</style>\n",
       "<table border=\"1\" class=\"dataframe\">\n",
       "  <thead>\n",
       "    <tr style=\"text-align: right;\">\n",
       "      <th></th>\n",
       "      <th>Actual</th>\n",
       "      <th>Predicted</th>\n",
       "    </tr>\n",
       "  </thead>\n",
       "  <tbody>\n",
       "    <tr>\n",
       "      <th>276</th>\n",
       "      <td>35590.0</td>\n",
       "      <td>36335.214844</td>\n",
       "    </tr>\n",
       "    <tr>\n",
       "      <th>375</th>\n",
       "      <td>301990.0</td>\n",
       "      <td>380850.750000</td>\n",
       "    </tr>\n",
       "    <tr>\n",
       "      <th>577</th>\n",
       "      <td>249990.0</td>\n",
       "      <td>292861.875000</td>\n",
       "    </tr>\n",
       "    <tr>\n",
       "      <th>474</th>\n",
       "      <td>79990.0</td>\n",
       "      <td>72026.656250</td>\n",
       "    </tr>\n",
       "    <tr>\n",
       "      <th>205</th>\n",
       "      <td>36990.0</td>\n",
       "      <td>40159.421875</td>\n",
       "    </tr>\n",
       "  </tbody>\n",
       "</table>\n",
       "</div>"
      ],
      "text/plain": [
       "       Actual      Predicted\n",
       "276   35590.0   36335.214844\n",
       "375  301990.0  380850.750000\n",
       "577  249990.0  292861.875000\n",
       "474   79990.0   72026.656250\n",
       "205   36990.0   40159.421875"
      ]
     },
     "execution_count": 139,
     "metadata": {},
     "output_type": "execute_result"
    }
   ],
   "source": [
    "temp_df = pd.DataFrame({'Actual': y_test, 'Predicted': predictions})\n",
    "\n",
    "temp_df.head()"
   ]
  },
  {
   "cell_type": "code",
   "execution_count": 140,
   "id": "fa797463",
   "metadata": {},
   "outputs": [
    {
     "data": {
      "text/plain": [
       "<AxesSubplot:xlabel='MRP', ylabel='Count'>"
      ]
     },
     "execution_count": 140,
     "metadata": {},
     "output_type": "execute_result"
    },
    {
     "data": {
      "image/png": "[encoded data removed]",
      "text/plain": [
       "<Figure size 432x288 with 1 Axes>"
      ]
     },
     "metadata": {
      "needs_background": "light"
     },
     "output_type": "display_data"
    }
   ],
   "source": [
    "sns.histplot(y_test, color='blue', alpha=0.5)\n",
    "sns.histplot(predictions, color='red', alpha=0.5)"
   ]
  },
  {
   "cell_type": "code",
   "execution_count": 141,
   "id": "6f6858a9",
   "metadata": {},
   "outputs": [
    {
     "name": "stdout",
     "output_type": "stream",
     "text": [
      "Root Mean Squared Error:  26575.651709153015\n"
     ]
    }
   ],
   "source": [
    "print('Root Mean Squared Error: ', np.sqrt(metrics.mean_squared_error(y_test, predictions)))"
   ]
  },
  {
   "cell_type": "markdown",
   "id": "34078443",
   "metadata": {},
   "source": [
    "### Summary"
   ]
  },
  {
   "cell_type": "code",
   "execution_count": 142,
   "id": "d6730c83",
   "metadata": {},
   "outputs": [
    {
     "data": {
      "text/html": [
       "<div>\n",
       "<style scoped>\n",
       "    .dataframe tbody tr th:only-of-type {\n",
       "        vertical-align: middle;\n",
       "    }\n",
       "\n",
       "    .dataframe tbody tr th {\n",
       "        vertical-align: top;\n",
       "    }\n",
       "\n",
       "    .dataframe thead th {\n",
       "        text-align: right;\n",
       "    }\n",
       "</style>\n",
       "<table border=\"1\" class=\"dataframe\">\n",
       "  <thead>\n",
       "    <tr style=\"text-align: right;\">\n",
       "      <th></th>\n",
       "      <th>Algorithm</th>\n",
       "      <th>RMSE</th>\n",
       "    </tr>\n",
       "  </thead>\n",
       "  <tbody>\n",
       "    <tr>\n",
       "      <th>5</th>\n",
       "      <td>Voting</td>\n",
       "      <td>20140.84</td>\n",
       "    </tr>\n",
       "    <tr>\n",
       "      <th>4</th>\n",
       "      <td>Random Forest</td>\n",
       "      <td>23266.18</td>\n",
       "    </tr>\n",
       "    <tr>\n",
       "      <th>8</th>\n",
       "      <td>GBDT</td>\n",
       "      <td>24262.68</td>\n",
       "    </tr>\n",
       "    <tr>\n",
       "      <th>6</th>\n",
       "      <td>Stacking</td>\n",
       "      <td>24914.18</td>\n",
       "    </tr>\n",
       "    <tr>\n",
       "      <th>9</th>\n",
       "      <td>XGBoost</td>\n",
       "      <td>26575.65</td>\n",
       "    </tr>\n",
       "    <tr>\n",
       "      <th>2</th>\n",
       "      <td>KNN</td>\n",
       "      <td>30025.66</td>\n",
       "    </tr>\n",
       "    <tr>\n",
       "      <th>1</th>\n",
       "      <td>Linear Regression</td>\n",
       "      <td>31372.05</td>\n",
       "    </tr>\n",
       "    <tr>\n",
       "      <th>7</th>\n",
       "      <td>AdaBoost</td>\n",
       "      <td>31967.53</td>\n",
       "    </tr>\n",
       "    <tr>\n",
       "      <th>3</th>\n",
       "      <td>Decision Tree</td>\n",
       "      <td>32008.61</td>\n",
       "    </tr>\n",
       "  </tbody>\n",
       "</table>\n",
       "</div>"
      ],
      "text/plain": [
       "           Algorithm      RMSE\n",
       "5             Voting  20140.84\n",
       "4      Random Forest  23266.18\n",
       "8               GBDT  24262.68\n",
       "6           Stacking  24914.18\n",
       "9            XGBoost  26575.65\n",
       "2                KNN  30025.66\n",
       "1  Linear Regression  31372.05\n",
       "7           AdaBoost  31967.53\n",
       "3      Decision Tree  32008.61"
      ]
     },
     "execution_count": 142,
     "metadata": {},
     "output_type": "execute_result"
    }
   ],
   "source": [
    "dataframe = {'Algorithm' : ['Linear Regression','KNN','Decision Tree',\n",
    "                            'Random Forest','Voting','Stacking','AdaBoost','GBDT','XGBoost'],\n",
    "            'RMSE' : [31372.05,30025.66,32008.61,23266.18,20140.84,24914.18,31967.53,24262.68,26575.65]}\n",
    "\n",
    "summary = pd.DataFrame(dataframe,index=[1,2,3,4,5,6,7,8,9])\n",
    "summary.sort_values(by=['RMSE'])"
   ]
  },
  {
   "cell_type": "markdown",
   "id": "40c10dfb",
   "metadata": {},
   "source": [
    "### Price Prediction"
   ]
  },
  {
   "cell_type": "code",
   "execution_count": 143,
   "id": "8eeeecb6",
   "metadata": {},
   "outputs": [],
   "source": [
    "import pickle\n",
    "#pickle.dump(ereg,open('voting.pkl','wb'))\n",
    "voting=pickle.load(open('voting.pkl','rb'))"
   ]
  },
  {
   "cell_type": "code",
   "execution_count": 144,
   "id": "d7642b72",
   "metadata": {},
   "outputs": [],
   "source": [
    "import gradio as gr"
   ]
  },
  {
   "cell_type": "code",
   "execution_count": 145,
   "id": "bf8011c2",
   "metadata": {},
   "outputs": [],
   "source": [
    "def predict(Processor,RAM,OS,Storage):\n",
    "    \n",
    "    data=pd.DataFrame([[Processor,RAM,OS,Storage]],columns=['processor','ram','os','storage'])\n",
    "    data_=pd.DataFrame(index=data.index)\n",
    "    \n",
    "    global processor_encoder\n",
    "    global ram_encoder\n",
    "    global os_encoder\n",
    "    global storage_encoder\n",
    "    \n",
    "    data_['processor']=data['processor'].apply(lambda x : processor_encoder[x])\n",
    "    data_['ram']=data['ram'].apply(lambda x : ram_encoder[x])\n",
    "    data_['os']=data['os'].apply(lambda x : os_encoder[x])\n",
    "    data_['storage']=data['storage'].apply(lambda x : storage_encoder[x])\n",
    "    \n",
    "    \n",
    "    Price=voting.predict(data_)\n",
    "    return Price    "
   ]
  },
  {
   "cell_type": "code",
   "execution_count": 146,
   "id": "9f943954",
   "metadata": {},
   "outputs": [],
   "source": [
    "pred=gr.Interface(fn=predict,inputs=[gr.Dropdown(['Intel Core i3 Processor',\n",
    " 'AMD Ryzen 5 Hexa Core Processor',\n",
    " 'AMD Ryzen 7 Quad Core Processor',\n",
    " 'AMD Ryzen 5 Quad Core Processor',\n",
    " 'Intel Core i5 Processor',\n",
    " 'AMD Ryzen 3 Dual Core Processor',\n",
    " 'AMD Ryzen 7 Octa Core Processor',\n",
    " 'AMD Ryzen 9 Octa Core Processor',\n",
    " 'AMD Athlon Dual Core Processor',\n",
    " 'AMD Ryzen 3 Quad Core Processor',\n",
    " 'Intel Celeron Dual Core Processor',\n",
    " 'Intel Celeron Quad Core Processor',\n",
    " 'Intel Core i7 Processor',\n",
    " 'Intel Core i9 Processor',\n",
    " 'Intel Pentium Silver Processor',\n",
    " 'Intel Pentium Quad Core Processor',\n",
    " 'AMD Dual Core Processor']),\n",
    "                                    gr.Dropdown(['8 GB DDR4 RAM',\n",
    " '16 GB DDR4 RAM',\n",
    " '16 GB DDR5 RAM',\n",
    " '4 GB DDR4 RAM',\n",
    " '8 GB LPDDR4X RAM',\n",
    " '16 GB LPDDR4X RAM',\n",
    " '16 GB LPDDR5 RAM',\n",
    " '4 GB LPDDR4X RAM',\n",
    " '16 GB LPDDR4 RAM',\n",
    " '32 GB DDR5 RAM',\n",
    " '8 GB DDR5 RAM',\n",
    " '32 GB DDR4 RAM',\n",
    " '32 GB LPDDR4X RAM',\n",
    " '16 GB LPDDR3 RAM']),\n",
    "                                     gr.Dropdown(['64 bit Windows 11 Operating System',\n",
    " '64 bit Windows 10 Operating System',\n",
    " '32 bit Windows 11 Operating System',\n",
    " '64 bit DOS Operating System']),\n",
    "                                    gr.Dropdown(['256 GB SSD',\n",
    " '512 GB SSD',\n",
    " '1 TB HDD256 GB SSD',\n",
    " '1 TB SSD',\n",
    " '128 GB SSD',\n",
    " '1 TB HDD',\n",
    " '1 TB HDD512 GB SSD',\n",
    " '2 TB SSD'])],\n",
    "                                    outputs='number')\n",
    "\n",
    "\n"
   ]
  },
  {
   "cell_type": "code",
   "execution_count": 147,
   "id": "1fa397da",
   "metadata": {},
   "outputs": [
    {
     "name": "stdout",
     "output_type": "stream",
     "text": [
      "Running on local URL:  http://127.0.0.1:7860\n",
      "\n",
      "To create a public link, set `share=True` in `launch()`.\n"
     ]
    },
    {
     "data": {
      "text/html": [
       "<div><iframe src=\"http://127.0.0.1:7860/\" width=\"100%\" height=\"500\" allow=\"autoplay; camera; microphone; clipboard-read; clipboard-write;\" frameborder=\"0\" allowfullscreen></iframe></div>"
      ],
      "text/plain": [
       "<IPython.core.display.HTML object>"
      ]
     },
     "metadata": {},
     "output_type": "display_data"
    },
    {
     "name": "stderr",
     "output_type": "stream",
     "text": [
      "S:\\Anaconda\\lib\\site-packages\\sklearn\\base.py:493: FutureWarning: The feature names should match those that were passed during fit. Starting version 1.2, an error will be raised.\n",
      "Feature names unseen at fit time:\n",
      "- os\n",
      "- processor\n",
      "- ram\n",
      "- storage\n",
      "Feature names seen at fit time, yet now missing:\n",
      "- OS\n",
      "- Processor\n",
      "- RAM\n",
      "- Storage\n",
      "\n",
      "  warnings.warn(message, FutureWarning)\n",
      "S:\\Anaconda\\lib\\site-packages\\sklearn\\base.py:493: FutureWarning: The feature names should match those that were passed during fit. Starting version 1.2, an error will be raised.\n",
      "Feature names unseen at fit time:\n",
      "- os\n",
      "- processor\n",
      "- ram\n",
      "- storage\n",
      "Feature names seen at fit time, yet now missing:\n",
      "- OS\n",
      "- Processor\n",
      "- RAM\n",
      "- Storage\n",
      "\n",
      "  warnings.warn(message, FutureWarning)\n",
      "S:\\Anaconda\\lib\\site-packages\\sklearn\\base.py:493: FutureWarning: The feature names should match those that were passed during fit. Starting version 1.2, an error will be raised.\n",
      "Feature names unseen at fit time:\n",
      "- os\n",
      "- processor\n",
      "- ram\n",
      "- storage\n",
      "Feature names seen at fit time, yet now missing:\n",
      "- OS\n",
      "- Processor\n",
      "- RAM\n",
      "- Storage\n",
      "\n",
      "  warnings.warn(message, FutureWarning)\n"
     ]
    },
    {
     "name": "stdout",
     "output_type": "stream",
     "text": [
      "Keyboard interruption in main thread... closing server.\n"
     ]
    },
    {
     "data": {
      "text/plain": []
     },
     "execution_count": 147,
     "metadata": {},
     "output_type": "execute_result"
    }
   ],
   "source": [
    "pred.launch(debug=True)"
   ]
  },
  {
   "cell_type": "markdown",
   "id": "084d4d0e",
   "metadata": {},
   "source": [
    "### Business Insights"
   ]
  },
  {
   "cell_type": "markdown",
   "id": "125e0a61",
   "metadata": {},
   "source": [
    "- According to the analysis, companies like LENEVO, ASUS, HP, & DELL are ruling in the entire laptop market.\n",
    "- Around 50% of laptop price varies between 20000 to 50000.\n",
    "- If I talk about in premium segment like APPLE only 10% of laptop is above 150000.\n",
    "- I came into conclusion that in most of the laptops are having Intel core i3 processor, 64 bit Windows 11 Operating System , 8 GB RAM and 515 SSD.\n",
    "- APPLE, ASUS & DELL are having highest price among other companies."
   ]
  },
  {
   "cell_type": "code",
   "execution_count": null,
   "id": "14455f69",
   "metadata": {},
   "outputs": [],
   "source": []
  }
 ],
 "metadata": {
  "kernelspec": {
   "display_name": "Python 3 (ipykernel)",
   "language": "python",
   "name": "python3"
  },
  "language_info": {
   "codemirror_mode": {
    "name": "ipython",
    "version": 3
   },
   "file_extension": ".py",
   "mimetype": "text/x-python",
   "name": "python",
   "nbconvert_exporter": "python",
   "pygments_lexer": "ipython3",
   "version": "3.9.12"
  }
 },
 "nbformat": 4,
 "nbformat_minor": 5
}
